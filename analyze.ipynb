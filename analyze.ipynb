{
 "cells": [
  {
   "cell_type": "code",
   "execution_count": 1,
   "metadata": {},
   "outputs": [],
   "source": [
    "import pandas as pd\n",
    "import os\n",
    "import json\n",
    "import seaborn as sns"
   ]
  },
  {
   "cell_type": "code",
   "execution_count": 2,
   "metadata": {},
   "outputs": [
    {
     "data": {
      "text/html": [
       "<div>\n",
       "<style scoped>\n",
       "    .dataframe tbody tr th:only-of-type {\n",
       "        vertical-align: middle;\n",
       "    }\n",
       "\n",
       "    .dataframe tbody tr th {\n",
       "        vertical-align: top;\n",
       "    }\n",
       "\n",
       "    .dataframe thead th {\n",
       "        text-align: right;\n",
       "    }\n",
       "</style>\n",
       "<table border=\"1\" class=\"dataframe\">\n",
       "  <thead>\n",
       "    <tr style=\"text-align: right;\">\n",
       "      <th></th>\n",
       "      <th>track_id</th>\n",
       "      <th>track_name</th>\n",
       "      <th>track_url</th>\n",
       "      <th>track_popularity</th>\n",
       "      <th>album_id</th>\n",
       "      <th>album_name</th>\n",
       "      <th>countries</th>\n",
       "      <th>album_url</th>\n",
       "      <th>album_image</th>\n",
       "      <th>track_preview</th>\n",
       "      <th>...</th>\n",
       "      <th>loudness</th>\n",
       "      <th>mode</th>\n",
       "      <th>speechiness</th>\n",
       "      <th>acousticness</th>\n",
       "      <th>instrumentalness</th>\n",
       "      <th>liveness</th>\n",
       "      <th>valence</th>\n",
       "      <th>tempo</th>\n",
       "      <th>duration_ms</th>\n",
       "      <th>time_signature</th>\n",
       "    </tr>\n",
       "  </thead>\n",
       "  <tbody>\n",
       "    <tr>\n",
       "      <th>0</th>\n",
       "      <td>3eJMSq78dDaFb7VvhNFnq6</td>\n",
       "      <td>ADMV</td>\n",
       "      <td>https://open.spotify.com/track/3eJMSq78dDaFb7V...</td>\n",
       "      <td>68</td>\n",
       "      <td>6wUJI0qgwrwiYJhFr53Gaa</td>\n",
       "      <td>ADMV</td>\n",
       "      <td>China</td>\n",
       "      <td>https://open.spotify.com/album/6wUJI0qgwrwiYJh...</td>\n",
       "      <td>https://i.scdn.co/image/ab67616d0000b273adab96...</td>\n",
       "      <td>https://open.spotify.com/embed/track/3eJMSq78d...</td>\n",
       "      <td>...</td>\n",
       "      <td>-4.959</td>\n",
       "      <td>1</td>\n",
       "      <td>0.0556</td>\n",
       "      <td>0.817</td>\n",
       "      <td>0.0</td>\n",
       "      <td>0.126</td>\n",
       "      <td>0.708</td>\n",
       "      <td>163.781</td>\n",
       "      <td>193700</td>\n",
       "      <td>4</td>\n",
       "    </tr>\n",
       "    <tr>\n",
       "      <th>1</th>\n",
       "      <td>0Snbzbd74RLfL0i4nn1vU5</td>\n",
       "      <td>Favorito</td>\n",
       "      <td>https://open.spotify.com/track/0Snbzbd74RLfL0i...</td>\n",
       "      <td>65</td>\n",
       "      <td>5wb9Mx2yfXZzKYPzHp4fae</td>\n",
       "      <td>Favorito</td>\n",
       "      <td>China</td>\n",
       "      <td>https://open.spotify.com/album/5wb9Mx2yfXZzKYP...</td>\n",
       "      <td>https://i.scdn.co/image/ab67616d0000b273e8caae...</td>\n",
       "      <td>https://open.spotify.com/embed/track/0Snbzbd74...</td>\n",
       "      <td>...</td>\n",
       "      <td>-2.982</td>\n",
       "      <td>1</td>\n",
       "      <td>0.0598</td>\n",
       "      <td>0.229</td>\n",
       "      <td>0.0</td>\n",
       "      <td>0.232</td>\n",
       "      <td>0.823</td>\n",
       "      <td>178.032</td>\n",
       "      <td>211613</td>\n",
       "      <td>4</td>\n",
       "    </tr>\n",
       "    <tr>\n",
       "      <th>2</th>\n",
       "      <td>7k4t7uLgtOxPwTpFmtJNTY</td>\n",
       "      <td>Tusa</td>\n",
       "      <td>https://open.spotify.com/track/7k4t7uLgtOxPwTp...</td>\n",
       "      <td>76</td>\n",
       "      <td>7mKevNHhVnZER3BLgI8O4F</td>\n",
       "      <td>Tusa</td>\n",
       "      <td>China</td>\n",
       "      <td>https://open.spotify.com/album/7mKevNHhVnZER3B...</td>\n",
       "      <td>https://i.scdn.co/image/ab67616d0000b273ddd315...</td>\n",
       "      <td>https://open.spotify.com/embed/track/7k4t7uLgt...</td>\n",
       "      <td>...</td>\n",
       "      <td>-3.28</td>\n",
       "      <td>1</td>\n",
       "      <td>0.298</td>\n",
       "      <td>0.295</td>\n",
       "      <td>0.000134</td>\n",
       "      <td>0.0574</td>\n",
       "      <td>0.574</td>\n",
       "      <td>101.085</td>\n",
       "      <td>200960</td>\n",
       "      <td>4</td>\n",
       "    </tr>\n",
       "    <tr>\n",
       "      <th>3</th>\n",
       "      <td>4uziEsK1yiqdauKVDPsmVG</td>\n",
       "      <td>Rojo</td>\n",
       "      <td>https://open.spotify.com/track/4uziEsK1yiqdauK...</td>\n",
       "      <td>64</td>\n",
       "      <td>54lqxBRUg66EYNyqKSKU5C</td>\n",
       "      <td>Rojo</td>\n",
       "      <td>China</td>\n",
       "      <td>https://open.spotify.com/album/54lqxBRUg66EYNy...</td>\n",
       "      <td>https://i.scdn.co/image/ab67616d0000b273ead7b9...</td>\n",
       "      <td>https://open.spotify.com/embed/track/4uziEsK1y...</td>\n",
       "      <td>...</td>\n",
       "      <td>-4.04</td>\n",
       "      <td>1</td>\n",
       "      <td>0.113</td>\n",
       "      <td>0.15</td>\n",
       "      <td>0.000115</td>\n",
       "      <td>0.0842</td>\n",
       "      <td>0.444</td>\n",
       "      <td>172.27</td>\n",
       "      <td>150853</td>\n",
       "      <td>4</td>\n",
       "    </tr>\n",
       "    <tr>\n",
       "      <th>4</th>\n",
       "      <td>4Pu0a2TuHOYtI4CCE3HEXI</td>\n",
       "      <td>Sigues Con El - Remix</td>\n",
       "      <td>https://open.spotify.com/track/4Pu0a2TuHOYtI4C...</td>\n",
       "      <td>64</td>\n",
       "      <td>0vPG06qvqmD1XL1uAFysKM</td>\n",
       "      <td>Sigues Con El (Remix)</td>\n",
       "      <td>China</td>\n",
       "      <td>https://open.spotify.com/album/0vPG06qvqmD1XL1...</td>\n",
       "      <td>https://i.scdn.co/image/ab67616d0000b273d38e4b...</td>\n",
       "      <td>https://open.spotify.com/embed/track/4Pu0a2TuH...</td>\n",
       "      <td>...</td>\n",
       "      <td>-2.97</td>\n",
       "      <td>0</td>\n",
       "      <td>0.298</td>\n",
       "      <td>0.102</td>\n",
       "      <td>0.000003</td>\n",
       "      <td>0.0872</td>\n",
       "      <td>0.736</td>\n",
       "      <td>175.994</td>\n",
       "      <td>189567</td>\n",
       "      <td>4</td>\n",
       "    </tr>\n",
       "  </tbody>\n",
       "</table>\n",
       "<p>5 rows × 32 columns</p>\n",
       "</div>"
      ],
      "text/plain": [
       "                 track_id             track_name  \\\n",
       "0  3eJMSq78dDaFb7VvhNFnq6                   ADMV   \n",
       "1  0Snbzbd74RLfL0i4nn1vU5               Favorito   \n",
       "2  7k4t7uLgtOxPwTpFmtJNTY                   Tusa   \n",
       "3  4uziEsK1yiqdauKVDPsmVG                   Rojo   \n",
       "4  4Pu0a2TuHOYtI4CCE3HEXI  Sigues Con El - Remix   \n",
       "\n",
       "                                           track_url track_popularity  \\\n",
       "0  https://open.spotify.com/track/3eJMSq78dDaFb7V...               68   \n",
       "1  https://open.spotify.com/track/0Snbzbd74RLfL0i...               65   \n",
       "2  https://open.spotify.com/track/7k4t7uLgtOxPwTp...               76   \n",
       "3  https://open.spotify.com/track/4uziEsK1yiqdauK...               64   \n",
       "4  https://open.spotify.com/track/4Pu0a2TuHOYtI4C...               64   \n",
       "\n",
       "                 album_id             album_name countries  \\\n",
       "0  6wUJI0qgwrwiYJhFr53Gaa                   ADMV     China   \n",
       "1  5wb9Mx2yfXZzKYPzHp4fae               Favorito     China   \n",
       "2  7mKevNHhVnZER3BLgI8O4F                   Tusa     China   \n",
       "3  54lqxBRUg66EYNyqKSKU5C                   Rojo     China   \n",
       "4  0vPG06qvqmD1XL1uAFysKM  Sigues Con El (Remix)     China   \n",
       "\n",
       "                                           album_url  \\\n",
       "0  https://open.spotify.com/album/6wUJI0qgwrwiYJh...   \n",
       "1  https://open.spotify.com/album/5wb9Mx2yfXZzKYP...   \n",
       "2  https://open.spotify.com/album/7mKevNHhVnZER3B...   \n",
       "3  https://open.spotify.com/album/54lqxBRUg66EYNy...   \n",
       "4  https://open.spotify.com/album/0vPG06qvqmD1XL1...   \n",
       "\n",
       "                                         album_image  \\\n",
       "0  https://i.scdn.co/image/ab67616d0000b273adab96...   \n",
       "1  https://i.scdn.co/image/ab67616d0000b273e8caae...   \n",
       "2  https://i.scdn.co/image/ab67616d0000b273ddd315...   \n",
       "3  https://i.scdn.co/image/ab67616d0000b273ead7b9...   \n",
       "4  https://i.scdn.co/image/ab67616d0000b273d38e4b...   \n",
       "\n",
       "                                       track_preview  ... loudness mode  \\\n",
       "0  https://open.spotify.com/embed/track/3eJMSq78d...  ...   -4.959    1   \n",
       "1  https://open.spotify.com/embed/track/0Snbzbd74...  ...   -2.982    1   \n",
       "2  https://open.spotify.com/embed/track/7k4t7uLgt...  ...    -3.28    1   \n",
       "3  https://open.spotify.com/embed/track/4uziEsK1y...  ...    -4.04    1   \n",
       "4  https://open.spotify.com/embed/track/4Pu0a2TuH...  ...    -2.97    0   \n",
       "\n",
       "  speechiness acousticness instrumentalness liveness valence    tempo  \\\n",
       "0      0.0556        0.817              0.0    0.126   0.708  163.781   \n",
       "1      0.0598        0.229              0.0    0.232   0.823  178.032   \n",
       "2       0.298        0.295         0.000134   0.0574   0.574  101.085   \n",
       "3       0.113         0.15         0.000115   0.0842   0.444   172.27   \n",
       "4       0.298        0.102         0.000003   0.0872   0.736  175.994   \n",
       "\n",
       "  duration_ms time_signature  \n",
       "0      193700              4  \n",
       "1      211613              4  \n",
       "2      200960              4  \n",
       "3      150853              4  \n",
       "4      189567              4  \n",
       "\n",
       "[5 rows x 32 columns]"
      ]
     },
     "execution_count": 2,
     "metadata": {},
     "output_type": "execute_result"
    }
   ],
   "source": [
    "#read all json under \\\\Data governance\\\\data this path and combine them into one dataframe\n",
    "path = os.getcwd()+ '\\\\Data governance\\\\data'\n",
    "data_list = os.listdir(os.getcwd()+ '\\\\Data governance\\\\data') \n",
    "dfs = []\n",
    "for file in  data_list:\n",
    "    f = open('./Data governance/data/'+ file)\n",
    "    data1 = json.load(f)\n",
    "    df = pd.read_json(data1, orient ='index')\n",
    "    dfs.append(df.T)\n",
    "combined_df = pd.concat(dfs, ignore_index=True)\n",
    "combined_df.head()"
   ]
  },
  {
   "cell_type": "code",
   "execution_count": 14,
   "metadata": {},
   "outputs": [
    {
     "data": {
      "text/plain": [
       "False"
      ]
     },
     "execution_count": 14,
     "metadata": {},
     "output_type": "execute_result"
    }
   ],
   "source": [
    "combined_df['artist_id'].isnull().any()"
   ]
  },
  {
   "cell_type": "code",
   "execution_count": 15,
   "metadata": {},
   "outputs": [
    {
     "data": {
      "text/plain": [
       "False"
      ]
     },
     "execution_count": 15,
     "metadata": {},
     "output_type": "execute_result"
    }
   ],
   "source": [
    "combined_df['album_id'].isnull().any()"
   ]
  },
  {
   "cell_type": "code",
   "execution_count": 16,
   "metadata": {},
   "outputs": [
    {
     "data": {
      "text/plain": [
       "False"
      ]
     },
     "execution_count": 16,
     "metadata": {},
     "output_type": "execute_result"
    }
   ],
   "source": [
    "combined_df['track_id'].isnull().any()"
   ]
  },
  {
   "cell_type": "code",
   "execution_count": 21,
   "metadata": {},
   "outputs": [
    {
     "name": "stdout",
     "output_type": "stream",
     "text": [
      "Series([], Name: album_id, dtype: int64)\n"
     ]
    }
   ],
   "source": [
    "# Group by 'TrackID' and count the unique 'AlbumID' occurrences\n",
    "unique_album_counts = combined_df.groupby('track_id')['album_id'].nunique()\n",
    "\n",
    "# Check if any 'TrackID' has more than one unique 'AlbumID'\n",
    "multiple_albums = unique_album_counts[unique_album_counts > 1]\n",
    "\n",
    "print(multiple_albums)"
   ]
  },
  {
   "cell_type": "code",
   "execution_count": 22,
   "metadata": {},
   "outputs": [
    {
     "name": "stdout",
     "output_type": "stream",
     "text": [
      "Series([], Name: artist_id, dtype: int64)\n"
     ]
    }
   ],
   "source": [
    "# Group by 'track_id' and count the unique 'artist_id' occurrences\n",
    "unique_album_counts = combined_df.groupby('track_id')['artist_id'].nunique()\n",
    "\n",
    "# Check if any 'TrackID' has more than one unique 'AlbumID'\n",
    "multiple_albums = unique_album_counts[unique_album_counts > 1]\n",
    "\n",
    "print(multiple_albums)"
   ]
  },
  {
   "cell_type": "code",
   "execution_count": 23,
   "metadata": {},
   "outputs": [
    {
     "name": "stdout",
     "output_type": "stream",
     "text": [
      "Series([], Name: artist_id, dtype: int64)\n"
     ]
    }
   ],
   "source": [
    "# Group by 'album_id' and count the unique 'artist_id' occurrences\n",
    "unique_album_counts = combined_df.groupby('album_id')['artist_id'].nunique()\n",
    "\n",
    "# Check if any 'TrackID' has more than one unique 'AlbumID'\n",
    "multiple_albums = unique_album_counts[unique_album_counts > 1]\n",
    "\n",
    "print(multiple_albums)"
   ]
  },
  {
   "cell_type": "code",
   "execution_count": 27,
   "metadata": {},
   "outputs": [
    {
     "data": {
      "text/plain": [
       "Index(['track_id', 'track_name', 'track_url', 'track_popularity', 'album_id',\n",
       "       'album_name', 'countries', 'album_url', 'album_image', 'track_preview',\n",
       "       'artist_id', 'artist_name', 'artist_url', 'artist_image',\n",
       "       'artist_genre', 'artist_followers', 'artist_popularity', 'record_date',\n",
       "       'Country', 'danceability', 'energy', 'key', 'loudness', 'mode',\n",
       "       'speechiness', 'acousticness', 'instrumentalness', 'liveness',\n",
       "       'valence', 'tempo', 'duration_ms', 'time_signature'],\n",
       "      dtype='object')"
      ]
     },
     "execution_count": 27,
     "metadata": {},
     "output_type": "execute_result"
    }
   ],
   "source": [
    "combined_df.columns"
   ]
  },
  {
   "cell_type": "code",
   "execution_count": null,
   "metadata": {},
   "outputs": [],
   "source": []
  },
  {
   "attachments": {},
   "cell_type": "markdown",
   "metadata": {},
   "source": [
    "track( 'track_id', 'track_name', 'track_url', 'track_popularity', 'track_preview',)"
   ]
  }
 ],
 "metadata": {
  "kernelspec": {
   "display_name": "base",
   "language": "python",
   "name": "python3"
  },
  "language_info": {
   "codemirror_mode": {
    "name": "ipython",
    "version": 3
   },
   "file_extension": ".py",
   "mimetype": "text/x-python",
   "name": "python",
   "nbconvert_exporter": "python",
   "pygments_lexer": "ipython3",
   "version": "3.8.8"
  },
  "orig_nbformat": 4
 },
 "nbformat": 4,
 "nbformat_minor": 2
}
