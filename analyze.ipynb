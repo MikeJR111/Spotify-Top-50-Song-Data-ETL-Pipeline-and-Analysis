{
 "cells": [
  {
   "cell_type": "code",
   "execution_count": 33,
   "metadata": {},
   "outputs": [],
   "source": [
    "import pandas as pd\n",
    "pd.options.plotting.backend = \"plotly\"\n",
    "import os"
   ]
  },
  {
   "cell_type": "code",
   "execution_count": 9,
   "metadata": {},
   "outputs": [
    {
     "data": {
      "text/html": [
       "<div>\n",
       "<style scoped>\n",
       "    .dataframe tbody tr th:only-of-type {\n",
       "        vertical-align: middle;\n",
       "    }\n",
       "\n",
       "    .dataframe tbody tr th {\n",
       "        vertical-align: top;\n",
       "    }\n",
       "\n",
       "    .dataframe thead th {\n",
       "        text-align: right;\n",
       "    }\n",
       "</style>\n",
       "<table border=\"1\" class=\"dataframe\">\n",
       "  <thead>\n",
       "    <tr style=\"text-align: right;\">\n",
       "      <th></th>\n",
       "      <th>track_id</th>\n",
       "      <th>track_name</th>\n",
       "      <th>track_duration</th>\n",
       "      <th>track_url</th>\n",
       "      <th>track_popularity</th>\n",
       "      <th>album_id</th>\n",
       "      <th>album_name</th>\n",
       "      <th>album_type</th>\n",
       "      <th>album_tracks</th>\n",
       "      <th>album_url</th>\n",
       "      <th>...</th>\n",
       "      <th>loudness</th>\n",
       "      <th>mode</th>\n",
       "      <th>speechiness</th>\n",
       "      <th>acousticness</th>\n",
       "      <th>instrumentalness</th>\n",
       "      <th>liveness</th>\n",
       "      <th>valence</th>\n",
       "      <th>tempo</th>\n",
       "      <th>duration_ms</th>\n",
       "      <th>time_signature</th>\n",
       "    </tr>\n",
       "  </thead>\n",
       "  <tbody>\n",
       "    <tr>\n",
       "      <th>0</th>\n",
       "      <td>0DWdj2oZMBFSzRsi2Cvfzf</td>\n",
       "      <td>TQG</td>\n",
       "      <td>197933</td>\n",
       "      <td>https://open.spotify.com/track/0DWdj2oZMBFSzRs...</td>\n",
       "      <td>88</td>\n",
       "      <td>4kS7bSuU0Jm9LYMosFU2x5</td>\n",
       "      <td>MAÑANA SERÁ BONITO</td>\n",
       "      <td>album</td>\n",
       "      <td>17</td>\n",
       "      <td>https://open.spotify.com/album/4kS7bSuU0Jm9LYM...</td>\n",
       "      <td>...</td>\n",
       "      <td>-3.547</td>\n",
       "      <td>0</td>\n",
       "      <td>0.2770</td>\n",
       "      <td>0.6730</td>\n",
       "      <td>0.000000</td>\n",
       "      <td>0.0936</td>\n",
       "      <td>0.607</td>\n",
       "      <td>179.974</td>\n",
       "      <td>199440</td>\n",
       "      <td>4</td>\n",
       "    </tr>\n",
       "    <tr>\n",
       "      <th>1</th>\n",
       "      <td>7oDd86yk8itslrA9HRP2ki</td>\n",
       "      <td>Die For You - Remix</td>\n",
       "      <td>232857</td>\n",
       "      <td>https://open.spotify.com/track/7oDd86yk8itslrA...</td>\n",
       "      <td>88</td>\n",
       "      <td>6Exo0MYoL3XammoTDeihFy</td>\n",
       "      <td>Die For You (Remix)</td>\n",
       "      <td>single</td>\n",
       "      <td>1</td>\n",
       "      <td>https://open.spotify.com/album/6Exo0MYoL3Xammo...</td>\n",
       "      <td>...</td>\n",
       "      <td>-6.500</td>\n",
       "      <td>0</td>\n",
       "      <td>0.0671</td>\n",
       "      <td>0.2320</td>\n",
       "      <td>0.000000</td>\n",
       "      <td>0.4410</td>\n",
       "      <td>0.502</td>\n",
       "      <td>66.900</td>\n",
       "      <td>232857</td>\n",
       "      <td>4</td>\n",
       "    </tr>\n",
       "    <tr>\n",
       "      <th>2</th>\n",
       "      <td>0yLdNVWF3Srea0uzk55zFn</td>\n",
       "      <td>Flowers</td>\n",
       "      <td>200454</td>\n",
       "      <td>https://open.spotify.com/track/0yLdNVWF3Srea0u...</td>\n",
       "      <td>100</td>\n",
       "      <td>7I0tjwFtxUwBC1vgyeMAax</td>\n",
       "      <td>Flowers</td>\n",
       "      <td>single</td>\n",
       "      <td>1</td>\n",
       "      <td>https://open.spotify.com/album/7I0tjwFtxUwBC1v...</td>\n",
       "      <td>...</td>\n",
       "      <td>-4.325</td>\n",
       "      <td>1</td>\n",
       "      <td>0.0668</td>\n",
       "      <td>0.0632</td>\n",
       "      <td>0.000005</td>\n",
       "      <td>0.0322</td>\n",
       "      <td>0.646</td>\n",
       "      <td>117.999</td>\n",
       "      <td>200455</td>\n",
       "      <td>4</td>\n",
       "    </tr>\n",
       "    <tr>\n",
       "      <th>3</th>\n",
       "      <td>1Qrg8KqiBpW07V7PNxwwwL</td>\n",
       "      <td>Kill Bill</td>\n",
       "      <td>153946</td>\n",
       "      <td>https://open.spotify.com/track/1Qrg8KqiBpW07V7...</td>\n",
       "      <td>92</td>\n",
       "      <td>1nrVofqDRs7cpWXJ49qTnP</td>\n",
       "      <td>SOS</td>\n",
       "      <td>album</td>\n",
       "      <td>23</td>\n",
       "      <td>https://open.spotify.com/album/1nrVofqDRs7cpWX...</td>\n",
       "      <td>...</td>\n",
       "      <td>-5.747</td>\n",
       "      <td>1</td>\n",
       "      <td>0.0391</td>\n",
       "      <td>0.0521</td>\n",
       "      <td>0.144000</td>\n",
       "      <td>0.1610</td>\n",
       "      <td>0.418</td>\n",
       "      <td>88.980</td>\n",
       "      <td>153947</td>\n",
       "      <td>4</td>\n",
       "    </tr>\n",
       "    <tr>\n",
       "      <th>4</th>\n",
       "      <td>6AQbmUe0Qwf5PZnt4HmTXv</td>\n",
       "      <td>Boy's a liar Pt. 2</td>\n",
       "      <td>131013</td>\n",
       "      <td>https://open.spotify.com/track/6AQbmUe0Qwf5PZn...</td>\n",
       "      <td>93</td>\n",
       "      <td>6cVfHBcp3AdpYY0bBglkLN</td>\n",
       "      <td>Boy's a liar Pt. 2</td>\n",
       "      <td>single</td>\n",
       "      <td>2</td>\n",
       "      <td>https://open.spotify.com/album/6cVfHBcp3AdpYY0...</td>\n",
       "      <td>...</td>\n",
       "      <td>-8.254</td>\n",
       "      <td>1</td>\n",
       "      <td>0.0500</td>\n",
       "      <td>0.2520</td>\n",
       "      <td>0.000128</td>\n",
       "      <td>0.2480</td>\n",
       "      <td>0.857</td>\n",
       "      <td>132.962</td>\n",
       "      <td>131013</td>\n",
       "      <td>4</td>\n",
       "    </tr>\n",
       "  </tbody>\n",
       "</table>\n",
       "<p>5 rows × 31 columns</p>\n",
       "</div>"
      ],
      "text/plain": [
       "                 track_id           track_name  track_duration  \\\n",
       "0  0DWdj2oZMBFSzRsi2Cvfzf                  TQG          197933   \n",
       "1  7oDd86yk8itslrA9HRP2ki  Die For You - Remix          232857   \n",
       "2  0yLdNVWF3Srea0uzk55zFn              Flowers          200454   \n",
       "3  1Qrg8KqiBpW07V7PNxwwwL            Kill Bill          153946   \n",
       "4  6AQbmUe0Qwf5PZnt4HmTXv   Boy's a liar Pt. 2          131013   \n",
       "\n",
       "                                           track_url  track_popularity  \\\n",
       "0  https://open.spotify.com/track/0DWdj2oZMBFSzRs...                88   \n",
       "1  https://open.spotify.com/track/7oDd86yk8itslrA...                88   \n",
       "2  https://open.spotify.com/track/0yLdNVWF3Srea0u...               100   \n",
       "3  https://open.spotify.com/track/1Qrg8KqiBpW07V7...                92   \n",
       "4  https://open.spotify.com/track/6AQbmUe0Qwf5PZn...                93   \n",
       "\n",
       "                 album_id           album_name album_type  album_tracks  \\\n",
       "0  4kS7bSuU0Jm9LYMosFU2x5   MAÑANA SERÁ BONITO      album            17   \n",
       "1  6Exo0MYoL3XammoTDeihFy  Die For You (Remix)     single             1   \n",
       "2  7I0tjwFtxUwBC1vgyeMAax              Flowers     single             1   \n",
       "3  1nrVofqDRs7cpWXJ49qTnP                  SOS      album            23   \n",
       "4  6cVfHBcp3AdpYY0bBglkLN   Boy's a liar Pt. 2     single             2   \n",
       "\n",
       "                                           album_url  ... loudness mode  \\\n",
       "0  https://open.spotify.com/album/4kS7bSuU0Jm9LYM...  ...   -3.547    0   \n",
       "1  https://open.spotify.com/album/6Exo0MYoL3Xammo...  ...   -6.500    0   \n",
       "2  https://open.spotify.com/album/7I0tjwFtxUwBC1v...  ...   -4.325    1   \n",
       "3  https://open.spotify.com/album/1nrVofqDRs7cpWX...  ...   -5.747    1   \n",
       "4  https://open.spotify.com/album/6cVfHBcp3AdpYY0...  ...   -8.254    1   \n",
       "\n",
       "  speechiness acousticness instrumentalness  liveness  valence    tempo  \\\n",
       "0      0.2770       0.6730         0.000000    0.0936    0.607  179.974   \n",
       "1      0.0671       0.2320         0.000000    0.4410    0.502   66.900   \n",
       "2      0.0668       0.0632         0.000005    0.0322    0.646  117.999   \n",
       "3      0.0391       0.0521         0.144000    0.1610    0.418   88.980   \n",
       "4      0.0500       0.2520         0.000128    0.2480    0.857  132.962   \n",
       "\n",
       "   duration_ms  time_signature  \n",
       "0       199440               4  \n",
       "1       232857               4  \n",
       "2       200455               4  \n",
       "3       153947               4  \n",
       "4       131013               4  \n",
       "\n",
       "[5 rows x 31 columns]"
      ]
     },
     "execution_count": 9,
     "metadata": {},
     "output_type": "execute_result"
    }
   ],
   "source": [
    "path = os.getcwd()+ '\\\\Data governance\\\\data'\n",
    "data_list = os.listdir(os.getcwd()+ '\\\\Data governance\\\\data') \n",
    "dfs = []\n",
    "for file in  data_list:\n",
    "    df = pd.read_json(path+'\\\\'+file)\n",
    "    dfs.append(df)\n",
    "    combined_df = pd.concat(dfs, ignore_index=True)\n",
    "combined_df.head()"
   ]
  },
  {
   "cell_type": "code",
   "execution_count": 17,
   "metadata": {},
   "outputs": [
    {
     "data": {
      "text/plain": [
       "Index(['track_id', 'track_name', 'track_duration', 'track_url',\n",
       "       'track_popularity', 'album_id', 'album_name', 'album_type',\n",
       "       'album_tracks', 'album_url', 'album_release_date', 'artist_id',\n",
       "       'artist_name', 'artist_url', 'artist_genre', 'artist_followers',\n",
       "       'artist_popularity', 'record_date', 'danceability', 'energy', 'key',\n",
       "       'loudness', 'mode', 'speechiness', 'acousticness', 'instrumentalness',\n",
       "       'liveness', 'valence', 'tempo', 'duration_ms', 'time_signature'],\n",
       "      dtype='object')"
      ]
     },
     "execution_count": 17,
     "metadata": {},
     "output_type": "execute_result"
    }
   ],
   "source": [
    "combined_df.columns"
   ]
  },
  {
   "cell_type": "code",
   "execution_count": 18,
   "metadata": {},
   "outputs": [
    {
     "data": {
      "text/plain": [
       "track_id              0\n",
       "track_name            0\n",
       "track_duration        0\n",
       "track_url             0\n",
       "track_popularity      0\n",
       "album_id              0\n",
       "album_name            0\n",
       "album_type            0\n",
       "album_tracks          0\n",
       "album_url             0\n",
       "album_release_date    0\n",
       "artist_id             0\n",
       "artist_name           0\n",
       "artist_url            0\n",
       "artist_genre          0\n",
       "artist_followers      0\n",
       "artist_popularity     0\n",
       "record_date           0\n",
       "danceability          0\n",
       "energy                0\n",
       "key                   0\n",
       "loudness              0\n",
       "mode                  0\n",
       "speechiness           0\n",
       "acousticness          0\n",
       "instrumentalness      0\n",
       "liveness              0\n",
       "valence               0\n",
       "tempo                 0\n",
       "duration_ms           0\n",
       "time_signature        0\n",
       "dtype: int64"
      ]
     },
     "execution_count": 18,
     "metadata": {},
     "output_type": "execute_result"
    }
   ],
   "source": [
    "# check null value\n",
    "combined_df.isnull().sum()"
   ]
  },
  {
   "cell_type": "code",
   "execution_count": 19,
   "metadata": {},
   "outputs": [
    {
     "name": "stdout",
     "output_type": "stream",
     "text": [
      "track_id               object\n",
      "track_name             object\n",
      "track_duration          int64\n",
      "track_url              object\n",
      "track_popularity        int64\n",
      "album_id               object\n",
      "album_name             object\n",
      "album_type             object\n",
      "album_tracks            int64\n",
      "album_url              object\n",
      "album_release_date     object\n",
      "artist_id              object\n",
      "artist_name            object\n",
      "artist_url             object\n",
      "artist_genre           object\n",
      "artist_followers        int64\n",
      "artist_popularity       int64\n",
      "record_date            object\n",
      "danceability          float64\n",
      "energy                float64\n",
      "key                     int64\n",
      "loudness              float64\n",
      "mode                    int64\n",
      "speechiness           float64\n",
      "acousticness          float64\n",
      "instrumentalness      float64\n",
      "liveness              float64\n",
      "valence               float64\n",
      "tempo                 float64\n",
      "duration_ms             int64\n",
      "time_signature          int64\n",
      "dtype: object\n"
     ]
    }
   ],
   "source": [
    "#check data types\n",
    "print(combined_df.dtypes)"
   ]
  },
  {
   "cell_type": "code",
   "execution_count": 40,
   "metadata": {},
   "outputs": [
    {
     "data": {
      "application/vnd.plotly.v1+json": {
       "config": {
        "plotlyServerURL": "https://plot.ly"
       },
       "data": [
        {
         "alignmentgroup": "True",
         "hovertemplate": "Genre=%{x}<br>Counts=%{y}<extra></extra>",
         "legendgroup": "",
         "marker": {
          "color": "#636efa",
          "pattern": {
           "shape": ""
          }
         },
         "name": "",
         "offsetgroup": "",
         "orientation": "v",
         "showlegend": false,
         "textposition": "auto",
         "type": "bar",
         "x": [
          "reggaeton",
          "reggaeton colombiano",
          "urbano latino",
          "canadian contemporary r&b",
          "canadian pop",
          "pop",
          "r&b",
          "argentine hip hop",
          "pop venezolano",
          "trap argentino",
          "trap latino",
          "rap",
          "electro latino",
          "latin hip hop",
          "contemporary country",
          "uk pop",
          "nigerian pop",
          "alternative hip hop",
          "big room",
          "dance pop",
          "edm",
          "pop dance",
          "colombian pop",
          "latin pop",
          "k-pop",
          "k-rap",
          "uk contemporary r&b",
          "puerto rican pop",
          "bedroom pop",
          "k-pop girl group",
          "gen z singer-songwriter",
          "new jersey underground rap",
          "trap queen",
          "viral rap",
          "modern indie pop",
          "chill pop",
          "corrido",
          "corridos tumbados",
          "musica mexicana",
          "nueva musica mexicana",
          "sad sierreno",
          "sierreno",
          "piano rock",
          "pop reggaeton",
          "garage rock",
          "modern rock",
          "permanent wave",
          "rock",
          "sheffield indie",
          "melodic rap",
          "philly rap",
          "trap",
          "detroit hip hop",
          "hip hop",
          "sertanejo pop",
          "canadian hip hop",
          "toronto rap",
          "boston folk",
          "indie pop",
          "trap triste",
          "arrocha",
          "sertanejo",
          "mexican hip hop",
          "pop argentino",
          "reggaeton flow",
          "trap boricua",
          "brostep",
          "progressive electro house",
          "irish singer-songwriter",
          "r&b en espanol",
          "urbano mexicano"
         ],
         "xaxis": "x",
         "y": [
          166,
          122,
          272,
          81,
          91,
          413,
          85,
          51,
          51,
          62,
          99,
          105,
          12,
          69,
          28,
          27,
          24,
          21,
          24,
          86,
          25,
          25,
          66,
          27,
          44,
          9,
          24,
          24,
          31,
          35,
          24,
          24,
          24,
          24,
          24,
          24,
          61,
          46,
          28,
          61,
          72,
          48,
          24,
          42,
          24,
          45,
          24,
          45,
          24,
          21,
          21,
          21,
          21,
          31,
          3,
          10,
          10,
          23,
          23,
          21,
          1,
          1,
          21,
          3,
          4,
          14,
          1,
          1,
          1,
          3,
          3
         ],
         "yaxis": "y"
        }
       ],
       "layout": {
        "barmode": "relative",
        "legend": {
         "tracegroupgap": 0
        },
        "margin": {
         "t": 60
        },
        "template": {
         "data": {
          "bar": [
           {
            "error_x": {
             "color": "#2a3f5f"
            },
            "error_y": {
             "color": "#2a3f5f"
            },
            "marker": {
             "line": {
              "color": "#E5ECF6",
              "width": 0.5
             },
             "pattern": {
              "fillmode": "overlay",
              "size": 10,
              "solidity": 0.2
             }
            },
            "type": "bar"
           }
          ],
          "barpolar": [
           {
            "marker": {
             "line": {
              "color": "#E5ECF6",
              "width": 0.5
             },
             "pattern": {
              "fillmode": "overlay",
              "size": 10,
              "solidity": 0.2
             }
            },
            "type": "barpolar"
           }
          ],
          "carpet": [
           {
            "aaxis": {
             "endlinecolor": "#2a3f5f",
             "gridcolor": "white",
             "linecolor": "white",
             "minorgridcolor": "white",
             "startlinecolor": "#2a3f5f"
            },
            "baxis": {
             "endlinecolor": "#2a3f5f",
             "gridcolor": "white",
             "linecolor": "white",
             "minorgridcolor": "white",
             "startlinecolor": "#2a3f5f"
            },
            "type": "carpet"
           }
          ],
          "choropleth": [
           {
            "colorbar": {
             "outlinewidth": 0,
             "ticks": ""
            },
            "type": "choropleth"
           }
          ],
          "contour": [
           {
            "colorbar": {
             "outlinewidth": 0,
             "ticks": ""
            },
            "colorscale": [
             [
              0,
              "#0d0887"
             ],
             [
              0.1111111111111111,
              "#46039f"
             ],
             [
              0.2222222222222222,
              "#7201a8"
             ],
             [
              0.3333333333333333,
              "#9c179e"
             ],
             [
              0.4444444444444444,
              "#bd3786"
             ],
             [
              0.5555555555555556,
              "#d8576b"
             ],
             [
              0.6666666666666666,
              "#ed7953"
             ],
             [
              0.7777777777777778,
              "#fb9f3a"
             ],
             [
              0.8888888888888888,
              "#fdca26"
             ],
             [
              1,
              "#f0f921"
             ]
            ],
            "type": "contour"
           }
          ],
          "contourcarpet": [
           {
            "colorbar": {
             "outlinewidth": 0,
             "ticks": ""
            },
            "type": "contourcarpet"
           }
          ],
          "heatmap": [
           {
            "colorbar": {
             "outlinewidth": 0,
             "ticks": ""
            },
            "colorscale": [
             [
              0,
              "#0d0887"
             ],
             [
              0.1111111111111111,
              "#46039f"
             ],
             [
              0.2222222222222222,
              "#7201a8"
             ],
             [
              0.3333333333333333,
              "#9c179e"
             ],
             [
              0.4444444444444444,
              "#bd3786"
             ],
             [
              0.5555555555555556,
              "#d8576b"
             ],
             [
              0.6666666666666666,
              "#ed7953"
             ],
             [
              0.7777777777777778,
              "#fb9f3a"
             ],
             [
              0.8888888888888888,
              "#fdca26"
             ],
             [
              1,
              "#f0f921"
             ]
            ],
            "type": "heatmap"
           }
          ],
          "heatmapgl": [
           {
            "colorbar": {
             "outlinewidth": 0,
             "ticks": ""
            },
            "colorscale": [
             [
              0,
              "#0d0887"
             ],
             [
              0.1111111111111111,
              "#46039f"
             ],
             [
              0.2222222222222222,
              "#7201a8"
             ],
             [
              0.3333333333333333,
              "#9c179e"
             ],
             [
              0.4444444444444444,
              "#bd3786"
             ],
             [
              0.5555555555555556,
              "#d8576b"
             ],
             [
              0.6666666666666666,
              "#ed7953"
             ],
             [
              0.7777777777777778,
              "#fb9f3a"
             ],
             [
              0.8888888888888888,
              "#fdca26"
             ],
             [
              1,
              "#f0f921"
             ]
            ],
            "type": "heatmapgl"
           }
          ],
          "histogram": [
           {
            "marker": {
             "pattern": {
              "fillmode": "overlay",
              "size": 10,
              "solidity": 0.2
             }
            },
            "type": "histogram"
           }
          ],
          "histogram2d": [
           {
            "colorbar": {
             "outlinewidth": 0,
             "ticks": ""
            },
            "colorscale": [
             [
              0,
              "#0d0887"
             ],
             [
              0.1111111111111111,
              "#46039f"
             ],
             [
              0.2222222222222222,
              "#7201a8"
             ],
             [
              0.3333333333333333,
              "#9c179e"
             ],
             [
              0.4444444444444444,
              "#bd3786"
             ],
             [
              0.5555555555555556,
              "#d8576b"
             ],
             [
              0.6666666666666666,
              "#ed7953"
             ],
             [
              0.7777777777777778,
              "#fb9f3a"
             ],
             [
              0.8888888888888888,
              "#fdca26"
             ],
             [
              1,
              "#f0f921"
             ]
            ],
            "type": "histogram2d"
           }
          ],
          "histogram2dcontour": [
           {
            "colorbar": {
             "outlinewidth": 0,
             "ticks": ""
            },
            "colorscale": [
             [
              0,
              "#0d0887"
             ],
             [
              0.1111111111111111,
              "#46039f"
             ],
             [
              0.2222222222222222,
              "#7201a8"
             ],
             [
              0.3333333333333333,
              "#9c179e"
             ],
             [
              0.4444444444444444,
              "#bd3786"
             ],
             [
              0.5555555555555556,
              "#d8576b"
             ],
             [
              0.6666666666666666,
              "#ed7953"
             ],
             [
              0.7777777777777778,
              "#fb9f3a"
             ],
             [
              0.8888888888888888,
              "#fdca26"
             ],
             [
              1,
              "#f0f921"
             ]
            ],
            "type": "histogram2dcontour"
           }
          ],
          "mesh3d": [
           {
            "colorbar": {
             "outlinewidth": 0,
             "ticks": ""
            },
            "type": "mesh3d"
           }
          ],
          "parcoords": [
           {
            "line": {
             "colorbar": {
              "outlinewidth": 0,
              "ticks": ""
             }
            },
            "type": "parcoords"
           }
          ],
          "pie": [
           {
            "automargin": true,
            "type": "pie"
           }
          ],
          "scatter": [
           {
            "fillpattern": {
             "fillmode": "overlay",
             "size": 10,
             "solidity": 0.2
            },
            "type": "scatter"
           }
          ],
          "scatter3d": [
           {
            "line": {
             "colorbar": {
              "outlinewidth": 0,
              "ticks": ""
             }
            },
            "marker": {
             "colorbar": {
              "outlinewidth": 0,
              "ticks": ""
             }
            },
            "type": "scatter3d"
           }
          ],
          "scattercarpet": [
           {
            "marker": {
             "colorbar": {
              "outlinewidth": 0,
              "ticks": ""
             }
            },
            "type": "scattercarpet"
           }
          ],
          "scattergeo": [
           {
            "marker": {
             "colorbar": {
              "outlinewidth": 0,
              "ticks": ""
             }
            },
            "type": "scattergeo"
           }
          ],
          "scattergl": [
           {
            "marker": {
             "colorbar": {
              "outlinewidth": 0,
              "ticks": ""
             }
            },
            "type": "scattergl"
           }
          ],
          "scattermapbox": [
           {
            "marker": {
             "colorbar": {
              "outlinewidth": 0,
              "ticks": ""
             }
            },
            "type": "scattermapbox"
           }
          ],
          "scatterpolar": [
           {
            "marker": {
             "colorbar": {
              "outlinewidth": 0,
              "ticks": ""
             }
            },
            "type": "scatterpolar"
           }
          ],
          "scatterpolargl": [
           {
            "marker": {
             "colorbar": {
              "outlinewidth": 0,
              "ticks": ""
             }
            },
            "type": "scatterpolargl"
           }
          ],
          "scatterternary": [
           {
            "marker": {
             "colorbar": {
              "outlinewidth": 0,
              "ticks": ""
             }
            },
            "type": "scatterternary"
           }
          ],
          "surface": [
           {
            "colorbar": {
             "outlinewidth": 0,
             "ticks": ""
            },
            "colorscale": [
             [
              0,
              "#0d0887"
             ],
             [
              0.1111111111111111,
              "#46039f"
             ],
             [
              0.2222222222222222,
              "#7201a8"
             ],
             [
              0.3333333333333333,
              "#9c179e"
             ],
             [
              0.4444444444444444,
              "#bd3786"
             ],
             [
              0.5555555555555556,
              "#d8576b"
             ],
             [
              0.6666666666666666,
              "#ed7953"
             ],
             [
              0.7777777777777778,
              "#fb9f3a"
             ],
             [
              0.8888888888888888,
              "#fdca26"
             ],
             [
              1,
              "#f0f921"
             ]
            ],
            "type": "surface"
           }
          ],
          "table": [
           {
            "cells": {
             "fill": {
              "color": "#EBF0F8"
             },
             "line": {
              "color": "white"
             }
            },
            "header": {
             "fill": {
              "color": "#C8D4E3"
             },
             "line": {
              "color": "white"
             }
            },
            "type": "table"
           }
          ]
         },
         "layout": {
          "annotationdefaults": {
           "arrowcolor": "#2a3f5f",
           "arrowhead": 0,
           "arrowwidth": 1
          },
          "autotypenumbers": "strict",
          "coloraxis": {
           "colorbar": {
            "outlinewidth": 0,
            "ticks": ""
           }
          },
          "colorscale": {
           "diverging": [
            [
             0,
             "#8e0152"
            ],
            [
             0.1,
             "#c51b7d"
            ],
            [
             0.2,
             "#de77ae"
            ],
            [
             0.3,
             "#f1b6da"
            ],
            [
             0.4,
             "#fde0ef"
            ],
            [
             0.5,
             "#f7f7f7"
            ],
            [
             0.6,
             "#e6f5d0"
            ],
            [
             0.7,
             "#b8e186"
            ],
            [
             0.8,
             "#7fbc41"
            ],
            [
             0.9,
             "#4d9221"
            ],
            [
             1,
             "#276419"
            ]
           ],
           "sequential": [
            [
             0,
             "#0d0887"
            ],
            [
             0.1111111111111111,
             "#46039f"
            ],
            [
             0.2222222222222222,
             "#7201a8"
            ],
            [
             0.3333333333333333,
             "#9c179e"
            ],
            [
             0.4444444444444444,
             "#bd3786"
            ],
            [
             0.5555555555555556,
             "#d8576b"
            ],
            [
             0.6666666666666666,
             "#ed7953"
            ],
            [
             0.7777777777777778,
             "#fb9f3a"
            ],
            [
             0.8888888888888888,
             "#fdca26"
            ],
            [
             1,
             "#f0f921"
            ]
           ],
           "sequentialminus": [
            [
             0,
             "#0d0887"
            ],
            [
             0.1111111111111111,
             "#46039f"
            ],
            [
             0.2222222222222222,
             "#7201a8"
            ],
            [
             0.3333333333333333,
             "#9c179e"
            ],
            [
             0.4444444444444444,
             "#bd3786"
            ],
            [
             0.5555555555555556,
             "#d8576b"
            ],
            [
             0.6666666666666666,
             "#ed7953"
            ],
            [
             0.7777777777777778,
             "#fb9f3a"
            ],
            [
             0.8888888888888888,
             "#fdca26"
            ],
            [
             1,
             "#f0f921"
            ]
           ]
          },
          "colorway": [
           "#636efa",
           "#EF553B",
           "#00cc96",
           "#ab63fa",
           "#FFA15A",
           "#19d3f3",
           "#FF6692",
           "#B6E880",
           "#FF97FF",
           "#FECB52"
          ],
          "font": {
           "color": "#2a3f5f"
          },
          "geo": {
           "bgcolor": "white",
           "lakecolor": "white",
           "landcolor": "#E5ECF6",
           "showlakes": true,
           "showland": true,
           "subunitcolor": "white"
          },
          "hoverlabel": {
           "align": "left"
          },
          "hovermode": "closest",
          "mapbox": {
           "style": "light"
          },
          "paper_bgcolor": "white",
          "plot_bgcolor": "#E5ECF6",
          "polar": {
           "angularaxis": {
            "gridcolor": "white",
            "linecolor": "white",
            "ticks": ""
           },
           "bgcolor": "#E5ECF6",
           "radialaxis": {
            "gridcolor": "white",
            "linecolor": "white",
            "ticks": ""
           }
          },
          "scene": {
           "xaxis": {
            "backgroundcolor": "#E5ECF6",
            "gridcolor": "white",
            "gridwidth": 2,
            "linecolor": "white",
            "showbackground": true,
            "ticks": "",
            "zerolinecolor": "white"
           },
           "yaxis": {
            "backgroundcolor": "#E5ECF6",
            "gridcolor": "white",
            "gridwidth": 2,
            "linecolor": "white",
            "showbackground": true,
            "ticks": "",
            "zerolinecolor": "white"
           },
           "zaxis": {
            "backgroundcolor": "#E5ECF6",
            "gridcolor": "white",
            "gridwidth": 2,
            "linecolor": "white",
            "showbackground": true,
            "ticks": "",
            "zerolinecolor": "white"
           }
          },
          "shapedefaults": {
           "line": {
            "color": "#2a3f5f"
           }
          },
          "ternary": {
           "aaxis": {
            "gridcolor": "white",
            "linecolor": "white",
            "ticks": ""
           },
           "baxis": {
            "gridcolor": "white",
            "linecolor": "white",
            "ticks": ""
           },
           "bgcolor": "#E5ECF6",
           "caxis": {
            "gridcolor": "white",
            "linecolor": "white",
            "ticks": ""
           }
          },
          "title": {
           "x": 0.05
          },
          "xaxis": {
           "automargin": true,
           "gridcolor": "white",
           "linecolor": "white",
           "ticks": "",
           "title": {
            "standoff": 15
           },
           "zerolinecolor": "white",
           "zerolinewidth": 2
          },
          "yaxis": {
           "automargin": true,
           "gridcolor": "white",
           "linecolor": "white",
           "ticks": "",
           "title": {
            "standoff": 15
           },
           "zerolinecolor": "white",
           "zerolinewidth": 2
          }
         }
        },
        "xaxis": {
         "anchor": "y",
         "domain": [
          0,
          1
         ],
         "title": {
          "text": "Genre"
         }
        },
        "yaxis": {
         "anchor": "x",
         "domain": [
          0,
          1
         ],
         "title": {
          "text": "Counts"
         }
        }
       }
      }
     },
     "metadata": {},
     "output_type": "display_data"
    }
   ],
   "source": [
    "import plotly.express as px\n",
    "# Create an empty dictionary to store the genre counts\n",
    "genre_counts = {}\n",
    "for index, row in combined_df.iterrows():\n",
    "    for genre in row['artist_genre']:\n",
    "        if genre in genre_counts:\n",
    "            genre_counts[genre] += 1\n",
    "        else:\n",
    "            genre_counts[genre] = 1\n",
    "\n",
    "genre_counts = pd.DataFrame(genre_counts.items(), columns=['Genre', 'Counts'])\n",
    "\n",
    "genre_counts_fig_bar = px.bar(genre_counts, x='Genre', y='Counts')\n",
    "genre_counts_fig_bar.show()"
   ]
  },
  {
   "cell_type": "code",
   "execution_count": null,
   "metadata": {},
   "outputs": [],
   "source": [
    "genre_counts_fig_treemap = px.treemap(genre_counts, x='Genre', y='Counts')"
   ]
  },
  {
   "cell_type": "code",
   "execution_count": 26,
   "metadata": {},
   "outputs": [
    {
     "name": "stdout",
     "output_type": "stream",
     "text": [
      "artist_name\n",
      "AgroPlay             3\n",
      "Anuel AA             4\n",
      "Arctic Monkeys      24\n",
      "Arcángel            24\n",
      "Bad Bunny           10\n",
      "Bizarrap            51\n",
      "Carin Leon           3\n",
      "Cartel De Santa     21\n",
      "Chino Pacas          1\n",
      "Chris Brown         14\n",
      "Coi Leray           24\n",
      "David Guetta        24\n",
      "Drake               10\n",
      "Ed Sheeran           3\n",
      "Eladio Carrion      10\n",
      "Eminem              21\n",
      "Eslabon Armado      10\n",
      "FIFTY FIFTY          1\n",
      "Feid                42\n",
      "Fuerza Regida       10\n",
      "Gorillaz            21\n",
      "Harry Styles        24\n",
      "Hozier               1\n",
      "Imagine Dragons     21\n",
      "JVKE                24\n",
      "Jimin               17\n",
      "Junior H             1\n",
      "KAROL G             56\n",
      "LiL CaKe            11\n",
      "Lil Uzi Vert        21\n",
      "Lizzy McAlpine      23\n",
      "Manuel Turizo       24\n",
      "Marshmello           1\n",
      "Marília Mendonça     1\n",
      "Metro Boomin        29\n",
      "Miguel              23\n",
      "Miley Cyrus         31\n",
      "Morgan Wallen       28\n",
      "Natanael Cano       24\n",
      "NewJeans            35\n",
      "OneRepublic         24\n",
      "Oscar Maydon        13\n",
      "Ozuna               24\n",
      "Peso Pluma          24\n",
      "PinkPantheress      24\n",
      "RAYE                24\n",
      "ROSALÍA              3\n",
      "Rema                24\n",
      "SZA                 48\n",
      "Sam Smith           24\n",
      "Stephen Sanchez     24\n",
      "TINI                 3\n",
      "Taiu                 9\n",
      "Taylor Swift        34\n",
      "The Weeknd          81\n",
      "Tom Odell           24\n",
      "Yandel              24\n",
      "Yng Lvcas            3\n",
      "d4vd                31\n",
      "j-hope               9\n",
      "dtype: int64\n"
     ]
    }
   ],
   "source": [
    "#\n",
    "popular_artist=combined_df.groupby('artist_name').size()\n",
    "print(popular_artist)"
   ]
  },
  {
   "cell_type": "code",
   "execution_count": null,
   "metadata": {},
   "outputs": [],
   "source": []
  }
 ],
 "metadata": {
  "kernelspec": {
   "display_name": "base",
   "language": "python",
   "name": "python3"
  },
  "language_info": {
   "codemirror_mode": {
    "name": "ipython",
    "version": 3
   },
   "file_extension": ".py",
   "mimetype": "text/x-python",
   "name": "python",
   "nbconvert_exporter": "python",
   "pygments_lexer": "ipython3",
   "version": "3.8.8"
  },
  "orig_nbformat": 4
 },
 "nbformat": 4,
 "nbformat_minor": 2
}
