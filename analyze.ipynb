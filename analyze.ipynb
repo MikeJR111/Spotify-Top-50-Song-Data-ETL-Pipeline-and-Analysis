{
 "cells": [
  {
   "cell_type": "code",
   "execution_count": 1,
   "metadata": {},
   "outputs": [],
   "source": [
    "import pandas as pd\n",
    "pd.options.plotting.backend = \"plotly\"\n",
    "import os"
   ]
  },
  {
   "cell_type": "code",
   "execution_count": 9,
   "metadata": {},
   "outputs": [
    {
     "data": {
      "text/html": [
       "<div>\n",
       "<style scoped>\n",
       "    .dataframe tbody tr th:only-of-type {\n",
       "        vertical-align: middle;\n",
       "    }\n",
       "\n",
       "    .dataframe tbody tr th {\n",
       "        vertical-align: top;\n",
       "    }\n",
       "\n",
       "    .dataframe thead th {\n",
       "        text-align: right;\n",
       "    }\n",
       "</style>\n",
       "<table border=\"1\" class=\"dataframe\">\n",
       "  <thead>\n",
       "    <tr style=\"text-align: right;\">\n",
       "      <th></th>\n",
       "      <th>track_id</th>\n",
       "      <th>track_name</th>\n",
       "      <th>track_duration</th>\n",
       "      <th>track_url</th>\n",
       "      <th>track_popularity</th>\n",
       "      <th>album_id</th>\n",
       "      <th>album_name</th>\n",
       "      <th>album_type</th>\n",
       "      <th>album_tracks</th>\n",
       "      <th>album_url</th>\n",
       "      <th>...</th>\n",
       "      <th>loudness</th>\n",
       "      <th>mode</th>\n",
       "      <th>speechiness</th>\n",
       "      <th>acousticness</th>\n",
       "      <th>instrumentalness</th>\n",
       "      <th>liveness</th>\n",
       "      <th>valence</th>\n",
       "      <th>tempo</th>\n",
       "      <th>duration_ms</th>\n",
       "      <th>time_signature</th>\n",
       "    </tr>\n",
       "  </thead>\n",
       "  <tbody>\n",
       "    <tr>\n",
       "      <th>0</th>\n",
       "      <td>0DWdj2oZMBFSzRsi2Cvfzf</td>\n",
       "      <td>TQG</td>\n",
       "      <td>197933</td>\n",
       "      <td>https://open.spotify.com/track/0DWdj2oZMBFSzRs...</td>\n",
       "      <td>88</td>\n",
       "      <td>4kS7bSuU0Jm9LYMosFU2x5</td>\n",
       "      <td>MAÑANA SERÁ BONITO</td>\n",
       "      <td>album</td>\n",
       "      <td>17</td>\n",
       "      <td>https://open.spotify.com/album/4kS7bSuU0Jm9LYM...</td>\n",
       "      <td>...</td>\n",
       "      <td>-3.547</td>\n",
       "      <td>0</td>\n",
       "      <td>0.2770</td>\n",
       "      <td>0.6730</td>\n",
       "      <td>0.000000</td>\n",
       "      <td>0.0936</td>\n",
       "      <td>0.607</td>\n",
       "      <td>179.974</td>\n",
       "      <td>199440</td>\n",
       "      <td>4</td>\n",
       "    </tr>\n",
       "    <tr>\n",
       "      <th>1</th>\n",
       "      <td>7oDd86yk8itslrA9HRP2ki</td>\n",
       "      <td>Die For You - Remix</td>\n",
       "      <td>232857</td>\n",
       "      <td>https://open.spotify.com/track/7oDd86yk8itslrA...</td>\n",
       "      <td>88</td>\n",
       "      <td>6Exo0MYoL3XammoTDeihFy</td>\n",
       "      <td>Die For You (Remix)</td>\n",
       "      <td>single</td>\n",
       "      <td>1</td>\n",
       "      <td>https://open.spotify.com/album/6Exo0MYoL3Xammo...</td>\n",
       "      <td>...</td>\n",
       "      <td>-6.500</td>\n",
       "      <td>0</td>\n",
       "      <td>0.0671</td>\n",
       "      <td>0.2320</td>\n",
       "      <td>0.000000</td>\n",
       "      <td>0.4410</td>\n",
       "      <td>0.502</td>\n",
       "      <td>66.900</td>\n",
       "      <td>232857</td>\n",
       "      <td>4</td>\n",
       "    </tr>\n",
       "    <tr>\n",
       "      <th>2</th>\n",
       "      <td>0yLdNVWF3Srea0uzk55zFn</td>\n",
       "      <td>Flowers</td>\n",
       "      <td>200454</td>\n",
       "      <td>https://open.spotify.com/track/0yLdNVWF3Srea0u...</td>\n",
       "      <td>100</td>\n",
       "      <td>7I0tjwFtxUwBC1vgyeMAax</td>\n",
       "      <td>Flowers</td>\n",
       "      <td>single</td>\n",
       "      <td>1</td>\n",
       "      <td>https://open.spotify.com/album/7I0tjwFtxUwBC1v...</td>\n",
       "      <td>...</td>\n",
       "      <td>-4.325</td>\n",
       "      <td>1</td>\n",
       "      <td>0.0668</td>\n",
       "      <td>0.0632</td>\n",
       "      <td>0.000005</td>\n",
       "      <td>0.0322</td>\n",
       "      <td>0.646</td>\n",
       "      <td>117.999</td>\n",
       "      <td>200455</td>\n",
       "      <td>4</td>\n",
       "    </tr>\n",
       "    <tr>\n",
       "      <th>3</th>\n",
       "      <td>1Qrg8KqiBpW07V7PNxwwwL</td>\n",
       "      <td>Kill Bill</td>\n",
       "      <td>153946</td>\n",
       "      <td>https://open.spotify.com/track/1Qrg8KqiBpW07V7...</td>\n",
       "      <td>92</td>\n",
       "      <td>1nrVofqDRs7cpWXJ49qTnP</td>\n",
       "      <td>SOS</td>\n",
       "      <td>album</td>\n",
       "      <td>23</td>\n",
       "      <td>https://open.spotify.com/album/1nrVofqDRs7cpWX...</td>\n",
       "      <td>...</td>\n",
       "      <td>-5.747</td>\n",
       "      <td>1</td>\n",
       "      <td>0.0391</td>\n",
       "      <td>0.0521</td>\n",
       "      <td>0.144000</td>\n",
       "      <td>0.1610</td>\n",
       "      <td>0.418</td>\n",
       "      <td>88.980</td>\n",
       "      <td>153947</td>\n",
       "      <td>4</td>\n",
       "    </tr>\n",
       "    <tr>\n",
       "      <th>4</th>\n",
       "      <td>6AQbmUe0Qwf5PZnt4HmTXv</td>\n",
       "      <td>Boy's a liar Pt. 2</td>\n",
       "      <td>131013</td>\n",
       "      <td>https://open.spotify.com/track/6AQbmUe0Qwf5PZn...</td>\n",
       "      <td>93</td>\n",
       "      <td>6cVfHBcp3AdpYY0bBglkLN</td>\n",
       "      <td>Boy's a liar Pt. 2</td>\n",
       "      <td>single</td>\n",
       "      <td>2</td>\n",
       "      <td>https://open.spotify.com/album/6cVfHBcp3AdpYY0...</td>\n",
       "      <td>...</td>\n",
       "      <td>-8.254</td>\n",
       "      <td>1</td>\n",
       "      <td>0.0500</td>\n",
       "      <td>0.2520</td>\n",
       "      <td>0.000128</td>\n",
       "      <td>0.2480</td>\n",
       "      <td>0.857</td>\n",
       "      <td>132.962</td>\n",
       "      <td>131013</td>\n",
       "      <td>4</td>\n",
       "    </tr>\n",
       "  </tbody>\n",
       "</table>\n",
       "<p>5 rows × 31 columns</p>\n",
       "</div>"
      ],
      "text/plain": [
       "                 track_id           track_name  track_duration  \\\n",
       "0  0DWdj2oZMBFSzRsi2Cvfzf                  TQG          197933   \n",
       "1  7oDd86yk8itslrA9HRP2ki  Die For You - Remix          232857   \n",
       "2  0yLdNVWF3Srea0uzk55zFn              Flowers          200454   \n",
       "3  1Qrg8KqiBpW07V7PNxwwwL            Kill Bill          153946   \n",
       "4  6AQbmUe0Qwf5PZnt4HmTXv   Boy's a liar Pt. 2          131013   \n",
       "\n",
       "                                           track_url  track_popularity  \\\n",
       "0  https://open.spotify.com/track/0DWdj2oZMBFSzRs...                88   \n",
       "1  https://open.spotify.com/track/7oDd86yk8itslrA...                88   \n",
       "2  https://open.spotify.com/track/0yLdNVWF3Srea0u...               100   \n",
       "3  https://open.spotify.com/track/1Qrg8KqiBpW07V7...                92   \n",
       "4  https://open.spotify.com/track/6AQbmUe0Qwf5PZn...                93   \n",
       "\n",
       "                 album_id           album_name album_type  album_tracks  \\\n",
       "0  4kS7bSuU0Jm9LYMosFU2x5   MAÑANA SERÁ BONITO      album            17   \n",
       "1  6Exo0MYoL3XammoTDeihFy  Die For You (Remix)     single             1   \n",
       "2  7I0tjwFtxUwBC1vgyeMAax              Flowers     single             1   \n",
       "3  1nrVofqDRs7cpWXJ49qTnP                  SOS      album            23   \n",
       "4  6cVfHBcp3AdpYY0bBglkLN   Boy's a liar Pt. 2     single             2   \n",
       "\n",
       "                                           album_url  ... loudness mode  \\\n",
       "0  https://open.spotify.com/album/4kS7bSuU0Jm9LYM...  ...   -3.547    0   \n",
       "1  https://open.spotify.com/album/6Exo0MYoL3Xammo...  ...   -6.500    0   \n",
       "2  https://open.spotify.com/album/7I0tjwFtxUwBC1v...  ...   -4.325    1   \n",
       "3  https://open.spotify.com/album/1nrVofqDRs7cpWX...  ...   -5.747    1   \n",
       "4  https://open.spotify.com/album/6cVfHBcp3AdpYY0...  ...   -8.254    1   \n",
       "\n",
       "  speechiness acousticness instrumentalness  liveness  valence    tempo  \\\n",
       "0      0.2770       0.6730         0.000000    0.0936    0.607  179.974   \n",
       "1      0.0671       0.2320         0.000000    0.4410    0.502   66.900   \n",
       "2      0.0668       0.0632         0.000005    0.0322    0.646  117.999   \n",
       "3      0.0391       0.0521         0.144000    0.1610    0.418   88.980   \n",
       "4      0.0500       0.2520         0.000128    0.2480    0.857  132.962   \n",
       "\n",
       "   duration_ms  time_signature  \n",
       "0       199440               4  \n",
       "1       232857               4  \n",
       "2       200455               4  \n",
       "3       153947               4  \n",
       "4       131013               4  \n",
       "\n",
       "[5 rows x 31 columns]"
      ]
     },
     "execution_count": 9,
     "metadata": {},
     "output_type": "execute_result"
    }
   ],
   "source": [
    "path = os.getcwd()+ '\\\\Data governance\\\\data'\n",
    "data_list = os.listdir(os.getcwd()+ '\\\\Data governance\\\\data') \n",
    "dfs = []\n",
    "for file in  data_list:\n",
    "    df = pd.read_json(path+'\\\\'+file)\n",
    "    dfs.append(df)\n",
    "    combined_df = pd.concat(dfs, ignore_index=True)\n",
    "combined_df.head()"
   ]
  },
  {
   "cell_type": "code",
   "execution_count": 40,
   "metadata": {},
   "outputs": [
    {
     "data": {
      "application/vnd.plotly.v1+json": {
       "config": {
        "plotlyServerURL": "https://plot.ly"
       },
       "data": [
        {
         "alignmentgroup": "True",
         "hovertemplate": "Genre=%{x}<br>Counts=%{y}<extra></extra>",
         "legendgroup": "",
         "marker": {
          "color": "#636efa",
          "pattern": {
           "shape": ""
          }
         },
         "name": "",
         "offsetgroup": "",
         "orientation": "v",
         "showlegend": false,
         "textposition": "auto",
         "type": "bar",
         "x": [
          "reggaeton",
          "reggaeton colombiano",
          "urbano latino",
          "canadian contemporary r&b",
          "canadian pop",
          "pop",
          "r&b",
          "argentine hip hop",
          "pop venezolano",
          "trap argentino",
          "trap latino",
          "rap",
          "electro latino",
          "latin hip hop",
          "contemporary country",
          "uk pop",
          "nigerian pop",
          "alternative hip hop",
          "big room",
          "dance pop",
          "edm",
          "pop dance",
          "colombian pop",
          "latin pop",
          "k-pop",
          "k-rap",
          "uk contemporary r&b",
          "puerto rican pop",
          "bedroom pop",
          "k-pop girl group",
          "gen z singer-songwriter",
          "new jersey underground rap",
          "trap queen",
          "viral rap",
          "modern indie pop",
          "chill pop",
          "corrido",
          "corridos tumbados",
          "musica mexicana",
          "nueva musica mexicana",
          "sad sierreno",
          "sierreno",
          "piano rock",
          "pop reggaeton",
          "garage rock",
          "modern rock",
          "permanent wave",
          "rock",
          "sheffield indie",
          "melodic rap",
          "philly rap",
          "trap",
          "detroit hip hop",
          "hip hop",
          "sertanejo pop",
          "canadian hip hop",
          "toronto rap",
          "boston folk",
          "indie pop",
          "trap triste",
          "arrocha",
          "sertanejo",
          "mexican hip hop",
          "pop argentino",
          "reggaeton flow",
          "trap boricua",
          "brostep",
          "progressive electro house",
          "irish singer-songwriter",
          "r&b en espanol",
          "urbano mexicano"
         ],
         "xaxis": "x",
         "y": [
          166,
          122,
          272,
          81,
          91,
          413,
          85,
          51,
          51,
          62,
          99,
          105,
          12,
          69,
          28,
          27,
          24,
          21,
          24,
          86,
          25,
          25,
          66,
          27,
          44,
          9,
          24,
          24,
          31,
          35,
          24,
          24,
          24,
          24,
          24,
          24,
          61,
          46,
          28,
          61,
          72,
          48,
          24,
          42,
          24,
          45,
          24,
          45,
          24,
          21,
          21,
          21,
          21,
          31,
          3,
          10,
          10,
          23,
          23,
          21,
          1,
          1,
          21,
          3,
          4,
          14,
          1,
          1,
          1,
          3,
          3
         ],
         "yaxis": "y"
        }
       ],
       "layout": {
        "barmode": "relative",
        "legend": {
         "tracegroupgap": 0
        },
        "margin": {
         "t": 60
        },
        "template": {
         "data": {
          "bar": [
           {
            "error_x": {
             "color": "#2a3f5f"
            },
            "error_y": {
             "color": "#2a3f5f"
            },
            "marker": {
             "line": {
              "color": "#E5ECF6",
              "width": 0.5
             },
             "pattern": {
              "fillmode": "overlay",
              "size": 10,
              "solidity": 0.2
             }
            },
            "type": "bar"
           }
          ],
          "barpolar": [
           {
            "marker": {
             "line": {
              "color": "#E5ECF6",
              "width": 0.5
             },
             "pattern": {
              "fillmode": "overlay",
              "size": 10,
              "solidity": 0.2
             }
            },
            "type": "barpolar"
           }
          ],
          "carpet": [
           {
            "aaxis": {
             "endlinecolor": "#2a3f5f",
             "gridcolor": "white",
             "linecolor": "white",
             "minorgridcolor": "white",
             "startlinecolor": "#2a3f5f"
            },
            "baxis": {
             "endlinecolor": "#2a3f5f",
             "gridcolor": "white",
             "linecolor": "white",
             "minorgridcolor": "white",
             "startlinecolor": "#2a3f5f"
            },
            "type": "carpet"
           }
          ],
          "choropleth": [
           {
            "colorbar": {
             "outlinewidth": 0,
             "ticks": ""
            },
            "type": "choropleth"
           }
          ],
          "contour": [
           {
            "colorbar": {
             "outlinewidth": 0,
             "ticks": ""
            },
            "colorscale": [
             [
              0,
              "#0d0887"
             ],
             [
              0.1111111111111111,
              "#46039f"
             ],
             [
              0.2222222222222222,
              "#7201a8"
             ],
             [
              0.3333333333333333,
              "#9c179e"
             ],
             [
              0.4444444444444444,
              "#bd3786"
             ],
             [
              0.5555555555555556,
              "#d8576b"
             ],
             [
              0.6666666666666666,
              "#ed7953"
             ],
             [
              0.7777777777777778,
              "#fb9f3a"
             ],
             [
              0.8888888888888888,
              "#fdca26"
             ],
             [
              1,
              "#f0f921"
             ]
            ],
            "type": "contour"
           }
          ],
          "contourcarpet": [
           {
            "colorbar": {
             "outlinewidth": 0,
             "ticks": ""
            },
            "type": "contourcarpet"
           }
          ],
          "heatmap": [
           {
            "colorbar": {
             "outlinewidth": 0,
             "ticks": ""
            },
            "colorscale": [
             [
              0,
              "#0d0887"
             ],
             [
              0.1111111111111111,
              "#46039f"
             ],
             [
              0.2222222222222222,
              "#7201a8"
             ],
             [
              0.3333333333333333,
              "#9c179e"
             ],
             [
              0.4444444444444444,
              "#bd3786"
             ],
             [
              0.5555555555555556,
              "#d8576b"
             ],
             [
              0.6666666666666666,
              "#ed7953"
             ],
             [
              0.7777777777777778,
              "#fb9f3a"
             ],
             [
              0.8888888888888888,
              "#fdca26"
             ],
             [
              1,
              "#f0f921"
             ]
            ],
            "type": "heatmap"
           }
          ],
          "heatmapgl": [
           {
            "colorbar": {
             "outlinewidth": 0,
             "ticks": ""
            },
            "colorscale": [
             [
              0,
              "#0d0887"
             ],
             [
              0.1111111111111111,
              "#46039f"
             ],
             [
              0.2222222222222222,
              "#7201a8"
             ],
             [
              0.3333333333333333,
              "#9c179e"
             ],
             [
              0.4444444444444444,
              "#bd3786"
             ],
             [
              0.5555555555555556,
              "#d8576b"
             ],
             [
              0.6666666666666666,
              "#ed7953"
             ],
             [
              0.7777777777777778,
              "#fb9f3a"
             ],
             [
              0.8888888888888888,
              "#fdca26"
             ],
             [
              1,
              "#f0f921"
             ]
            ],
            "type": "heatmapgl"
           }
          ],
          "histogram": [
           {
            "marker": {
             "pattern": {
              "fillmode": "overlay",
              "size": 10,
              "solidity": 0.2
             }
            },
            "type": "histogram"
           }
          ],
          "histogram2d": [
           {
            "colorbar": {
             "outlinewidth": 0,
             "ticks": ""
            },
            "colorscale": [
             [
              0,
              "#0d0887"
             ],
             [
              0.1111111111111111,
              "#46039f"
             ],
             [
              0.2222222222222222,
              "#7201a8"
             ],
             [
              0.3333333333333333,
              "#9c179e"
             ],
             [
              0.4444444444444444,
              "#bd3786"
             ],
             [
              0.5555555555555556,
              "#d8576b"
             ],
             [
              0.6666666666666666,
              "#ed7953"
             ],
             [
              0.7777777777777778,
              "#fb9f3a"
             ],
             [
              0.8888888888888888,
              "#fdca26"
             ],
             [
              1,
              "#f0f921"
             ]
            ],
            "type": "histogram2d"
           }
          ],
          "histogram2dcontour": [
           {
            "colorbar": {
             "outlinewidth": 0,
             "ticks": ""
            },
            "colorscale": [
             [
              0,
              "#0d0887"
             ],
             [
              0.1111111111111111,
              "#46039f"
             ],
             [
              0.2222222222222222,
              "#7201a8"
             ],
             [
              0.3333333333333333,
              "#9c179e"
             ],
             [
              0.4444444444444444,
              "#bd3786"
             ],
             [
              0.5555555555555556,
              "#d8576b"
             ],
             [
              0.6666666666666666,
              "#ed7953"
             ],
             [
              0.7777777777777778,
              "#fb9f3a"
             ],
             [
              0.8888888888888888,
              "#fdca26"
             ],
             [
              1,
              "#f0f921"
             ]
            ],
            "type": "histogram2dcontour"
           }
          ],
          "mesh3d": [
           {
            "colorbar": {
             "outlinewidth": 0,
             "ticks": ""
            },
            "type": "mesh3d"
           }
          ],
          "parcoords": [
           {
            "line": {
             "colorbar": {
              "outlinewidth": 0,
              "ticks": ""
             }
            },
            "type": "parcoords"
           }
          ],
          "pie": [
           {
            "automargin": true,
            "type": "pie"
           }
          ],
          "scatter": [
           {
            "fillpattern": {
             "fillmode": "overlay",
             "size": 10,
             "solidity": 0.2
            },
            "type": "scatter"
           }
          ],
          "scatter3d": [
           {
            "line": {
             "colorbar": {
              "outlinewidth": 0,
              "ticks": ""
             }
            },
            "marker": {
             "colorbar": {
              "outlinewidth": 0,
              "ticks": ""
             }
            },
            "type": "scatter3d"
           }
          ],
          "scattercarpet": [
           {
            "marker": {
             "colorbar": {
              "outlinewidth": 0,
              "ticks": ""
             }
            },
            "type": "scattercarpet"
           }
          ],
          "scattergeo": [
           {
            "marker": {
             "colorbar": {
              "outlinewidth": 0,
              "ticks": ""
             }
            },
            "type": "scattergeo"
           }
          ],
          "scattergl": [
           {
            "marker": {
             "colorbar": {
              "outlinewidth": 0,
              "ticks": ""
             }
            },
            "type": "scattergl"
           }
          ],
          "scattermapbox": [
           {
            "marker": {
             "colorbar": {
              "outlinewidth": 0,
              "ticks": ""
             }
            },
            "type": "scattermapbox"
           }
          ],
          "scatterpolar": [
           {
            "marker": {
             "colorbar": {
              "outlinewidth": 0,
              "ticks": ""
             }
            },
            "type": "scatterpolar"
           }
          ],
          "scatterpolargl": [
           {
            "marker": {
             "colorbar": {
              "outlinewidth": 0,
              "ticks": ""
             }
            },
            "type": "scatterpolargl"
           }
          ],
          "scatterternary": [
           {
            "marker": {
             "colorbar": {
              "outlinewidth": 0,
              "ticks": ""
             }
            },
            "type": "scatterternary"
           }
          ],
          "surface": [
           {
            "colorbar": {
             "outlinewidth": 0,
             "ticks": ""
            },
            "colorscale": [
             [
              0,
              "#0d0887"
             ],
             [
              0.1111111111111111,
              "#46039f"
             ],
             [
              0.2222222222222222,
              "#7201a8"
             ],
             [
              0.3333333333333333,
              "#9c179e"
             ],
             [
              0.4444444444444444,
              "#bd3786"
             ],
             [
              0.5555555555555556,
              "#d8576b"
             ],
             [
              0.6666666666666666,
              "#ed7953"
             ],
             [
              0.7777777777777778,
              "#fb9f3a"
             ],
             [
              0.8888888888888888,
              "#fdca26"
             ],
             [
              1,
              "#f0f921"
             ]
            ],
            "type": "surface"
           }
          ],
          "table": [
           {
            "cells": {
             "fill": {
              "color": "#EBF0F8"
             },
             "line": {
              "color": "white"
             }
            },
            "header": {
             "fill": {
              "color": "#C8D4E3"
             },
             "line": {
              "color": "white"
             }
            },
            "type": "table"
           }
          ]
         },
         "layout": {
          "annotationdefaults": {
           "arrowcolor": "#2a3f5f",
           "arrowhead": 0,
           "arrowwidth": 1
          },
          "autotypenumbers": "strict",
          "coloraxis": {
           "colorbar": {
            "outlinewidth": 0,
            "ticks": ""
           }
          },
          "colorscale": {
           "diverging": [
            [
             0,
             "#8e0152"
            ],
            [
             0.1,
             "#c51b7d"
            ],
            [
             0.2,
             "#de77ae"
            ],
            [
             0.3,
             "#f1b6da"
            ],
            [
             0.4,
             "#fde0ef"
            ],
            [
             0.5,
             "#f7f7f7"
            ],
            [
             0.6,
             "#e6f5d0"
            ],
            [
             0.7,
             "#b8e186"
            ],
            [
             0.8,
             "#7fbc41"
            ],
            [
             0.9,
             "#4d9221"
            ],
            [
             1,
             "#276419"
            ]
           ],
           "sequential": [
            [
             0,
             "#0d0887"
            ],
            [
             0.1111111111111111,
             "#46039f"
            ],
            [
             0.2222222222222222,
             "#7201a8"
            ],
            [
             0.3333333333333333,
             "#9c179e"
            ],
            [
             0.4444444444444444,
             "#bd3786"
            ],
            [
             0.5555555555555556,
             "#d8576b"
            ],
            [
             0.6666666666666666,
             "#ed7953"
            ],
            [
             0.7777777777777778,
             "#fb9f3a"
            ],
            [
             0.8888888888888888,
             "#fdca26"
            ],
            [
             1,
             "#f0f921"
            ]
           ],
           "sequentialminus": [
            [
             0,
             "#0d0887"
            ],
            [
             0.1111111111111111,
             "#46039f"
            ],
            [
             0.2222222222222222,
             "#7201a8"
            ],
            [
             0.3333333333333333,
             "#9c179e"
            ],
            [
             0.4444444444444444,
             "#bd3786"
            ],
            [
             0.5555555555555556,
             "#d8576b"
            ],
            [
             0.6666666666666666,
             "#ed7953"
            ],
            [
             0.7777777777777778,
             "#fb9f3a"
            ],
            [
             0.8888888888888888,
             "#fdca26"
            ],
            [
             1,
             "#f0f921"
            ]
           ]
          },
          "colorway": [
           "#636efa",
           "#EF553B",
           "#00cc96",
           "#ab63fa",
           "#FFA15A",
           "#19d3f3",
           "#FF6692",
           "#B6E880",
           "#FF97FF",
           "#FECB52"
          ],
          "font": {
           "color": "#2a3f5f"
          },
          "geo": {
           "bgcolor": "white",
           "lakecolor": "white",
           "landcolor": "#E5ECF6",
           "showlakes": true,
           "showland": true,
           "subunitcolor": "white"
          },
          "hoverlabel": {
           "align": "left"
          },
          "hovermode": "closest",
          "mapbox": {
           "style": "light"
          },
          "paper_bgcolor": "white",
          "plot_bgcolor": "#E5ECF6",
          "polar": {
           "angularaxis": {
            "gridcolor": "white",
            "linecolor": "white",
            "ticks": ""
           },
           "bgcolor": "#E5ECF6",
           "radialaxis": {
            "gridcolor": "white",
            "linecolor": "white",
            "ticks": ""
           }
          },
          "scene": {
           "xaxis": {
            "backgroundcolor": "#E5ECF6",
            "gridcolor": "white",
            "gridwidth": 2,
            "linecolor": "white",
            "showbackground": true,
            "ticks": "",
            "zerolinecolor": "white"
           },
           "yaxis": {
            "backgroundcolor": "#E5ECF6",
            "gridcolor": "white",
            "gridwidth": 2,
            "linecolor": "white",
            "showbackground": true,
            "ticks": "",
            "zerolinecolor": "white"
           },
           "zaxis": {
            "backgroundcolor": "#E5ECF6",
            "gridcolor": "white",
            "gridwidth": 2,
            "linecolor": "white",
            "showbackground": true,
            "ticks": "",
            "zerolinecolor": "white"
           }
          },
          "shapedefaults": {
           "line": {
            "color": "#2a3f5f"
           }
          },
          "ternary": {
           "aaxis": {
            "gridcolor": "white",
            "linecolor": "white",
            "ticks": ""
           },
           "baxis": {
            "gridcolor": "white",
            "linecolor": "white",
            "ticks": ""
           },
           "bgcolor": "#E5ECF6",
           "caxis": {
            "gridcolor": "white",
            "linecolor": "white",
            "ticks": ""
           }
          },
          "title": {
           "x": 0.05
          },
          "xaxis": {
           "automargin": true,
           "gridcolor": "white",
           "linecolor": "white",
           "ticks": "",
           "title": {
            "standoff": 15
           },
           "zerolinecolor": "white",
           "zerolinewidth": 2
          },
          "yaxis": {
           "automargin": true,
           "gridcolor": "white",
           "linecolor": "white",
           "ticks": "",
           "title": {
            "standoff": 15
           },
           "zerolinecolor": "white",
           "zerolinewidth": 2
          }
         }
        },
        "xaxis": {
         "anchor": "y",
         "domain": [
          0,
          1
         ],
         "title": {
          "text": "Genre"
         }
        },
        "yaxis": {
         "anchor": "x",
         "domain": [
          0,
          1
         ],
         "title": {
          "text": "Counts"
         }
        }
       }
      }
     },
     "metadata": {},
     "output_type": "display_data"
    }
   ],
   "source": [
    "import plotly.express as px\n",
    "# Create an empty dictionary to store the genre counts\n",
    "genre_counts = {}\n",
    "for index, row in combined_df.iterrows():\n",
    "    for genre in row['artist_genre']:\n",
    "        if genre in genre_counts:\n",
    "            genre_counts[genre] += 1\n",
    "        else:\n",
    "            genre_counts[genre] = 1\n",
    "\n",
    "genre_counts = pd.DataFrame(genre_counts.items(), columns=['Genre', 'Counts'])\n",
    "\n",
    "genre_counts_fig_bar = px.bar(genre_counts, x='Genre', y='Counts')\n",
    "genre_counts_fig_bar.show()"
   ]
  },
  {
   "cell_type": "code",
   "execution_count": null,
   "metadata": {},
   "outputs": [],
   "source": [
    "genre_counts_fig_treemap = px.treemap(genre_counts, x='Genre', y='Counts')"
   ]
  },
  {
   "cell_type": "code",
   "execution_count": 54,
   "metadata": {},
   "outputs": [
    {
     "data": {
      "text/plain": [
       "['reggaeton', 'reggaeton colombiano', 'urbano latino']"
      ]
     },
     "execution_count": 54,
     "metadata": {},
     "output_type": "execute_result"
    }
   ],
   "source": [
    "x = combined_df['artist_genre'][0]\n",
    "genre = []\n",
    "for i in x:\n",
    "    "
   ]
  },
  {
   "cell_type": "code",
   "execution_count": 6,
   "metadata": {},
   "outputs": [],
   "source": [
    "def find_genre(original_list):\n",
    "    new_list = []\n",
    "    for item in original_list:\n",
    "        if \" \" in item:\n",
    "            new_list.extend(item.split())\n",
    "        else:\n",
    "            new_list.append(item)\n",
    "\n",
    "    counts = {}\n",
    "    for word in new_list:\n",
    "        if word in counts:\n",
    "            counts[word] += 1\n",
    "        else:\n",
    "            counts[word] = 1\n",
    "\n",
    "    most_common_word = max(counts, key=counts.get)\n",
    "    return most_common_word"
   ]
  },
  {
   "cell_type": "code",
   "execution_count": 17,
   "metadata": {},
   "outputs": [
    {
     "data": {
      "text/plain": [
       "Index(['track_id', 'track_name', 'track_url', 'track_popularity', 'album_id',\n",
       "       'album_name', 'countries', 'album_url', 'album_image', 'track_preview',\n",
       "       'artist_id', 'artist_name', 'artist_url', 'artist_image',\n",
       "       'artist_genre', 'artist_followers', 'artist_popularity', 'record_date',\n",
       "       'Country', 'danceability', 'energy', 'key', 'loudness', 'mode',\n",
       "       'speechiness', 'acousticness', 'instrumentalness', 'liveness',\n",
       "       'valence', 'tempo', 'duration_ms', 'time_signature'],\n",
       "      dtype='object')"
      ]
     },
     "execution_count": 17,
     "metadata": {},
     "output_type": "execute_result"
    }
   ],
   "source": [
    "import spotipy\n",
    "from spotipy.oauth2 import SpotifyClientCredentials\n",
    "import pandas  as pd\n",
    "import datetime\n",
    "import pandas as pd\n",
    "\n",
    "#get current date\n",
    "now = datetime.datetime.now()\n",
    "year = '{:02d}'.format(now.year)\n",
    "month = '{:02d}'.format(now.month)\n",
    "day = '{:02d}'.format(now.day)\n",
    "day_month_year = '{}-{}-{}'.format(year, month, day)\n",
    "\n",
    "\n",
    "\n",
    "\n",
    "# Step 1: Get your Spotify API credentials\n",
    "CLIENT_ID = '3fa80f8d0ff24766a26fd841fd7ca295'\n",
    "CLIENT_SECRET = 'ba3e3093e101486d88d1a7ce2f2f693c'\n",
    "\n",
    "# Step 2: Authenticate with the Spotify API\n",
    "client_credentials_manager = SpotifyClientCredentials(\n",
    "    client_id=CLIENT_ID, \n",
    "    client_secret=CLIENT_SECRET\n",
    ")\n",
    "sp = spotipy.Spotify(client_credentials_manager=client_credentials_manager)\n",
    "\n",
    "# Step 3: Get the top 10 tracks for each country\n",
    "countries = ['China', 'India', 'United States', 'Indonesia', 'Pakistan', 'Brazil', 'Nigeria', \n",
    "             'Bangladesh', 'Russia', 'Mexico', 'Japan', 'Ethiopia', 'Philippines', 'Egypt', \n",
    "             'Vietnam', 'United Kingdom', 'France', 'Gernman', 'Australia']\n",
    "\n",
    "country_codes = ['CN', 'IN', 'US', 'ID', 'PK', 'BR', 'NG', 'BD', 'RU', 'MX', 'JP', 'ET', \n",
    "                 'PH', 'EG', 'VN','UK', 'FR', 'DE', 'AU']\n",
    "country_df = pd.DataFrame(\n",
    "    {'country': countries,\n",
    "     'country_code': country_codes\n",
    "    })\n",
    "\n",
    "tracks = {}\n",
    "country_dfs = []\n",
    "c = 0\n",
    "for country in country_codes:\n",
    "    df = []\n",
    "    audio_features = []\n",
    "    playlist_id = sp.search(q=f'top 50 {country}', type='playlist')['playlists']['items'][0]['id']\n",
    "    playlist_tracks = sp.playlist_tracks(playlist_id, limit=50)['items']\n",
    "    for r in playlist_tracks:\n",
    "        song_id = r['track']['id']\n",
    "        song_name = r['track']['name']\n",
    "\n",
    "        song_url = r['track']['external_urls']['spotify']\n",
    "\n",
    "        song_popularity = r['track']['popularity']\n",
    "\n",
    "        album_id = r['track']['album']['id']\n",
    "\n",
    "        album_name = r['track']['album']['name']\n",
    "        album_url = r['track']['album']['external_urls']['spotify']\n",
    "        artist_id = r['track']['album']['artists'][0]['id']\n",
    "        track_preview = 'https://open.spotify.com/embed/track/'+ song_id\n",
    "        try:\n",
    "            album_image= r['track']['album']['images'][0]['url']\n",
    "        except:\n",
    "            try:\n",
    "                album_image = 'Null'\n",
    "            except:\n",
    "                print('both code failed')\n",
    "        artist_name = r['track']['album']['artists'][0]['name']\n",
    "        results = sp.search(q = artist_name, type = 'artist')['artists']['items'][0]\n",
    "        \n",
    "        artist_type = results['genres']\n",
    "        artist_followers = results['followers']['total']\n",
    "        artist_popularity = results['popularity']\n",
    "        artist_url = r['track']['album']['artists'][0]['external_urls']['spotify']\n",
    "\n",
    "        try:\n",
    "            artist_image = results['images'][0]['url']\n",
    "        except:\n",
    "            try:\n",
    "                artist_image = 'Null'\n",
    "            except:\n",
    "                print('both code failed')\n",
    "        record_date = day_month_year\n",
    "        if len(artist_type) != 0 :\n",
    "            genre = find_genre(artist_type)\n",
    "        else:\n",
    "            genre = 'Null'\n",
    "        attribute = {'track_id': song_id,'track_name':song_name,'track_url':song_url,\n",
    "                    'track_popularity':song_popularity, \n",
    "                    'album_id':album_id , 'album_name': album_name , 'countries':countries[c],\n",
    "                    'album_url':album_url, 'album_image': album_image, 'track_preview' : track_preview,\n",
    "                    'artist_id':artist_id , 'artist_name': artist_name, 'artist_url':artist_url, 'artist_image' :artist_image,\n",
    "                    'artist_genre':genre, 'artist_followers': artist_followers, 'artist_popularity':artist_popularity,'record_date':record_date,\n",
    "                    'Country': country\n",
    "            }\n",
    "\n",
    "        df.append(attribute)\n",
    "        feature = sp.audio_features(song_url)[0]\n",
    "        audio_features.append(feature)\n",
    "    c = c +1\n",
    "    # remove some attributes    \n",
    "    rem_list = ['id', 'track_href','uri','type','analysis_url']\n",
    "    for row in audio_features:\n",
    "        for key in rem_list:\n",
    "            if key in row:\n",
    "                del row[key]\n",
    "    final_df = []\n",
    "    for i in range(len(audio_features)):\n",
    "        res = {**df[i],**audio_features[i]}\n",
    "        final_df.append(res)                \n",
    "    country_dfs.append(pd.DataFrame(final_df))\n",
    "track_by_country = pd.concat(country_dfs, ignore_index=True)\n",
    "track_by_country.columns\n"
   ]
  },
  {
   "cell_type": "code",
   "execution_count": 18,
   "metadata": {},
   "outputs": [],
   "source": [
    "track_by_country.to_excel('spotify_'+day_month_year + '.xlsx')"
   ]
  },
  {
   "cell_type": "code",
   "execution_count": 16,
   "metadata": {},
   "outputs": [
    {
     "data": {
      "text/plain": [
       "<bound method IndexOpsMixin.value_counts of 0      68\n",
       "1      65\n",
       "2      76\n",
       "3      64\n",
       "4      64\n",
       "       ..\n",
       "906    85\n",
       "907    64\n",
       "908    62\n",
       "909    52\n",
       "910    56\n",
       "Name: track_popularity, Length: 911, dtype: int64>"
      ]
     },
     "execution_count": 16,
     "metadata": {},
     "output_type": "execute_result"
    }
   ],
   "source": [
    "track_by_country['track_popularity'].value_counts"
   ]
  },
  {
   "cell_type": "code",
   "execution_count": 140,
   "metadata": {},
   "outputs": [
    {
     "data": {
      "text/plain": [
       "'https://p.scdn.co/mp3-preview/7d2896b0232a0882a5807dde2c71bf6a259c7b88?cid=3fa80f8d0ff24766a26fd841fd7ca295'"
      ]
     },
     "execution_count": 140,
     "metadata": {},
     "output_type": "execute_result"
    }
   ],
   "source": [
    "sp.track(song_id)['preview_url']"
   ]
  },
  {
   "cell_type": "code",
   "execution_count": 1,
   "metadata": {},
   "outputs": [
    {
     "ename": "NameError",
     "evalue": "name 'track_preview' is not defined",
     "output_type": "error",
     "traceback": [
      "\u001b[1;31m---------------------------------------------------------------------------\u001b[0m",
      "\u001b[1;31mNameError\u001b[0m                                 Traceback (most recent call last)",
      "\u001b[1;32m<ipython-input-1-69af7698eb7d>\u001b[0m in \u001b[0;36m<module>\u001b[1;34m\u001b[0m\n\u001b[1;32m----> 1\u001b[1;33m \u001b[0mtrack_preview\u001b[0m\u001b[1;33m\u001b[0m\u001b[1;33m\u001b[0m\u001b[0m\n\u001b[0m",
      "\u001b[1;31mNameError\u001b[0m: name 'track_preview' is not defined"
     ]
    }
   ],
   "source": [
    "track_preview"
   ]
  },
  {
   "cell_type": "code",
   "execution_count": 87,
   "metadata": {},
   "outputs": [],
   "source": [
    "ac = [0.3,0.4,0.1,0.07]\n",
    "tc = [0.35,0.45,0.15,0.1]\n",
    "days = [10,13,8,10,12,5]"
   ]
  },
  {
   "cell_type": "code",
   "execution_count": 88,
   "metadata": {},
   "outputs": [],
   "source": [
    "lista = [a*b for a,b in  zip(days,ac)]"
   ]
  },
  {
   "cell_type": "code",
   "execution_count": 89,
   "metadata": {},
   "outputs": [],
   "source": [
    "listb = [a*b for a,b in  zip(days,tc)] "
   ]
  },
  {
   "cell_type": "code",
   "execution_count": 94,
   "metadata": {},
   "outputs": [
    {
     "data": {
      "text/plain": [
       "0.9214437367303608"
      ]
     },
     "execution_count": 94,
     "metadata": {},
     "output_type": "execute_result"
    }
   ],
   "source": [
    "21.7/23.55"
   ]
  },
  {
   "cell_type": "code",
   "execution_count": 96,
   "metadata": {},
   "outputs": [
    {
     "data": {
      "text/plain": [
       "64.50106157112526"
      ]
     },
     "execution_count": 96,
     "metadata": {},
     "output_type": "execute_result"
    }
   ],
   "source": [
    "sum([12,10,13,8,10,12,5])*0.9214437367303608"
   ]
  },
  {
   "cell_type": "code",
   "execution_count": 47,
   "metadata": {},
   "outputs": [
    {
     "data": {
      "text/plain": [
       "0.37142857142857144"
      ]
     },
     "execution_count": 47,
     "metadata": {},
     "output_type": "execute_result"
    }
   ],
   "source": [
    "45500/122500"
   ]
  },
  {
   "cell_type": "code",
   "execution_count": 50,
   "metadata": {},
   "outputs": [
    {
     "data": {
      "text/plain": [
       "113320"
      ]
     },
     "execution_count": 50,
     "metadata": {},
     "output_type": "execute_result"
    }
   ],
   "source": [
    "45500 + 8190 + 5940 + 53690"
   ]
  },
  {
   "cell_type": "code",
   "execution_count": 51,
   "metadata": {},
   "outputs": [
    {
     "data": {
      "text/plain": [
       "13200.0"
      ]
     },
     "execution_count": 51,
     "metadata": {},
     "output_type": "execute_result"
    }
   ],
   "source": [
    "5940/0.45"
   ]
  },
  {
   "cell_type": "code",
   "execution_count": 52,
   "metadata": {},
   "outputs": [
    {
     "data": {
      "text/plain": [
       "7260.0"
      ]
     },
     "execution_count": 52,
     "metadata": {},
     "output_type": "execute_result"
    }
   ],
   "source": [
    "13200.0 - 5940"
   ]
  },
  {
   "cell_type": "code",
   "execution_count": 54,
   "metadata": {},
   "outputs": [
    {
     "data": {
      "text/plain": [
       "1452.0"
      ]
     },
     "execution_count": 54,
     "metadata": {},
     "output_type": "execute_result"
    }
   ],
   "source": [
    "7260.0 * 0.2"
   ]
  },
  {
   "cell_type": "code",
   "execution_count": 58,
   "metadata": {},
   "outputs": [
    {
     "data": {
      "text/plain": [
       "484.0"
      ]
     },
     "execution_count": 58,
     "metadata": {},
     "output_type": "execute_result"
    }
   ],
   "source": [
    "1452.0/3"
   ]
  },
  {
   "cell_type": "code",
   "execution_count": 60,
   "metadata": {},
   "outputs": [
    {
     "data": {
      "text/plain": [
       "[0.48,\n",
       " 0.8333333333333334,\n",
       " 0.5,\n",
       " 0.3076923076923077,\n",
       " 0.8333333333333334,\n",
       " 0.631578947368421,\n",
       " 0.29411764705882354]"
      ]
     },
     "execution_count": 60,
     "metadata": {},
     "output_type": "execute_result"
    }
   ],
   "source": [
    "ac = [12,10,13,8,10,12,5]\n",
    "ed = [25,12,26,26,12,19,17]\n",
    "lista = [a/b for a,b in  zip(ac,ed)]\n",
    "lista"
   ]
  },
  {
   "cell_type": "code",
   "execution_count": 79,
   "metadata": {},
   "outputs": [
    {
     "data": {
      "text/plain": [
       "88.125"
      ]
     },
     "execution_count": 79,
     "metadata": {},
     "output_type": "execute_result"
    }
   ],
   "source": [
    "183.75 - (12 * 7.5 + 0.30*0.25 * 10 * 7.5)"
   ]
  },
  {
   "cell_type": "code",
   "execution_count": 62,
   "metadata": {},
   "outputs": [
    {
     "data": {
      "text/plain": [
       "560"
      ]
     },
     "execution_count": 62,
     "metadata": {},
     "output_type": "execute_result"
    }
   ],
   "source": [
    "sum(ac)*8"
   ]
  },
  {
   "cell_type": "code",
   "execution_count": 71,
   "metadata": {},
   "outputs": [
    {
     "data": {
      "text/plain": [
       "173.6"
      ]
     },
     "execution_count": 71,
     "metadata": {},
     "output_type": "execute_result"
    }
   ],
   "source": [
    "sum(lista) * 8 + 12 * 8"
   ]
  },
  {
   "cell_type": "code",
   "execution_count": 73,
   "metadata": {},
   "outputs": [
    {
     "data": {
      "text/plain": [
       "525.0"
      ]
     },
     "execution_count": 73,
     "metadata": {},
     "output_type": "execute_result"
    }
   ],
   "source": [
    "78.75*2 /0.3"
   ]
  },
  {
   "cell_type": "code",
   "execution_count": 77,
   "metadata": {},
   "outputs": [
    {
     "data": {
      "text/plain": [
       "7.5"
      ]
     },
     "execution_count": 77,
     "metadata": {},
     "output_type": "execute_result"
    }
   ],
   "source": [
    "525.0 / (sum(days) + 12)"
   ]
  },
  {
   "cell_type": "code",
   "execution_count": 85,
   "metadata": {},
   "outputs": [
    {
     "data": {
      "text/plain": [
       "0.31"
      ]
     },
     "execution_count": 85,
     "metadata": {},
     "output_type": "execute_result"
    }
   ],
   "source": [
    "21.7/sum([12,10,13,8,10,12,5])"
   ]
  },
  {
   "cell_type": "code",
   "execution_count": 83,
   "metadata": {},
   "outputs": [
    {
     "data": {
      "text/plain": [
       "21.7"
      ]
     },
     "execution_count": 83,
     "metadata": {},
     "output_type": "execute_result"
    }
   ],
   "source": [
    "9.7 +12"
   ]
  },
  {
   "cell_type": "code",
   "execution_count": 86,
   "metadata": {},
   "outputs": [
    {
     "data": {
      "text/plain": [
       "0.37142857142857144"
      ]
     },
     "execution_count": 86,
     "metadata": {},
     "output_type": "execute_result"
    }
   ],
   "source": [
    "45500/122500"
   ]
  },
  {
   "cell_type": "code",
   "execution_count": null,
   "metadata": {},
   "outputs": [],
   "source": []
  }
 ],
 "metadata": {
  "kernelspec": {
   "display_name": "base",
   "language": "python",
   "name": "python3"
  },
  "language_info": {
   "codemirror_mode": {
    "name": "ipython",
    "version": 3
   },
   "file_extension": ".py",
   "mimetype": "text/x-python",
   "name": "python",
   "nbconvert_exporter": "python",
   "pygments_lexer": "ipython3",
   "version": "3.8.8"
  },
  "orig_nbformat": 4
 },
 "nbformat": 4,
 "nbformat_minor": 2
}
