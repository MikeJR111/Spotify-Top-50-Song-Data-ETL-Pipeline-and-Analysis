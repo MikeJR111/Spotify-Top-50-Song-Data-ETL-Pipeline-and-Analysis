{
 "cells": [
  {
   "cell_type": "code",
   "execution_count": 1,
   "metadata": {},
   "outputs": [],
   "source": [
    "import pandas as pd\n",
    "import os\n",
    "import json\n",
    "import seaborn as sns"
   ]
  },
  {
   "cell_type": "code",
   "execution_count": 3,
   "metadata": {},
   "outputs": [
    {
     "data": {
      "text/html": [
       "<div>\n",
       "<style scoped>\n",
       "    .dataframe tbody tr th:only-of-type {\n",
       "        vertical-align: middle;\n",
       "    }\n",
       "\n",
       "    .dataframe tbody tr th {\n",
       "        vertical-align: top;\n",
       "    }\n",
       "\n",
       "    .dataframe thead th {\n",
       "        text-align: right;\n",
       "    }\n",
       "</style>\n",
       "<table border=\"1\" class=\"dataframe\">\n",
       "  <thead>\n",
       "    <tr style=\"text-align: right;\">\n",
       "      <th></th>\n",
       "      <th>track_id</th>\n",
       "      <th>track_name</th>\n",
       "      <th>track_url</th>\n",
       "      <th>track_popularity</th>\n",
       "      <th>album_id</th>\n",
       "      <th>album_name</th>\n",
       "      <th>countries</th>\n",
       "      <th>album_url</th>\n",
       "      <th>album_image</th>\n",
       "      <th>track_preview</th>\n",
       "      <th>...</th>\n",
       "      <th>loudness</th>\n",
       "      <th>mode</th>\n",
       "      <th>speechiness</th>\n",
       "      <th>acousticness</th>\n",
       "      <th>instrumentalness</th>\n",
       "      <th>liveness</th>\n",
       "      <th>valence</th>\n",
       "      <th>tempo</th>\n",
       "      <th>duration_ms</th>\n",
       "      <th>time_signature</th>\n",
       "    </tr>\n",
       "  </thead>\n",
       "  <tbody>\n",
       "    <tr>\n",
       "      <th>0</th>\n",
       "      <td>3qQbCzHBycnDpGskqOWY0E</td>\n",
       "      <td>Ella Baila Sola</td>\n",
       "      <td>https://open.spotify.com/track/3qQbCzHBycnDpGs...</td>\n",
       "      <td>87</td>\n",
       "      <td>5aDEezKnOqyQo0qvTFhpkM</td>\n",
       "      <td>DESVELADO</td>\n",
       "      <td>United States</td>\n",
       "      <td>https://open.spotify.com/album/5aDEezKnOqyQo0q...</td>\n",
       "      <td>https://i.scdn.co/image/ab67616d0000b273dfddf1...</td>\n",
       "      <td>https://open.spotify.com/embed/track/3qQbCzHBy...</td>\n",
       "      <td>...</td>\n",
       "      <td>-5.176</td>\n",
       "      <td>0</td>\n",
       "      <td>0.0332</td>\n",
       "      <td>0.483</td>\n",
       "      <td>0.000019</td>\n",
       "      <td>0.0837</td>\n",
       "      <td>0.834</td>\n",
       "      <td>147.989</td>\n",
       "      <td>165671</td>\n",
       "      <td>3</td>\n",
       "    </tr>\n",
       "    <tr>\n",
       "      <th>1</th>\n",
       "      <td>6Hiz5MDYoGdLBBQ3gGzRam</td>\n",
       "      <td>Last Night</td>\n",
       "      <td>https://open.spotify.com/track/6Hiz5MDYoGdLBBQ...</td>\n",
       "      <td>63</td>\n",
       "      <td>4N7bPFJ4g18KAzwtjW1mg8</td>\n",
       "      <td>3 Songs At A Time Sampler</td>\n",
       "      <td>United States</td>\n",
       "      <td>https://open.spotify.com/album/4N7bPFJ4g18KAzw...</td>\n",
       "      <td>https://i.scdn.co/image/ab67616d0000b27307e43c...</td>\n",
       "      <td>https://open.spotify.com/embed/track/6Hiz5MDYo...</td>\n",
       "      <td>...</td>\n",
       "      <td>-5.486</td>\n",
       "      <td>1</td>\n",
       "      <td>0.0342</td>\n",
       "      <td>0.445</td>\n",
       "      <td>0.0</td>\n",
       "      <td>0.144</td>\n",
       "      <td>0.545</td>\n",
       "      <td>203.964</td>\n",
       "      <td>163855</td>\n",
       "      <td>4</td>\n",
       "    </tr>\n",
       "    <tr>\n",
       "      <th>2</th>\n",
       "      <td>6pD0ufEQq0xdHSsRbg9LBK</td>\n",
       "      <td>un x100to</td>\n",
       "      <td>https://open.spotify.com/track/6pD0ufEQq0xdHSs...</td>\n",
       "      <td>99</td>\n",
       "      <td>7aGzSSUD8S6IhPCsZSiuMT</td>\n",
       "      <td>un x100to</td>\n",
       "      <td>United States</td>\n",
       "      <td>https://open.spotify.com/album/7aGzSSUD8S6IhPC...</td>\n",
       "      <td>https://i.scdn.co/image/ab67616d0000b273716c0b...</td>\n",
       "      <td>https://open.spotify.com/embed/track/6pD0ufEQq...</td>\n",
       "      <td>...</td>\n",
       "      <td>-4.076</td>\n",
       "      <td>0</td>\n",
       "      <td>0.0474</td>\n",
       "      <td>0.228</td>\n",
       "      <td>0.0</td>\n",
       "      <td>0.27</td>\n",
       "      <td>0.562</td>\n",
       "      <td>83.118</td>\n",
       "      <td>194563</td>\n",
       "      <td>4</td>\n",
       "    </tr>\n",
       "    <tr>\n",
       "      <th>3</th>\n",
       "      <td>1Qrg8KqiBpW07V7PNxwwwL</td>\n",
       "      <td>Kill Bill</td>\n",
       "      <td>https://open.spotify.com/track/1Qrg8KqiBpW07V7...</td>\n",
       "      <td>94</td>\n",
       "      <td>1nrVofqDRs7cpWXJ49qTnP</td>\n",
       "      <td>SOS</td>\n",
       "      <td>United States</td>\n",
       "      <td>https://open.spotify.com/album/1nrVofqDRs7cpWX...</td>\n",
       "      <td>https://i.scdn.co/image/ab67616d0000b2730c471c...</td>\n",
       "      <td>https://open.spotify.com/embed/track/1Qrg8KqiB...</td>\n",
       "      <td>...</td>\n",
       "      <td>-5.747</td>\n",
       "      <td>1</td>\n",
       "      <td>0.0391</td>\n",
       "      <td>0.0521</td>\n",
       "      <td>0.144</td>\n",
       "      <td>0.161</td>\n",
       "      <td>0.418</td>\n",
       "      <td>88.98</td>\n",
       "      <td>153947</td>\n",
       "      <td>4</td>\n",
       "    </tr>\n",
       "    <tr>\n",
       "      <th>4</th>\n",
       "      <td>4lN5nWBcyFEn1c92ghCSFv</td>\n",
       "      <td>What Is Real?</td>\n",
       "      <td>https://open.spotify.com/track/4lN5nWBcyFEn1c9...</td>\n",
       "      <td>33</td>\n",
       "      <td>6YbuZHtPxOeDKf4b1AJ5EO</td>\n",
       "      <td>Name in Lights</td>\n",
       "      <td>United States</td>\n",
       "      <td>https://open.spotify.com/album/6YbuZHtPxOeDKf4...</td>\n",
       "      <td>https://i.scdn.co/image/ab67616d0000b2730f9047...</td>\n",
       "      <td>https://open.spotify.com/embed/track/4lN5nWBcy...</td>\n",
       "      <td>...</td>\n",
       "      <td>-10.974</td>\n",
       "      <td>1</td>\n",
       "      <td>0.0376</td>\n",
       "      <td>0.053</td>\n",
       "      <td>0.000852</td>\n",
       "      <td>0.0835</td>\n",
       "      <td>0.218</td>\n",
       "      <td>137.153</td>\n",
       "      <td>380000</td>\n",
       "      <td>4</td>\n",
       "    </tr>\n",
       "  </tbody>\n",
       "</table>\n",
       "<p>5 rows × 33 columns</p>\n",
       "</div>"
      ],
      "text/plain": [
       "                 track_id       track_name  \\\n",
       "0  3qQbCzHBycnDpGskqOWY0E  Ella Baila Sola   \n",
       "1  6Hiz5MDYoGdLBBQ3gGzRam       Last Night   \n",
       "2  6pD0ufEQq0xdHSsRbg9LBK        un x100to   \n",
       "3  1Qrg8KqiBpW07V7PNxwwwL        Kill Bill   \n",
       "4  4lN5nWBcyFEn1c92ghCSFv    What Is Real?   \n",
       "\n",
       "                                           track_url track_popularity  \\\n",
       "0  https://open.spotify.com/track/3qQbCzHBycnDpGs...               87   \n",
       "1  https://open.spotify.com/track/6Hiz5MDYoGdLBBQ...               63   \n",
       "2  https://open.spotify.com/track/6pD0ufEQq0xdHSs...               99   \n",
       "3  https://open.spotify.com/track/1Qrg8KqiBpW07V7...               94   \n",
       "4  https://open.spotify.com/track/4lN5nWBcyFEn1c9...               33   \n",
       "\n",
       "                 album_id                 album_name      countries  \\\n",
       "0  5aDEezKnOqyQo0qvTFhpkM                  DESVELADO  United States   \n",
       "1  4N7bPFJ4g18KAzwtjW1mg8  3 Songs At A Time Sampler  United States   \n",
       "2  7aGzSSUD8S6IhPCsZSiuMT                  un x100to  United States   \n",
       "3  1nrVofqDRs7cpWXJ49qTnP                        SOS  United States   \n",
       "4  6YbuZHtPxOeDKf4b1AJ5EO             Name in Lights  United States   \n",
       "\n",
       "                                           album_url  \\\n",
       "0  https://open.spotify.com/album/5aDEezKnOqyQo0q...   \n",
       "1  https://open.spotify.com/album/4N7bPFJ4g18KAzw...   \n",
       "2  https://open.spotify.com/album/7aGzSSUD8S6IhPC...   \n",
       "3  https://open.spotify.com/album/1nrVofqDRs7cpWX...   \n",
       "4  https://open.spotify.com/album/6YbuZHtPxOeDKf4...   \n",
       "\n",
       "                                         album_image  \\\n",
       "0  https://i.scdn.co/image/ab67616d0000b273dfddf1...   \n",
       "1  https://i.scdn.co/image/ab67616d0000b27307e43c...   \n",
       "2  https://i.scdn.co/image/ab67616d0000b273716c0b...   \n",
       "3  https://i.scdn.co/image/ab67616d0000b2730c471c...   \n",
       "4  https://i.scdn.co/image/ab67616d0000b2730f9047...   \n",
       "\n",
       "                                       track_preview  ... loudness mode  \\\n",
       "0  https://open.spotify.com/embed/track/3qQbCzHBy...  ...   -5.176    0   \n",
       "1  https://open.spotify.com/embed/track/6Hiz5MDYo...  ...   -5.486    1   \n",
       "2  https://open.spotify.com/embed/track/6pD0ufEQq...  ...   -4.076    0   \n",
       "3  https://open.spotify.com/embed/track/1Qrg8KqiB...  ...   -5.747    1   \n",
       "4  https://open.spotify.com/embed/track/4lN5nWBcy...  ...  -10.974    1   \n",
       "\n",
       "  speechiness acousticness instrumentalness liveness valence    tempo  \\\n",
       "0      0.0332        0.483         0.000019   0.0837   0.834  147.989   \n",
       "1      0.0342        0.445              0.0    0.144   0.545  203.964   \n",
       "2      0.0474        0.228              0.0     0.27   0.562   83.118   \n",
       "3      0.0391       0.0521            0.144    0.161   0.418    88.98   \n",
       "4      0.0376        0.053         0.000852   0.0835   0.218  137.153   \n",
       "\n",
       "  duration_ms time_signature  \n",
       "0      165671              3  \n",
       "1      163855              4  \n",
       "2      194563              4  \n",
       "3      153947              4  \n",
       "4      380000              4  \n",
       "\n",
       "[5 rows x 33 columns]"
      ]
     },
     "execution_count": 3,
     "metadata": {},
     "output_type": "execute_result"
    }
   ],
   "source": [
    "#read all json under \\\\Data governance\\\\data this path and combine them into one dataframe\n",
    "path = os.getcwd()+ '\\\\Data governance\\\\spotify_data'\n",
    "data_list = os.listdir(os.getcwd()+ '\\\\Data governance\\\\spotify_data') \n",
    "dfs = []\n",
    "for file in  data_list:\n",
    "    f = open('./Data governance/spotify_data/'+ file)\n",
    "    data1 = json.load(f)\n",
    "    df = pd.read_json(data1, orient ='index')\n",
    "    dfs.append(df.T)\n",
    "combined_df = pd.concat(dfs, ignore_index=True)\n",
    "combined_df.head()"
   ]
  },
  {
   "cell_type": "code",
   "execution_count": 4,
   "metadata": {},
   "outputs": [
    {
     "data": {
      "text/plain": [
       "Index(['track_id', 'track_name', 'track_url', 'track_popularity', 'album_id',\n",
       "       'album_name', 'countries', 'album_url', 'album_image', 'track_preview',\n",
       "       'artist_id', 'artist_name', 'artist_url', 'artist_image',\n",
       "       'artist_genre', 'artist_followers', 'artist_popularity', 'record_date',\n",
       "       'Country', 'playlist_id', 'danceability', 'energy', 'key', 'loudness',\n",
       "       'mode', 'speechiness', 'acousticness', 'instrumentalness', 'liveness',\n",
       "       'valence', 'tempo', 'duration_ms', 'time_signature'],\n",
       "      dtype='object')"
      ]
     },
     "execution_count": 4,
     "metadata": {},
     "output_type": "execute_result"
    }
   ],
   "source": [
    "combined_df.columns"
   ]
  },
  {
   "cell_type": "code",
   "execution_count": 21,
   "metadata": {},
   "outputs": [
    {
     "name": "stdout",
     "output_type": "stream",
     "text": [
      "Series([], Name: album_id, dtype: int64)\n"
     ]
    }
   ],
   "source": [
    "# Group by 'TrackID' and count the unique 'AlbumID' occurrences\n",
    "unique_album_counts = combined_df.groupby('track_id')['album_id'].nunique()\n",
    "\n",
    "# Check if any 'TrackID' has more than one unique 'AlbumID'\n",
    "multiple_albums = unique_album_counts[unique_album_counts > 1]\n",
    "\n",
    "print(multiple_albums)"
   ]
  },
  {
   "cell_type": "code",
   "execution_count": 22,
   "metadata": {},
   "outputs": [
    {
     "name": "stdout",
     "output_type": "stream",
     "text": [
      "Series([], Name: artist_id, dtype: int64)\n"
     ]
    }
   ],
   "source": [
    "# Group by 'track_id' and count the unique 'artist_id' occurrences\n",
    "unique_album_counts = combined_df.groupby('track_id')['artist_id'].nunique()\n",
    "\n",
    "# Check if any 'TrackID' has more than one unique 'AlbumID'\n",
    "multiple_albums = unique_album_counts[unique_album_counts > 1]\n",
    "\n",
    "print(multiple_albums)"
   ]
  },
  {
   "cell_type": "code",
   "execution_count": 23,
   "metadata": {},
   "outputs": [
    {
     "name": "stdout",
     "output_type": "stream",
     "text": [
      "Series([], Name: artist_id, dtype: int64)\n"
     ]
    }
   ],
   "source": [
    "# Group by 'album_id' and count the unique 'artist_id' occurrences\n",
    "unique_album_counts = combined_df.groupby('album_id')['artist_id'].nunique()\n",
    "\n",
    "# Check if any 'TrackID' has more than one unique 'AlbumID'\n",
    "multiple_albums = unique_album_counts[unique_album_counts > 1]\n",
    "\n",
    "print(multiple_albums)"
   ]
  },
  {
   "cell_type": "code",
   "execution_count": 27,
   "metadata": {},
   "outputs": [
    {
     "data": {
      "text/plain": [
       "Index(['track_id', 'track_name', 'track_url', 'track_popularity', 'album_id',\n",
       "       'album_name', 'countries', 'album_url', 'album_image', 'track_preview',\n",
       "       'artist_id', 'artist_name', 'artist_url', 'artist_image',\n",
       "       'artist_genre', 'artist_followers', 'artist_popularity', 'record_date',\n",
       "       'Country', 'danceability', 'energy', 'key', 'loudness', 'mode',\n",
       "       'speechiness', 'acousticness', 'instrumentalness', 'liveness',\n",
       "       'valence', 'tempo', 'duration_ms', 'time_signature'],\n",
       "      dtype='object')"
      ]
     },
     "execution_count": 27,
     "metadata": {},
     "output_type": "execute_result"
    }
   ],
   "source": [
    "combined_df.columns"
   ]
  },
  {
   "cell_type": "code",
   "execution_count": null,
   "metadata": {},
   "outputs": [],
   "source": []
  },
  {
   "attachments": {},
   "cell_type": "markdown",
   "metadata": {},
   "source": [
    "track( 'track_id', 'track_name', 'track_url', 'track_popularity', 'track_preview',)"
   ]
  }
 ],
 "metadata": {
  "kernelspec": {
   "display_name": "base",
   "language": "python",
   "name": "python3"
  },
  "language_info": {
   "codemirror_mode": {
    "name": "ipython",
    "version": 3
   },
   "file_extension": ".py",
   "mimetype": "text/x-python",
   "name": "python",
   "nbconvert_exporter": "python",
   "pygments_lexer": "ipython3",
   "version": "3.8.8"
  },
  "orig_nbformat": 4
 },
 "nbformat": 4,
 "nbformat_minor": 2
}
