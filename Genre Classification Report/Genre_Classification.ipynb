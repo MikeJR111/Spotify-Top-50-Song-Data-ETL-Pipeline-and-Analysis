{
 "cells": [
  {
   "cell_type": "code",
   "execution_count": 742,
   "metadata": {},
   "outputs": [],
   "source": [
    "import pandas as pd\n",
    "import os\n",
    "import json\n",
    "import plotly.express as px\n",
    "import numpy as np\n",
    "import seaborn as sns\n",
    "import matplotlib.pyplot as plt"
   ]
  },
  {
   "attachments": {},
   "cell_type": "markdown",
   "metadata": {},
   "source": [
    "### Step 1: read all json files and combine them into one dataframe"
   ]
  },
  {
   "cell_type": "code",
   "execution_count": 743,
   "metadata": {},
   "outputs": [
    {
     "data": {
      "text/html": [
       "<div>\n",
       "<style scoped>\n",
       "    .dataframe tbody tr th:only-of-type {\n",
       "        vertical-align: middle;\n",
       "    }\n",
       "\n",
       "    .dataframe tbody tr th {\n",
       "        vertical-align: top;\n",
       "    }\n",
       "\n",
       "    .dataframe thead th {\n",
       "        text-align: right;\n",
       "    }\n",
       "</style>\n",
       "<table border=\"1\" class=\"dataframe\">\n",
       "  <thead>\n",
       "    <tr style=\"text-align: right;\">\n",
       "      <th></th>\n",
       "      <th>track_id</th>\n",
       "      <th>track_name</th>\n",
       "      <th>track_url</th>\n",
       "      <th>track_popularity</th>\n",
       "      <th>album_id</th>\n",
       "      <th>album_name</th>\n",
       "      <th>countries</th>\n",
       "      <th>album_url</th>\n",
       "      <th>album_image</th>\n",
       "      <th>track_preview</th>\n",
       "      <th>...</th>\n",
       "      <th>loudness</th>\n",
       "      <th>mode</th>\n",
       "      <th>speechiness</th>\n",
       "      <th>acousticness</th>\n",
       "      <th>instrumentalness</th>\n",
       "      <th>liveness</th>\n",
       "      <th>valence</th>\n",
       "      <th>tempo</th>\n",
       "      <th>duration_ms</th>\n",
       "      <th>time_signature</th>\n",
       "    </tr>\n",
       "  </thead>\n",
       "  <tbody>\n",
       "    <tr>\n",
       "      <th>0</th>\n",
       "      <td>3eJMSq78dDaFb7VvhNFnq6</td>\n",
       "      <td>ADMV</td>\n",
       "      <td>https://open.spotify.com/track/3eJMSq78dDaFb7V...</td>\n",
       "      <td>68</td>\n",
       "      <td>6wUJI0qgwrwiYJhFr53Gaa</td>\n",
       "      <td>ADMV</td>\n",
       "      <td>China</td>\n",
       "      <td>https://open.spotify.com/album/6wUJI0qgwrwiYJh...</td>\n",
       "      <td>https://i.scdn.co/image/ab67616d0000b273adab96...</td>\n",
       "      <td>https://open.spotify.com/embed/track/3eJMSq78d...</td>\n",
       "      <td>...</td>\n",
       "      <td>-4.959</td>\n",
       "      <td>1</td>\n",
       "      <td>0.0556</td>\n",
       "      <td>0.817</td>\n",
       "      <td>0.0</td>\n",
       "      <td>0.126</td>\n",
       "      <td>0.708</td>\n",
       "      <td>163.781</td>\n",
       "      <td>193700</td>\n",
       "      <td>4</td>\n",
       "    </tr>\n",
       "    <tr>\n",
       "      <th>1</th>\n",
       "      <td>0Snbzbd74RLfL0i4nn1vU5</td>\n",
       "      <td>Favorito</td>\n",
       "      <td>https://open.spotify.com/track/0Snbzbd74RLfL0i...</td>\n",
       "      <td>65</td>\n",
       "      <td>5wb9Mx2yfXZzKYPzHp4fae</td>\n",
       "      <td>Favorito</td>\n",
       "      <td>China</td>\n",
       "      <td>https://open.spotify.com/album/5wb9Mx2yfXZzKYP...</td>\n",
       "      <td>https://i.scdn.co/image/ab67616d0000b273e8caae...</td>\n",
       "      <td>https://open.spotify.com/embed/track/0Snbzbd74...</td>\n",
       "      <td>...</td>\n",
       "      <td>-2.982</td>\n",
       "      <td>1</td>\n",
       "      <td>0.0598</td>\n",
       "      <td>0.229</td>\n",
       "      <td>0.0</td>\n",
       "      <td>0.232</td>\n",
       "      <td>0.823</td>\n",
       "      <td>178.032</td>\n",
       "      <td>211613</td>\n",
       "      <td>4</td>\n",
       "    </tr>\n",
       "    <tr>\n",
       "      <th>2</th>\n",
       "      <td>7k4t7uLgtOxPwTpFmtJNTY</td>\n",
       "      <td>Tusa</td>\n",
       "      <td>https://open.spotify.com/track/7k4t7uLgtOxPwTp...</td>\n",
       "      <td>76</td>\n",
       "      <td>7mKevNHhVnZER3BLgI8O4F</td>\n",
       "      <td>Tusa</td>\n",
       "      <td>China</td>\n",
       "      <td>https://open.spotify.com/album/7mKevNHhVnZER3B...</td>\n",
       "      <td>https://i.scdn.co/image/ab67616d0000b273ddd315...</td>\n",
       "      <td>https://open.spotify.com/embed/track/7k4t7uLgt...</td>\n",
       "      <td>...</td>\n",
       "      <td>-3.28</td>\n",
       "      <td>1</td>\n",
       "      <td>0.298</td>\n",
       "      <td>0.295</td>\n",
       "      <td>0.000134</td>\n",
       "      <td>0.0574</td>\n",
       "      <td>0.574</td>\n",
       "      <td>101.085</td>\n",
       "      <td>200960</td>\n",
       "      <td>4</td>\n",
       "    </tr>\n",
       "    <tr>\n",
       "      <th>3</th>\n",
       "      <td>4uziEsK1yiqdauKVDPsmVG</td>\n",
       "      <td>Rojo</td>\n",
       "      <td>https://open.spotify.com/track/4uziEsK1yiqdauK...</td>\n",
       "      <td>64</td>\n",
       "      <td>54lqxBRUg66EYNyqKSKU5C</td>\n",
       "      <td>Rojo</td>\n",
       "      <td>China</td>\n",
       "      <td>https://open.spotify.com/album/54lqxBRUg66EYNy...</td>\n",
       "      <td>https://i.scdn.co/image/ab67616d0000b273ead7b9...</td>\n",
       "      <td>https://open.spotify.com/embed/track/4uziEsK1y...</td>\n",
       "      <td>...</td>\n",
       "      <td>-4.04</td>\n",
       "      <td>1</td>\n",
       "      <td>0.113</td>\n",
       "      <td>0.15</td>\n",
       "      <td>0.000115</td>\n",
       "      <td>0.0842</td>\n",
       "      <td>0.444</td>\n",
       "      <td>172.27</td>\n",
       "      <td>150853</td>\n",
       "      <td>4</td>\n",
       "    </tr>\n",
       "    <tr>\n",
       "      <th>4</th>\n",
       "      <td>4Pu0a2TuHOYtI4CCE3HEXI</td>\n",
       "      <td>Sigues Con El - Remix</td>\n",
       "      <td>https://open.spotify.com/track/4Pu0a2TuHOYtI4C...</td>\n",
       "      <td>64</td>\n",
       "      <td>0vPG06qvqmD1XL1uAFysKM</td>\n",
       "      <td>Sigues Con El (Remix)</td>\n",
       "      <td>China</td>\n",
       "      <td>https://open.spotify.com/album/0vPG06qvqmD1XL1...</td>\n",
       "      <td>https://i.scdn.co/image/ab67616d0000b273d38e4b...</td>\n",
       "      <td>https://open.spotify.com/embed/track/4Pu0a2TuH...</td>\n",
       "      <td>...</td>\n",
       "      <td>-2.97</td>\n",
       "      <td>0</td>\n",
       "      <td>0.298</td>\n",
       "      <td>0.102</td>\n",
       "      <td>0.000003</td>\n",
       "      <td>0.0872</td>\n",
       "      <td>0.736</td>\n",
       "      <td>175.994</td>\n",
       "      <td>189567</td>\n",
       "      <td>4</td>\n",
       "    </tr>\n",
       "  </tbody>\n",
       "</table>\n",
       "<p>5 rows × 32 columns</p>\n",
       "</div>"
      ],
      "text/plain": [
       "                 track_id             track_name  \\\n",
       "0  3eJMSq78dDaFb7VvhNFnq6                   ADMV   \n",
       "1  0Snbzbd74RLfL0i4nn1vU5               Favorito   \n",
       "2  7k4t7uLgtOxPwTpFmtJNTY                   Tusa   \n",
       "3  4uziEsK1yiqdauKVDPsmVG                   Rojo   \n",
       "4  4Pu0a2TuHOYtI4CCE3HEXI  Sigues Con El - Remix   \n",
       "\n",
       "                                           track_url track_popularity  \\\n",
       "0  https://open.spotify.com/track/3eJMSq78dDaFb7V...               68   \n",
       "1  https://open.spotify.com/track/0Snbzbd74RLfL0i...               65   \n",
       "2  https://open.spotify.com/track/7k4t7uLgtOxPwTp...               76   \n",
       "3  https://open.spotify.com/track/4uziEsK1yiqdauK...               64   \n",
       "4  https://open.spotify.com/track/4Pu0a2TuHOYtI4C...               64   \n",
       "\n",
       "                 album_id             album_name countries  \\\n",
       "0  6wUJI0qgwrwiYJhFr53Gaa                   ADMV     China   \n",
       "1  5wb9Mx2yfXZzKYPzHp4fae               Favorito     China   \n",
       "2  7mKevNHhVnZER3BLgI8O4F                   Tusa     China   \n",
       "3  54lqxBRUg66EYNyqKSKU5C                   Rojo     China   \n",
       "4  0vPG06qvqmD1XL1uAFysKM  Sigues Con El (Remix)     China   \n",
       "\n",
       "                                           album_url  \\\n",
       "0  https://open.spotify.com/album/6wUJI0qgwrwiYJh...   \n",
       "1  https://open.spotify.com/album/5wb9Mx2yfXZzKYP...   \n",
       "2  https://open.spotify.com/album/7mKevNHhVnZER3B...   \n",
       "3  https://open.spotify.com/album/54lqxBRUg66EYNy...   \n",
       "4  https://open.spotify.com/album/0vPG06qvqmD1XL1...   \n",
       "\n",
       "                                         album_image  \\\n",
       "0  https://i.scdn.co/image/ab67616d0000b273adab96...   \n",
       "1  https://i.scdn.co/image/ab67616d0000b273e8caae...   \n",
       "2  https://i.scdn.co/image/ab67616d0000b273ddd315...   \n",
       "3  https://i.scdn.co/image/ab67616d0000b273ead7b9...   \n",
       "4  https://i.scdn.co/image/ab67616d0000b273d38e4b...   \n",
       "\n",
       "                                       track_preview  ... loudness mode  \\\n",
       "0  https://open.spotify.com/embed/track/3eJMSq78d...  ...   -4.959    1   \n",
       "1  https://open.spotify.com/embed/track/0Snbzbd74...  ...   -2.982    1   \n",
       "2  https://open.spotify.com/embed/track/7k4t7uLgt...  ...    -3.28    1   \n",
       "3  https://open.spotify.com/embed/track/4uziEsK1y...  ...    -4.04    1   \n",
       "4  https://open.spotify.com/embed/track/4Pu0a2TuH...  ...    -2.97    0   \n",
       "\n",
       "  speechiness acousticness instrumentalness liveness valence    tempo  \\\n",
       "0      0.0556        0.817              0.0    0.126   0.708  163.781   \n",
       "1      0.0598        0.229              0.0    0.232   0.823  178.032   \n",
       "2       0.298        0.295         0.000134   0.0574   0.574  101.085   \n",
       "3       0.113         0.15         0.000115   0.0842   0.444   172.27   \n",
       "4       0.298        0.102         0.000003   0.0872   0.736  175.994   \n",
       "\n",
       "  duration_ms time_signature  \n",
       "0      193700              4  \n",
       "1      211613              4  \n",
       "2      200960              4  \n",
       "3      150853              4  \n",
       "4      189567              4  \n",
       "\n",
       "[5 rows x 32 columns]"
      ]
     },
     "execution_count": 743,
     "metadata": {},
     "output_type": "execute_result"
    }
   ],
   "source": [
    "#read data\n",
    "path = ((os.getcwd()).split('\\\\'))\n",
    "path.pop()\n",
    "path  = '\\\\'.join(path) + '\\\\Data governance\\\\data'\n",
    "data_list = os.listdir(path) \n",
    "dfs = []\n",
    "for file in  data_list:\n",
    "    f = open(path + '\\\\' + file)\n",
    "    data1 = json.load(f)\n",
    "    df = pd.read_json(data1, orient ='index')\n",
    "    dfs.append(df.T)\n",
    "combined_df = pd.concat(dfs, ignore_index=True)\n",
    "combined_df.head()"
   ]
  },
  {
   "attachments": {},
   "cell_type": "markdown",
   "metadata": {},
   "source": [
    "### Step2 Remove Null and duplicate value"
   ]
  },
  {
   "cell_type": "code",
   "execution_count": 744,
   "metadata": {},
   "outputs": [
    {
     "data": {
      "application/vnd.plotly.v1+json": {
       "config": {
        "plotlyServerURL": "https://plot.ly"
       },
       "data": [
        {
         "alignmentgroup": "True",
         "hovertemplate": "color=Before_Drop<br>x=%{x}<br>y=%{y}<extra></extra>",
         "legendgroup": "Before_Drop",
         "marker": {
          "color": "#636efa",
          "pattern": {
           "shape": ""
          }
         },
         "name": "Before_Drop",
         "offsetgroup": "Before_Drop",
         "orientation": "h",
         "showlegend": true,
         "textposition": "auto",
         "type": "bar",
         "x": [
          3563
         ],
         "xaxis": "x",
         "y": [
          "Before_Drop"
         ],
         "yaxis": "y"
        },
        {
         "alignmentgroup": "True",
         "hovertemplate": "color=After_Drop<br>x=%{x}<br>y=%{y}<extra></extra>",
         "legendgroup": "After_Drop",
         "marker": {
          "color": "#EF553B",
          "pattern": {
           "shape": ""
          }
         },
         "name": "After_Drop",
         "offsetgroup": "After_Drop",
         "orientation": "h",
         "showlegend": true,
         "textposition": "auto",
         "type": "bar",
         "x": [
          949
         ],
         "xaxis": "x",
         "y": [
          "After_Drop"
         ],
         "yaxis": "y"
        }
       ],
       "layout": {
        "barmode": "relative",
        "legend": {
         "title": {
          "text": "color"
         },
         "tracegroupgap": 0
        },
        "template": {
         "data": {
          "bar": [
           {
            "error_x": {
             "color": "#2a3f5f"
            },
            "error_y": {
             "color": "#2a3f5f"
            },
            "marker": {
             "line": {
              "color": "#E5ECF6",
              "width": 0.5
             },
             "pattern": {
              "fillmode": "overlay",
              "size": 10,
              "solidity": 0.2
             }
            },
            "type": "bar"
           }
          ],
          "barpolar": [
           {
            "marker": {
             "line": {
              "color": "#E5ECF6",
              "width": 0.5
             },
             "pattern": {
              "fillmode": "overlay",
              "size": 10,
              "solidity": 0.2
             }
            },
            "type": "barpolar"
           }
          ],
          "carpet": [
           {
            "aaxis": {
             "endlinecolor": "#2a3f5f",
             "gridcolor": "white",
             "linecolor": "white",
             "minorgridcolor": "white",
             "startlinecolor": "#2a3f5f"
            },
            "baxis": {
             "endlinecolor": "#2a3f5f",
             "gridcolor": "white",
             "linecolor": "white",
             "minorgridcolor": "white",
             "startlinecolor": "#2a3f5f"
            },
            "type": "carpet"
           }
          ],
          "choropleth": [
           {
            "colorbar": {
             "outlinewidth": 0,
             "ticks": ""
            },
            "type": "choropleth"
           }
          ],
          "contour": [
           {
            "colorbar": {
             "outlinewidth": 0,
             "ticks": ""
            },
            "colorscale": [
             [
              0,
              "#0d0887"
             ],
             [
              0.1111111111111111,
              "#46039f"
             ],
             [
              0.2222222222222222,
              "#7201a8"
             ],
             [
              0.3333333333333333,
              "#9c179e"
             ],
             [
              0.4444444444444444,
              "#bd3786"
             ],
             [
              0.5555555555555556,
              "#d8576b"
             ],
             [
              0.6666666666666666,
              "#ed7953"
             ],
             [
              0.7777777777777778,
              "#fb9f3a"
             ],
             [
              0.8888888888888888,
              "#fdca26"
             ],
             [
              1,
              "#f0f921"
             ]
            ],
            "type": "contour"
           }
          ],
          "contourcarpet": [
           {
            "colorbar": {
             "outlinewidth": 0,
             "ticks": ""
            },
            "type": "contourcarpet"
           }
          ],
          "heatmap": [
           {
            "colorbar": {
             "outlinewidth": 0,
             "ticks": ""
            },
            "colorscale": [
             [
              0,
              "#0d0887"
             ],
             [
              0.1111111111111111,
              "#46039f"
             ],
             [
              0.2222222222222222,
              "#7201a8"
             ],
             [
              0.3333333333333333,
              "#9c179e"
             ],
             [
              0.4444444444444444,
              "#bd3786"
             ],
             [
              0.5555555555555556,
              "#d8576b"
             ],
             [
              0.6666666666666666,
              "#ed7953"
             ],
             [
              0.7777777777777778,
              "#fb9f3a"
             ],
             [
              0.8888888888888888,
              "#fdca26"
             ],
             [
              1,
              "#f0f921"
             ]
            ],
            "type": "heatmap"
           }
          ],
          "heatmapgl": [
           {
            "colorbar": {
             "outlinewidth": 0,
             "ticks": ""
            },
            "colorscale": [
             [
              0,
              "#0d0887"
             ],
             [
              0.1111111111111111,
              "#46039f"
             ],
             [
              0.2222222222222222,
              "#7201a8"
             ],
             [
              0.3333333333333333,
              "#9c179e"
             ],
             [
              0.4444444444444444,
              "#bd3786"
             ],
             [
              0.5555555555555556,
              "#d8576b"
             ],
             [
              0.6666666666666666,
              "#ed7953"
             ],
             [
              0.7777777777777778,
              "#fb9f3a"
             ],
             [
              0.8888888888888888,
              "#fdca26"
             ],
             [
              1,
              "#f0f921"
             ]
            ],
            "type": "heatmapgl"
           }
          ],
          "histogram": [
           {
            "marker": {
             "pattern": {
              "fillmode": "overlay",
              "size": 10,
              "solidity": 0.2
             }
            },
            "type": "histogram"
           }
          ],
          "histogram2d": [
           {
            "colorbar": {
             "outlinewidth": 0,
             "ticks": ""
            },
            "colorscale": [
             [
              0,
              "#0d0887"
             ],
             [
              0.1111111111111111,
              "#46039f"
             ],
             [
              0.2222222222222222,
              "#7201a8"
             ],
             [
              0.3333333333333333,
              "#9c179e"
             ],
             [
              0.4444444444444444,
              "#bd3786"
             ],
             [
              0.5555555555555556,
              "#d8576b"
             ],
             [
              0.6666666666666666,
              "#ed7953"
             ],
             [
              0.7777777777777778,
              "#fb9f3a"
             ],
             [
              0.8888888888888888,
              "#fdca26"
             ],
             [
              1,
              "#f0f921"
             ]
            ],
            "type": "histogram2d"
           }
          ],
          "histogram2dcontour": [
           {
            "colorbar": {
             "outlinewidth": 0,
             "ticks": ""
            },
            "colorscale": [
             [
              0,
              "#0d0887"
             ],
             [
              0.1111111111111111,
              "#46039f"
             ],
             [
              0.2222222222222222,
              "#7201a8"
             ],
             [
              0.3333333333333333,
              "#9c179e"
             ],
             [
              0.4444444444444444,
              "#bd3786"
             ],
             [
              0.5555555555555556,
              "#d8576b"
             ],
             [
              0.6666666666666666,
              "#ed7953"
             ],
             [
              0.7777777777777778,
              "#fb9f3a"
             ],
             [
              0.8888888888888888,
              "#fdca26"
             ],
             [
              1,
              "#f0f921"
             ]
            ],
            "type": "histogram2dcontour"
           }
          ],
          "mesh3d": [
           {
            "colorbar": {
             "outlinewidth": 0,
             "ticks": ""
            },
            "type": "mesh3d"
           }
          ],
          "parcoords": [
           {
            "line": {
             "colorbar": {
              "outlinewidth": 0,
              "ticks": ""
             }
            },
            "type": "parcoords"
           }
          ],
          "pie": [
           {
            "automargin": true,
            "type": "pie"
           }
          ],
          "scatter": [
           {
            "fillpattern": {
             "fillmode": "overlay",
             "size": 10,
             "solidity": 0.2
            },
            "type": "scatter"
           }
          ],
          "scatter3d": [
           {
            "line": {
             "colorbar": {
              "outlinewidth": 0,
              "ticks": ""
             }
            },
            "marker": {
             "colorbar": {
              "outlinewidth": 0,
              "ticks": ""
             }
            },
            "type": "scatter3d"
           }
          ],
          "scattercarpet": [
           {
            "marker": {
             "colorbar": {
              "outlinewidth": 0,
              "ticks": ""
             }
            },
            "type": "scattercarpet"
           }
          ],
          "scattergeo": [
           {
            "marker": {
             "colorbar": {
              "outlinewidth": 0,
              "ticks": ""
             }
            },
            "type": "scattergeo"
           }
          ],
          "scattergl": [
           {
            "marker": {
             "colorbar": {
              "outlinewidth": 0,
              "ticks": ""
             }
            },
            "type": "scattergl"
           }
          ],
          "scattermapbox": [
           {
            "marker": {
             "colorbar": {
              "outlinewidth": 0,
              "ticks": ""
             }
            },
            "type": "scattermapbox"
           }
          ],
          "scatterpolar": [
           {
            "marker": {
             "colorbar": {
              "outlinewidth": 0,
              "ticks": ""
             }
            },
            "type": "scatterpolar"
           }
          ],
          "scatterpolargl": [
           {
            "marker": {
             "colorbar": {
              "outlinewidth": 0,
              "ticks": ""
             }
            },
            "type": "scatterpolargl"
           }
          ],
          "scatterternary": [
           {
            "marker": {
             "colorbar": {
              "outlinewidth": 0,
              "ticks": ""
             }
            },
            "type": "scatterternary"
           }
          ],
          "surface": [
           {
            "colorbar": {
             "outlinewidth": 0,
             "ticks": ""
            },
            "colorscale": [
             [
              0,
              "#0d0887"
             ],
             [
              0.1111111111111111,
              "#46039f"
             ],
             [
              0.2222222222222222,
              "#7201a8"
             ],
             [
              0.3333333333333333,
              "#9c179e"
             ],
             [
              0.4444444444444444,
              "#bd3786"
             ],
             [
              0.5555555555555556,
              "#d8576b"
             ],
             [
              0.6666666666666666,
              "#ed7953"
             ],
             [
              0.7777777777777778,
              "#fb9f3a"
             ],
             [
              0.8888888888888888,
              "#fdca26"
             ],
             [
              1,
              "#f0f921"
             ]
            ],
            "type": "surface"
           }
          ],
          "table": [
           {
            "cells": {
             "fill": {
              "color": "#EBF0F8"
             },
             "line": {
              "color": "white"
             }
            },
            "header": {
             "fill": {
              "color": "#C8D4E3"
             },
             "line": {
              "color": "white"
             }
            },
            "type": "table"
           }
          ]
         },
         "layout": {
          "annotationdefaults": {
           "arrowcolor": "#2a3f5f",
           "arrowhead": 0,
           "arrowwidth": 1
          },
          "autotypenumbers": "strict",
          "coloraxis": {
           "colorbar": {
            "outlinewidth": 0,
            "ticks": ""
           }
          },
          "colorscale": {
           "diverging": [
            [
             0,
             "#8e0152"
            ],
            [
             0.1,
             "#c51b7d"
            ],
            [
             0.2,
             "#de77ae"
            ],
            [
             0.3,
             "#f1b6da"
            ],
            [
             0.4,
             "#fde0ef"
            ],
            [
             0.5,
             "#f7f7f7"
            ],
            [
             0.6,
             "#e6f5d0"
            ],
            [
             0.7,
             "#b8e186"
            ],
            [
             0.8,
             "#7fbc41"
            ],
            [
             0.9,
             "#4d9221"
            ],
            [
             1,
             "#276419"
            ]
           ],
           "sequential": [
            [
             0,
             "#0d0887"
            ],
            [
             0.1111111111111111,
             "#46039f"
            ],
            [
             0.2222222222222222,
             "#7201a8"
            ],
            [
             0.3333333333333333,
             "#9c179e"
            ],
            [
             0.4444444444444444,
             "#bd3786"
            ],
            [
             0.5555555555555556,
             "#d8576b"
            ],
            [
             0.6666666666666666,
             "#ed7953"
            ],
            [
             0.7777777777777778,
             "#fb9f3a"
            ],
            [
             0.8888888888888888,
             "#fdca26"
            ],
            [
             1,
             "#f0f921"
            ]
           ],
           "sequentialminus": [
            [
             0,
             "#0d0887"
            ],
            [
             0.1111111111111111,
             "#46039f"
            ],
            [
             0.2222222222222222,
             "#7201a8"
            ],
            [
             0.3333333333333333,
             "#9c179e"
            ],
            [
             0.4444444444444444,
             "#bd3786"
            ],
            [
             0.5555555555555556,
             "#d8576b"
            ],
            [
             0.6666666666666666,
             "#ed7953"
            ],
            [
             0.7777777777777778,
             "#fb9f3a"
            ],
            [
             0.8888888888888888,
             "#fdca26"
            ],
            [
             1,
             "#f0f921"
            ]
           ]
          },
          "colorway": [
           "#636efa",
           "#EF553B",
           "#00cc96",
           "#ab63fa",
           "#FFA15A",
           "#19d3f3",
           "#FF6692",
           "#B6E880",
           "#FF97FF",
           "#FECB52"
          ],
          "font": {
           "color": "#2a3f5f"
          },
          "geo": {
           "bgcolor": "white",
           "lakecolor": "white",
           "landcolor": "#E5ECF6",
           "showlakes": true,
           "showland": true,
           "subunitcolor": "white"
          },
          "hoverlabel": {
           "align": "left"
          },
          "hovermode": "closest",
          "mapbox": {
           "style": "light"
          },
          "paper_bgcolor": "white",
          "plot_bgcolor": "#E5ECF6",
          "polar": {
           "angularaxis": {
            "gridcolor": "white",
            "linecolor": "white",
            "ticks": ""
           },
           "bgcolor": "#E5ECF6",
           "radialaxis": {
            "gridcolor": "white",
            "linecolor": "white",
            "ticks": ""
           }
          },
          "scene": {
           "xaxis": {
            "backgroundcolor": "#E5ECF6",
            "gridcolor": "white",
            "gridwidth": 2,
            "linecolor": "white",
            "showbackground": true,
            "ticks": "",
            "zerolinecolor": "white"
           },
           "yaxis": {
            "backgroundcolor": "#E5ECF6",
            "gridcolor": "white",
            "gridwidth": 2,
            "linecolor": "white",
            "showbackground": true,
            "ticks": "",
            "zerolinecolor": "white"
           },
           "zaxis": {
            "backgroundcolor": "#E5ECF6",
            "gridcolor": "white",
            "gridwidth": 2,
            "linecolor": "white",
            "showbackground": true,
            "ticks": "",
            "zerolinecolor": "white"
           }
          },
          "shapedefaults": {
           "line": {
            "color": "#2a3f5f"
           }
          },
          "ternary": {
           "aaxis": {
            "gridcolor": "white",
            "linecolor": "white",
            "ticks": ""
           },
           "baxis": {
            "gridcolor": "white",
            "linecolor": "white",
            "ticks": ""
           },
           "bgcolor": "#E5ECF6",
           "caxis": {
            "gridcolor": "white",
            "linecolor": "white",
            "ticks": ""
           }
          },
          "title": {
           "x": 0.05
          },
          "xaxis": {
           "automargin": true,
           "gridcolor": "white",
           "linecolor": "white",
           "ticks": "",
           "title": {
            "standoff": 15
           },
           "zerolinecolor": "white",
           "zerolinewidth": 2
          },
          "yaxis": {
           "automargin": true,
           "gridcolor": "white",
           "linecolor": "white",
           "ticks": "",
           "title": {
            "standoff": 15
           },
           "zerolinecolor": "white",
           "zerolinewidth": 2
          }
         }
        },
        "title": {
         "text": "drop duplicate"
        },
        "xaxis": {
         "anchor": "y",
         "domain": [
          0,
          1
         ],
         "title": {
          "text": "x"
         }
        },
        "yaxis": {
         "anchor": "x",
         "domain": [
          0,
          1
         ],
         "title": {
          "text": "y"
         }
        }
       }
      }
     },
     "metadata": {},
     "output_type": "display_data"
    },
    {
     "name": "stdout",
     "output_type": "stream",
     "text": [
      "before drop:  3563 \n",
      "after drop:  949\n"
     ]
    }
   ],
   "source": [
    "#drop duplicate songs\n",
    "before = len(combined_df)\n",
    "combined_df = combined_df.drop_duplicates(subset = 'track_name')\n",
    "after = len(combined_df)\n",
    "data  = [before, after]\n",
    "col  = ['Before_Drop', 'After_Drop']\n",
    "fig = px.bar(x= data,y = col, title = 'drop duplicate', color = col)\n",
    "fig.show()\n",
    "print('before drop: ',  before, '\\nafter drop: ', after)"
   ]
  },
  {
   "cell_type": "code",
   "execution_count": 745,
   "metadata": {},
   "outputs": [
    {
     "data": {
      "text/plain": [
       "track_id             949\n",
       "track_name           949\n",
       "track_url            949\n",
       "track_popularity      97\n",
       "album_id             790\n",
       "album_name           782\n",
       "countries             19\n",
       "album_url            790\n",
       "album_image          790\n",
       "track_preview        949\n",
       "artist_id            519\n",
       "artist_name          519\n",
       "artist_url           519\n",
       "artist_image         514\n",
       "artist_genre         113\n",
       "artist_followers     537\n",
       "artist_popularity     89\n",
       "record_date            4\n",
       "Country               19\n",
       "danceability         465\n",
       "energy               526\n",
       "key                   12\n",
       "loudness             907\n",
       "mode                   2\n",
       "speechiness          593\n",
       "acousticness         736\n",
       "instrumentalness     553\n",
       "liveness             480\n",
       "valence              560\n",
       "tempo                930\n",
       "duration_ms          939\n",
       "time_signature         4\n",
       "dtype: int64"
      ]
     },
     "execution_count": 745,
     "metadata": {},
     "output_type": "execute_result"
    }
   ],
   "source": [
    "combined_df.nunique()"
   ]
  },
  {
   "cell_type": "code",
   "execution_count": 746,
   "metadata": {},
   "outputs": [],
   "source": [
    "# select feature and genre\n",
    "combined_df = combined_df[['artist_genre',  'danceability', 'energy', 'key', 'loudness', 'mode',\n",
    "       'speechiness', 'acousticness', 'instrumentalness', 'liveness',\n",
    "       'valence', 'tempo', 'duration_ms', 'time_signature', 'track_popularity']]\n",
    "combined_df.columns = ['genre',  'danceability', 'energy', 'key', 'loudness', 'mode',\n",
    "       'speechiness', 'acousticness', 'instrumentalness', 'liveness',\n",
    "       'valence', 'tempo', 'duration_ms', 'time_signature','track_popularity']"
   ]
  },
  {
   "cell_type": "code",
   "execution_count": 747,
   "metadata": {},
   "outputs": [
    {
     "name": "stdout",
     "output_type": "stream",
     "text": [
      "<class 'pandas.core.frame.DataFrame'>\n",
      "Int64Index: 949 entries, 0 to 3252\n",
      "Data columns (total 15 columns):\n",
      " #   Column            Non-Null Count  Dtype \n",
      "---  ------            --------------  ----- \n",
      " 0   genre             949 non-null    object\n",
      " 1   danceability      949 non-null    object\n",
      " 2   energy            949 non-null    object\n",
      " 3   key               949 non-null    object\n",
      " 4   loudness          949 non-null    object\n",
      " 5   mode              949 non-null    object\n",
      " 6   speechiness       949 non-null    object\n",
      " 7   acousticness      949 non-null    object\n",
      " 8   instrumentalness  949 non-null    object\n",
      " 9   liveness          949 non-null    object\n",
      " 10  valence           949 non-null    object\n",
      " 11  tempo             949 non-null    object\n",
      " 12  duration_ms       949 non-null    object\n",
      " 13  time_signature    949 non-null    object\n",
      " 14  track_popularity  949 non-null    object\n",
      "dtypes: object(15)\n",
      "memory usage: 118.6+ KB\n"
     ]
    }
   ],
   "source": [
    "combined_df.info()"
   ]
  },
  {
   "cell_type": "code",
   "execution_count": 748,
   "metadata": {},
   "outputs": [
    {
     "name": "stdout",
     "output_type": "stream",
     "text": [
      "genre                object\n",
      "danceability        float64\n",
      "energy              float64\n",
      "key                  object\n",
      "loudness            float64\n",
      "mode                 object\n",
      "speechiness         float64\n",
      "acousticness        float64\n",
      "instrumentalness    float64\n",
      "liveness            float64\n",
      "valence             float64\n",
      "tempo               float64\n",
      "duration_ms           int32\n",
      "time_signature       object\n",
      "track_popularity      int32\n",
      "dtype: object\n"
     ]
    }
   ],
   "source": [
    "#change data type:\n",
    "combined_df['danceability'] = combined_df['danceability'].astype(float)\n",
    "combined_df['energy'] = combined_df['energy'].astype(float)\n",
    "combined_df['key'] = combined_df['key'].astype(str)\n",
    "combined_df['loudness'] = combined_df['loudness'].astype(float)\n",
    "combined_df['mode'] = combined_df['mode'].astype(str)\n",
    "combined_df['speechiness'] = combined_df['speechiness'].astype(float)\n",
    "combined_df['acousticness'] = combined_df['acousticness'].astype(float)\n",
    "combined_df['instrumentalness'] = combined_df['instrumentalness'].astype(float)\n",
    "combined_df['liveness'] = combined_df['liveness'].astype(float)\n",
    "combined_df['valence'] = combined_df['valence'].astype(float)\n",
    "combined_df['tempo'] = combined_df['tempo'].astype(float)\n",
    "combined_df['duration_ms'] = combined_df['duration_ms'].astype(int)\n",
    "combined_df['genre'] = combined_df['genre'].astype(str)\n",
    "combined_df['time_signature'] = combined_df['time_signature'].astype(str)\n",
    "combined_df['track_popularity'] = combined_df['track_popularity'].astype(int)\n",
    "print(combined_df.dtypes)"
   ]
  },
  {
   "attachments": {},
   "cell_type": "markdown",
   "metadata": {},
   "source": [
    "Remove missing Genre"
   ]
  },
  {
   "cell_type": "code",
   "execution_count": 749,
   "metadata": {},
   "outputs": [
    {
     "data": {
      "application/vnd.plotly.v1+json": {
       "config": {
        "plotlyServerURL": "https://plot.ly"
       },
       "data": [
        {
         "text": [
          163,
          119,
          42,
          35,
          33,
          28,
          26,
          25,
          21,
          21,
          20,
          16,
          12,
          10,
          10
         ],
         "textposition": "auto",
         "type": "bar",
         "x": [
          "rock",
          "pop",
          "mexican",
          "german",
          "egyptian",
          "hip",
          "russian",
          "rap",
          "brega",
          "trance",
          "indonesian",
          "reggaeton",
          "latino",
          "canadian",
          "edm"
         ],
         "y": [
          163,
          119,
          42,
          35,
          33,
          28,
          26,
          25,
          21,
          21,
          20,
          16,
          12,
          10,
          10
         ]
        }
       ],
       "layout": {
        "template": {
         "data": {
          "bar": [
           {
            "error_x": {
             "color": "#2a3f5f"
            },
            "error_y": {
             "color": "#2a3f5f"
            },
            "marker": {
             "line": {
              "color": "#E5ECF6",
              "width": 0.5
             },
             "pattern": {
              "fillmode": "overlay",
              "size": 10,
              "solidity": 0.2
             }
            },
            "type": "bar"
           }
          ],
          "barpolar": [
           {
            "marker": {
             "line": {
              "color": "#E5ECF6",
              "width": 0.5
             },
             "pattern": {
              "fillmode": "overlay",
              "size": 10,
              "solidity": 0.2
             }
            },
            "type": "barpolar"
           }
          ],
          "carpet": [
           {
            "aaxis": {
             "endlinecolor": "#2a3f5f",
             "gridcolor": "white",
             "linecolor": "white",
             "minorgridcolor": "white",
             "startlinecolor": "#2a3f5f"
            },
            "baxis": {
             "endlinecolor": "#2a3f5f",
             "gridcolor": "white",
             "linecolor": "white",
             "minorgridcolor": "white",
             "startlinecolor": "#2a3f5f"
            },
            "type": "carpet"
           }
          ],
          "choropleth": [
           {
            "colorbar": {
             "outlinewidth": 0,
             "ticks": ""
            },
            "type": "choropleth"
           }
          ],
          "contour": [
           {
            "colorbar": {
             "outlinewidth": 0,
             "ticks": ""
            },
            "colorscale": [
             [
              0,
              "#0d0887"
             ],
             [
              0.1111111111111111,
              "#46039f"
             ],
             [
              0.2222222222222222,
              "#7201a8"
             ],
             [
              0.3333333333333333,
              "#9c179e"
             ],
             [
              0.4444444444444444,
              "#bd3786"
             ],
             [
              0.5555555555555556,
              "#d8576b"
             ],
             [
              0.6666666666666666,
              "#ed7953"
             ],
             [
              0.7777777777777778,
              "#fb9f3a"
             ],
             [
              0.8888888888888888,
              "#fdca26"
             ],
             [
              1,
              "#f0f921"
             ]
            ],
            "type": "contour"
           }
          ],
          "contourcarpet": [
           {
            "colorbar": {
             "outlinewidth": 0,
             "ticks": ""
            },
            "type": "contourcarpet"
           }
          ],
          "heatmap": [
           {
            "colorbar": {
             "outlinewidth": 0,
             "ticks": ""
            },
            "colorscale": [
             [
              0,
              "#0d0887"
             ],
             [
              0.1111111111111111,
              "#46039f"
             ],
             [
              0.2222222222222222,
              "#7201a8"
             ],
             [
              0.3333333333333333,
              "#9c179e"
             ],
             [
              0.4444444444444444,
              "#bd3786"
             ],
             [
              0.5555555555555556,
              "#d8576b"
             ],
             [
              0.6666666666666666,
              "#ed7953"
             ],
             [
              0.7777777777777778,
              "#fb9f3a"
             ],
             [
              0.8888888888888888,
              "#fdca26"
             ],
             [
              1,
              "#f0f921"
             ]
            ],
            "type": "heatmap"
           }
          ],
          "heatmapgl": [
           {
            "colorbar": {
             "outlinewidth": 0,
             "ticks": ""
            },
            "colorscale": [
             [
              0,
              "#0d0887"
             ],
             [
              0.1111111111111111,
              "#46039f"
             ],
             [
              0.2222222222222222,
              "#7201a8"
             ],
             [
              0.3333333333333333,
              "#9c179e"
             ],
             [
              0.4444444444444444,
              "#bd3786"
             ],
             [
              0.5555555555555556,
              "#d8576b"
             ],
             [
              0.6666666666666666,
              "#ed7953"
             ],
             [
              0.7777777777777778,
              "#fb9f3a"
             ],
             [
              0.8888888888888888,
              "#fdca26"
             ],
             [
              1,
              "#f0f921"
             ]
            ],
            "type": "heatmapgl"
           }
          ],
          "histogram": [
           {
            "marker": {
             "pattern": {
              "fillmode": "overlay",
              "size": 10,
              "solidity": 0.2
             }
            },
            "type": "histogram"
           }
          ],
          "histogram2d": [
           {
            "colorbar": {
             "outlinewidth": 0,
             "ticks": ""
            },
            "colorscale": [
             [
              0,
              "#0d0887"
             ],
             [
              0.1111111111111111,
              "#46039f"
             ],
             [
              0.2222222222222222,
              "#7201a8"
             ],
             [
              0.3333333333333333,
              "#9c179e"
             ],
             [
              0.4444444444444444,
              "#bd3786"
             ],
             [
              0.5555555555555556,
              "#d8576b"
             ],
             [
              0.6666666666666666,
              "#ed7953"
             ],
             [
              0.7777777777777778,
              "#fb9f3a"
             ],
             [
              0.8888888888888888,
              "#fdca26"
             ],
             [
              1,
              "#f0f921"
             ]
            ],
            "type": "histogram2d"
           }
          ],
          "histogram2dcontour": [
           {
            "colorbar": {
             "outlinewidth": 0,
             "ticks": ""
            },
            "colorscale": [
             [
              0,
              "#0d0887"
             ],
             [
              0.1111111111111111,
              "#46039f"
             ],
             [
              0.2222222222222222,
              "#7201a8"
             ],
             [
              0.3333333333333333,
              "#9c179e"
             ],
             [
              0.4444444444444444,
              "#bd3786"
             ],
             [
              0.5555555555555556,
              "#d8576b"
             ],
             [
              0.6666666666666666,
              "#ed7953"
             ],
             [
              0.7777777777777778,
              "#fb9f3a"
             ],
             [
              0.8888888888888888,
              "#fdca26"
             ],
             [
              1,
              "#f0f921"
             ]
            ],
            "type": "histogram2dcontour"
           }
          ],
          "mesh3d": [
           {
            "colorbar": {
             "outlinewidth": 0,
             "ticks": ""
            },
            "type": "mesh3d"
           }
          ],
          "parcoords": [
           {
            "line": {
             "colorbar": {
              "outlinewidth": 0,
              "ticks": ""
             }
            },
            "type": "parcoords"
           }
          ],
          "pie": [
           {
            "automargin": true,
            "type": "pie"
           }
          ],
          "scatter": [
           {
            "fillpattern": {
             "fillmode": "overlay",
             "size": 10,
             "solidity": 0.2
            },
            "type": "scatter"
           }
          ],
          "scatter3d": [
           {
            "line": {
             "colorbar": {
              "outlinewidth": 0,
              "ticks": ""
             }
            },
            "marker": {
             "colorbar": {
              "outlinewidth": 0,
              "ticks": ""
             }
            },
            "type": "scatter3d"
           }
          ],
          "scattercarpet": [
           {
            "marker": {
             "colorbar": {
              "outlinewidth": 0,
              "ticks": ""
             }
            },
            "type": "scattercarpet"
           }
          ],
          "scattergeo": [
           {
            "marker": {
             "colorbar": {
              "outlinewidth": 0,
              "ticks": ""
             }
            },
            "type": "scattergeo"
           }
          ],
          "scattergl": [
           {
            "marker": {
             "colorbar": {
              "outlinewidth": 0,
              "ticks": ""
             }
            },
            "type": "scattergl"
           }
          ],
          "scattermapbox": [
           {
            "marker": {
             "colorbar": {
              "outlinewidth": 0,
              "ticks": ""
             }
            },
            "type": "scattermapbox"
           }
          ],
          "scatterpolar": [
           {
            "marker": {
             "colorbar": {
              "outlinewidth": 0,
              "ticks": ""
             }
            },
            "type": "scatterpolar"
           }
          ],
          "scatterpolargl": [
           {
            "marker": {
             "colorbar": {
              "outlinewidth": 0,
              "ticks": ""
             }
            },
            "type": "scatterpolargl"
           }
          ],
          "scatterternary": [
           {
            "marker": {
             "colorbar": {
              "outlinewidth": 0,
              "ticks": ""
             }
            },
            "type": "scatterternary"
           }
          ],
          "surface": [
           {
            "colorbar": {
             "outlinewidth": 0,
             "ticks": ""
            },
            "colorscale": [
             [
              0,
              "#0d0887"
             ],
             [
              0.1111111111111111,
              "#46039f"
             ],
             [
              0.2222222222222222,
              "#7201a8"
             ],
             [
              0.3333333333333333,
              "#9c179e"
             ],
             [
              0.4444444444444444,
              "#bd3786"
             ],
             [
              0.5555555555555556,
              "#d8576b"
             ],
             [
              0.6666666666666666,
              "#ed7953"
             ],
             [
              0.7777777777777778,
              "#fb9f3a"
             ],
             [
              0.8888888888888888,
              "#fdca26"
             ],
             [
              1,
              "#f0f921"
             ]
            ],
            "type": "surface"
           }
          ],
          "table": [
           {
            "cells": {
             "fill": {
              "color": "#EBF0F8"
             },
             "line": {
              "color": "white"
             }
            },
            "header": {
             "fill": {
              "color": "#C8D4E3"
             },
             "line": {
              "color": "white"
             }
            },
            "type": "table"
           }
          ]
         },
         "layout": {
          "annotationdefaults": {
           "arrowcolor": "#2a3f5f",
           "arrowhead": 0,
           "arrowwidth": 1
          },
          "autotypenumbers": "strict",
          "coloraxis": {
           "colorbar": {
            "outlinewidth": 0,
            "ticks": ""
           }
          },
          "colorscale": {
           "diverging": [
            [
             0,
             "#8e0152"
            ],
            [
             0.1,
             "#c51b7d"
            ],
            [
             0.2,
             "#de77ae"
            ],
            [
             0.3,
             "#f1b6da"
            ],
            [
             0.4,
             "#fde0ef"
            ],
            [
             0.5,
             "#f7f7f7"
            ],
            [
             0.6,
             "#e6f5d0"
            ],
            [
             0.7,
             "#b8e186"
            ],
            [
             0.8,
             "#7fbc41"
            ],
            [
             0.9,
             "#4d9221"
            ],
            [
             1,
             "#276419"
            ]
           ],
           "sequential": [
            [
             0,
             "#0d0887"
            ],
            [
             0.1111111111111111,
             "#46039f"
            ],
            [
             0.2222222222222222,
             "#7201a8"
            ],
            [
             0.3333333333333333,
             "#9c179e"
            ],
            [
             0.4444444444444444,
             "#bd3786"
            ],
            [
             0.5555555555555556,
             "#d8576b"
            ],
            [
             0.6666666666666666,
             "#ed7953"
            ],
            [
             0.7777777777777778,
             "#fb9f3a"
            ],
            [
             0.8888888888888888,
             "#fdca26"
            ],
            [
             1,
             "#f0f921"
            ]
           ],
           "sequentialminus": [
            [
             0,
             "#0d0887"
            ],
            [
             0.1111111111111111,
             "#46039f"
            ],
            [
             0.2222222222222222,
             "#7201a8"
            ],
            [
             0.3333333333333333,
             "#9c179e"
            ],
            [
             0.4444444444444444,
             "#bd3786"
            ],
            [
             0.5555555555555556,
             "#d8576b"
            ],
            [
             0.6666666666666666,
             "#ed7953"
            ],
            [
             0.7777777777777778,
             "#fb9f3a"
            ],
            [
             0.8888888888888888,
             "#fdca26"
            ],
            [
             1,
             "#f0f921"
            ]
           ]
          },
          "colorway": [
           "#636efa",
           "#EF553B",
           "#00cc96",
           "#ab63fa",
           "#FFA15A",
           "#19d3f3",
           "#FF6692",
           "#B6E880",
           "#FF97FF",
           "#FECB52"
          ],
          "font": {
           "color": "#2a3f5f"
          },
          "geo": {
           "bgcolor": "white",
           "lakecolor": "white",
           "landcolor": "#E5ECF6",
           "showlakes": true,
           "showland": true,
           "subunitcolor": "white"
          },
          "hoverlabel": {
           "align": "left"
          },
          "hovermode": "closest",
          "mapbox": {
           "style": "light"
          },
          "paper_bgcolor": "white",
          "plot_bgcolor": "#E5ECF6",
          "polar": {
           "angularaxis": {
            "gridcolor": "white",
            "linecolor": "white",
            "ticks": ""
           },
           "bgcolor": "#E5ECF6",
           "radialaxis": {
            "gridcolor": "white",
            "linecolor": "white",
            "ticks": ""
           }
          },
          "scene": {
           "xaxis": {
            "backgroundcolor": "#E5ECF6",
            "gridcolor": "white",
            "gridwidth": 2,
            "linecolor": "white",
            "showbackground": true,
            "ticks": "",
            "zerolinecolor": "white"
           },
           "yaxis": {
            "backgroundcolor": "#E5ECF6",
            "gridcolor": "white",
            "gridwidth": 2,
            "linecolor": "white",
            "showbackground": true,
            "ticks": "",
            "zerolinecolor": "white"
           },
           "zaxis": {
            "backgroundcolor": "#E5ECF6",
            "gridcolor": "white",
            "gridwidth": 2,
            "linecolor": "white",
            "showbackground": true,
            "ticks": "",
            "zerolinecolor": "white"
           }
          },
          "shapedefaults": {
           "line": {
            "color": "#2a3f5f"
           }
          },
          "ternary": {
           "aaxis": {
            "gridcolor": "white",
            "linecolor": "white",
            "ticks": ""
           },
           "baxis": {
            "gridcolor": "white",
            "linecolor": "white",
            "ticks": ""
           },
           "bgcolor": "#E5ECF6",
           "caxis": {
            "gridcolor": "white",
            "linecolor": "white",
            "ticks": ""
           }
          },
          "title": {
           "x": 0.05
          },
          "xaxis": {
           "automargin": true,
           "gridcolor": "white",
           "linecolor": "white",
           "ticks": "",
           "title": {
            "standoff": 15
           },
           "zerolinecolor": "white",
           "zerolinewidth": 2
          },
          "yaxis": {
           "automargin": true,
           "gridcolor": "white",
           "linecolor": "white",
           "ticks": "",
           "title": {
            "standoff": 15
           },
           "zerolinecolor": "white",
           "zerolinewidth": 2
          }
         }
        },
        "title": {
         "text": "Top 15 genre_counts"
        },
        "xaxis": {
         "title": {
          "text": "Genre"
         }
        },
        "yaxis": {
         "title": {
          "text": "Count"
         }
        }
       }
      }
     },
     "metadata": {},
     "output_type": "display_data"
    }
   ],
   "source": [
    "import plotly.graph_objects as go\n",
    "#filter the Null genre\n",
    "combined_df = combined_df[combined_df[\"genre\"] != 'Null']\n",
    "# visualise genre\n",
    "genre_counts = combined_df[\"genre\"].value_counts().head(15)\n",
    "genre_counts_df = pd.DataFrame({\n",
    "    'genre': genre_counts.index,\n",
    "    'count': genre_counts.values\n",
    "})\n",
    "fig = go.Figure(data=[go.Bar(\n",
    "    x=genre_counts_df['genre'], y=genre_counts_df['count'],\n",
    "    text=genre_counts_df['count'], textposition='auto'\n",
    ")])\n",
    "\n",
    "fig.update_layout(title='Top 15 genre_counts', xaxis_title='Genre', yaxis_title='Count')\n",
    "\n",
    "fig.show()"
   ]
  },
  {
   "attachments": {},
   "cell_type": "markdown",
   "metadata": {},
   "source": [
    "I used LabelEncoder to convert label to numeric value,  This will help me identify which features have a strong positive or negative correlation with the target variable. and also a good practice to check for multicollinearity, for now everything looks cool"
   ]
  },
  {
   "cell_type": "code",
   "execution_count": 750,
   "metadata": {},
   "outputs": [
    {
     "data": {
      "image/png": "[encoded data removed]",
      "text/plain": [
       "<Figure size 1080x720 with 2 Axes>"
      ]
     },
     "metadata": {
      "needs_background": "light"
     },
     "output_type": "display_data"
    }
   ],
   "source": [
    "from sklearn.preprocessing import LabelEncoder\n",
    "encoder = LabelEncoder()\n",
    "combined_df['genre_encoded'] = encoder.fit_transform(combined_df['genre'])\n",
    "\n",
    "fig, ax = plt.subplots(figsize=(15,10))\n",
    "sns.heatmap(combined_df.corr(), annot=True, cmap='YlGnBu')\n",
    "plt.title('track features correlation map')\n",
    "plt.show()"
   ]
  },
  {
   "attachments": {},
   "cell_type": "markdown",
   "metadata": {},
   "source": [
    "Check for Multicollinearity"
   ]
  },
  {
   "cell_type": "code",
   "execution_count": 751,
   "metadata": {},
   "outputs": [
    {
     "data": {
      "text/plain": [
       "[]"
      ]
     },
     "execution_count": 751,
     "metadata": {},
     "output_type": "execute_result"
    }
   ],
   "source": [
    "corr_matrix = combined_df.corr().abs()\n",
    "upper = corr_matrix.where(np.triu(np.ones(corr_matrix.shape), k=1).astype(np.bool))\n",
    "\n",
    "# Find features with correlation greater than 0.80\n",
    "to_drop = [column for column in upper.columns if any(upper[column] > 0.80)]\n",
    "to_drop"
   ]
  },
  {
   "cell_type": "code",
   "execution_count": 752,
   "metadata": {},
   "outputs": [
    {
     "name": "stdout",
     "output_type": "stream",
     "text": [
      "danceability: -0.51\n",
      "energy: -0.43\n",
      "key: -0.05\n",
      "loudness: -1.06\n",
      "mode: -0.23\n",
      "speechiness: 2.05\n",
      "acousticness: 0.67\n",
      "instrumentalness: 2.96\n",
      "liveness: 2.46\n",
      "valence: 0.01\n",
      "tempo: 0.38\n",
      "duration_ms: 2.40\n",
      "time_signature: -3.42\n",
      "track_popularity: -0.58\n",
      "genre_encoded: -0.80\n"
     ]
    },
    {
     "data": {
      "image/png": "[encoded data removed]",
      "text/plain": [
       "<Figure size 1080x1080 with 12 Axes>"
      ]
     },
     "metadata": {
      "needs_background": "light"
     },
     "output_type": "display_data"
    }
   ],
   "source": [
    "combined_df.hist(bins=20, figsize=(15,15))\n",
    "skew_values = combined_df.skew()\n",
    "for col_name, skew_val in skew_values.iteritems():\n",
    "    print(f\"{col_name}: {skew_val:.2f}\")\n",
    "\n",
    "\n",
    "plt.show()"
   ]
  },
  {
   "cell_type": "code",
   "execution_count": 753,
   "metadata": {},
   "outputs": [
    {
     "data": {
      "image/png": "[encoded data removed]",
      "text/plain": [
       "<Figure size 432x288 with 1 Axes>"
      ]
     },
     "metadata": {
      "needs_background": "light"
     },
     "output_type": "display_data"
    }
   ],
   "source": [
    "sns.boxplot(data=combined_df.drop(['genre'], axis=1))\n",
    "plt.xlabel('Features')\n",
    "plt.ylabel('Value')\n",
    "plt.show()"
   ]
  },
  {
   "cell_type": "code",
   "execution_count": 754,
   "metadata": {},
   "outputs": [
    {
     "data": {
      "image/png": "[encoded data removed]",
      "text/plain": [
       "<Figure size 432x288 with 1 Axes>"
      ]
     },
     "metadata": {
      "needs_background": "light"
     },
     "output_type": "display_data"
    }
   ],
   "source": [
    "sns.boxplot(data=combined_df.drop(['genre','duration_ms'], axis=1))\n",
    "plt.xlabel('Features')\n",
    "plt.ylabel('Value')\n",
    "plt.show()"
   ]
  },
  {
   "attachments": {},
   "cell_type": "markdown",
   "metadata": {},
   "source": [
    "there are two problems:\n",
    "\n",
    "1. features are skewed. \n",
    "\n",
    "\n",
    "2. features are not on the same scale, eg. duration_ms is much larger than others"
   ]
  },
  {
   "attachments": {},
   "cell_type": "markdown",
   "metadata": {},
   "source": [
    "### Step3 Remove outliers"
   ]
  },
  {
   "attachments": {},
   "cell_type": "markdown",
   "metadata": {},
   "source": [
    "From last plot, we can see there are many outliers in duration_ms, but in next plot, we can see different genre has a different duration_ms distribution, so what I should do is remove outliers by each genre"
   ]
  },
  {
   "cell_type": "code",
   "execution_count": 755,
   "metadata": {},
   "outputs": [
    {
     "data": {
      "image/png": "[encoded data removed]",
      "text/plain": [
       "<Figure size 432x288 with 1 Axes>"
      ]
     },
     "metadata": {
      "needs_background": "light"
     },
     "output_type": "display_data"
    }
   ],
   "source": [
    "# Calculate the top 10 most common genres by value counts\n",
    "top_genres = combined_df['genre'].value_counts().head(10).index\n",
    "\n",
    "# Subset the DataFrame to include only the top 10 genres\n",
    "top_genre_df = combined_df[combined_df['genre'].isin(top_genres)]\n",
    "\n",
    "# Create a box plot of track duration by genre for only the top 10 genres\n",
    "plt.boxplot([top_genre_df[top_genre_df['genre'] == genre]['duration_ms'] for genre in top_genres], labels=top_genres)\n",
    "plt.xlabel('Genre')\n",
    "plt.ylabel('Track Duration (ms)')\n",
    "plt.title('Track Duration by Genre (Top 10 Genres)')\n",
    "\n",
    "# Display the plot\n",
    "plt.show()"
   ]
  },
  {
   "cell_type": "code",
   "execution_count": 756,
   "metadata": {},
   "outputs": [],
   "source": [
    "# combined_df.reset_index(drop=True)\n",
    "# feature = ['genre','key','time_signature','mode']\n",
    "# col = combined_df.columns.tolist()\n",
    "# unique_genres = combined_df['genre'].unique().tolist()\n",
    "# for f in col:\n",
    "#     if f not in col:\n",
    "#         for genre in unique_genres:\n",
    "#             plt.boxplot([top_genre_df[top_genre_df['genre'] == genre]['track_popularity'] for genre in top_genres], labels=top_genres)\n",
    "#             plt.show()"
   ]
  },
  {
   "cell_type": "code",
   "execution_count": 757,
   "metadata": {},
   "outputs": [
    {
     "name": "stdout",
     "output_type": "stream",
     "text": [
      "number of outliers removed: 410\n"
     ]
    }
   ],
   "source": [
    "# remove outliers\n",
    "combined_df.reset_index(drop=True)\n",
    "feature = ['genre','key','time_signature','mode']\n",
    "col = combined_df.columns.tolist()\n",
    "unique_genres = combined_df['genre'].unique().tolist()\n",
    "outliers_row_numbers = []\n",
    "for f in col:\n",
    "    if f not in feature:\n",
    "        for genre in unique_genres:\n",
    "            df = combined_df[combined_df['genre'] == genre][[f,'genre']]\n",
    "            Q1 = df[f].quantile(0.25)\n",
    "            Q3 = df[f].quantile(0.75)\n",
    "            IQR = Q3 - Q1\n",
    "            lower_bound = Q1 - 1.5 * IQR\n",
    "            upper_bound = Q3 + 1.5 * IQR\n",
    "            outliers = df[(df[f] < lower_bound) | (df[f] > upper_bound)]\n",
    "            outliers_row_numbers.extend(outliers.index.tolist())\n",
    "combined_df = combined_df.drop(index=outliers_row_numbers, axis=1)\n",
    "combined_df = combined_df.reset_index(drop=True)\n",
    "print('number of outliers removed:', len(outliers_row_numbers))"
   ]
  },
  {
   "attachments": {},
   "cell_type": "markdown",
   "metadata": {},
   "source": [
    "### Transformation:\n",
    "\n",
    "for 'key','time_signature'and 'mode'.\n",
    "\n",
    "I will use time_signature as an example,  it is a convention in Western musical notation to specify how many of a particular note value are contained in each measure. So these features are categorical "
   ]
  },
  {
   "cell_type": "code",
   "execution_count": 758,
   "metadata": {},
   "outputs": [
    {
     "data": {
      "text/html": [
       "<div>\n",
       "<style scoped>\n",
       "    .dataframe tbody tr th:only-of-type {\n",
       "        vertical-align: middle;\n",
       "    }\n",
       "\n",
       "    .dataframe tbody tr th {\n",
       "        vertical-align: top;\n",
       "    }\n",
       "\n",
       "    .dataframe thead th {\n",
       "        text-align: right;\n",
       "    }\n",
       "</style>\n",
       "<table border=\"1\" class=\"dataframe\">\n",
       "  <thead>\n",
       "    <tr style=\"text-align: right;\">\n",
       "      <th></th>\n",
       "      <th>genre</th>\n",
       "      <th>danceability</th>\n",
       "      <th>energy</th>\n",
       "      <th>loudness</th>\n",
       "      <th>speechiness</th>\n",
       "      <th>acousticness</th>\n",
       "      <th>instrumentalness</th>\n",
       "      <th>liveness</th>\n",
       "      <th>valence</th>\n",
       "      <th>tempo</th>\n",
       "      <th>...</th>\n",
       "      <th>key_6</th>\n",
       "      <th>key_7</th>\n",
       "      <th>key_8</th>\n",
       "      <th>key_9</th>\n",
       "      <th>time_signature_1</th>\n",
       "      <th>time_signature_3</th>\n",
       "      <th>time_signature_4</th>\n",
       "      <th>time_signature_5</th>\n",
       "      <th>mode_0</th>\n",
       "      <th>mode_1</th>\n",
       "    </tr>\n",
       "  </thead>\n",
       "  <tbody>\n",
       "    <tr>\n",
       "      <th>0</th>\n",
       "      <td>pop</td>\n",
       "      <td>0.611</td>\n",
       "      <td>0.851</td>\n",
       "      <td>-2.982</td>\n",
       "      <td>0.0598</td>\n",
       "      <td>0.229</td>\n",
       "      <td>0.000000</td>\n",
       "      <td>0.2320</td>\n",
       "      <td>0.823</td>\n",
       "      <td>178.032</td>\n",
       "      <td>...</td>\n",
       "      <td>0.0</td>\n",
       "      <td>0.0</td>\n",
       "      <td>0.0</td>\n",
       "      <td>1.0</td>\n",
       "      <td>0.0</td>\n",
       "      <td>0.0</td>\n",
       "      <td>1.0</td>\n",
       "      <td>0.0</td>\n",
       "      <td>0.0</td>\n",
       "      <td>1.0</td>\n",
       "    </tr>\n",
       "    <tr>\n",
       "      <th>1</th>\n",
       "      <td>reggaeton</td>\n",
       "      <td>0.803</td>\n",
       "      <td>0.715</td>\n",
       "      <td>-3.280</td>\n",
       "      <td>0.2980</td>\n",
       "      <td>0.295</td>\n",
       "      <td>0.000134</td>\n",
       "      <td>0.0574</td>\n",
       "      <td>0.574</td>\n",
       "      <td>101.085</td>\n",
       "      <td>...</td>\n",
       "      <td>0.0</td>\n",
       "      <td>0.0</td>\n",
       "      <td>0.0</td>\n",
       "      <td>0.0</td>\n",
       "      <td>0.0</td>\n",
       "      <td>0.0</td>\n",
       "      <td>1.0</td>\n",
       "      <td>0.0</td>\n",
       "      <td>0.0</td>\n",
       "      <td>1.0</td>\n",
       "    </tr>\n",
       "    <tr>\n",
       "      <th>2</th>\n",
       "      <td>reggaeton</td>\n",
       "      <td>0.652</td>\n",
       "      <td>0.595</td>\n",
       "      <td>-4.040</td>\n",
       "      <td>0.1130</td>\n",
       "      <td>0.150</td>\n",
       "      <td>0.000115</td>\n",
       "      <td>0.0842</td>\n",
       "      <td>0.444</td>\n",
       "      <td>172.270</td>\n",
       "      <td>...</td>\n",
       "      <td>0.0</td>\n",
       "      <td>0.0</td>\n",
       "      <td>0.0</td>\n",
       "      <td>0.0</td>\n",
       "      <td>0.0</td>\n",
       "      <td>0.0</td>\n",
       "      <td>1.0</td>\n",
       "      <td>0.0</td>\n",
       "      <td>0.0</td>\n",
       "      <td>1.0</td>\n",
       "    </tr>\n",
       "    <tr>\n",
       "      <th>3</th>\n",
       "      <td>boy</td>\n",
       "      <td>0.803</td>\n",
       "      <td>0.642</td>\n",
       "      <td>-3.759</td>\n",
       "      <td>0.2170</td>\n",
       "      <td>0.153</td>\n",
       "      <td>0.000002</td>\n",
       "      <td>0.1400</td>\n",
       "      <td>0.856</td>\n",
       "      <td>170.037</td>\n",
       "      <td>...</td>\n",
       "      <td>0.0</td>\n",
       "      <td>0.0</td>\n",
       "      <td>0.0</td>\n",
       "      <td>0.0</td>\n",
       "      <td>0.0</td>\n",
       "      <td>0.0</td>\n",
       "      <td>1.0</td>\n",
       "      <td>0.0</td>\n",
       "      <td>0.0</td>\n",
       "      <td>1.0</td>\n",
       "    </tr>\n",
       "    <tr>\n",
       "      <th>4</th>\n",
       "      <td>latino</td>\n",
       "      <td>0.810</td>\n",
       "      <td>0.820</td>\n",
       "      <td>-3.497</td>\n",
       "      <td>0.0698</td>\n",
       "      <td>0.201</td>\n",
       "      <td>0.000000</td>\n",
       "      <td>0.1300</td>\n",
       "      <td>0.672</td>\n",
       "      <td>92.999</td>\n",
       "      <td>...</td>\n",
       "      <td>0.0</td>\n",
       "      <td>0.0</td>\n",
       "      <td>0.0</td>\n",
       "      <td>0.0</td>\n",
       "      <td>0.0</td>\n",
       "      <td>0.0</td>\n",
       "      <td>1.0</td>\n",
       "      <td>0.0</td>\n",
       "      <td>0.0</td>\n",
       "      <td>1.0</td>\n",
       "    </tr>\n",
       "  </tbody>\n",
       "</table>\n",
       "<p>5 rows × 30 columns</p>\n",
       "</div>"
      ],
      "text/plain": [
       "       genre  danceability  energy  loudness  speechiness  acousticness  \\\n",
       "0        pop         0.611   0.851    -2.982       0.0598         0.229   \n",
       "1  reggaeton         0.803   0.715    -3.280       0.2980         0.295   \n",
       "2  reggaeton         0.652   0.595    -4.040       0.1130         0.150   \n",
       "3        boy         0.803   0.642    -3.759       0.2170         0.153   \n",
       "4     latino         0.810   0.820    -3.497       0.0698         0.201   \n",
       "\n",
       "   instrumentalness  liveness  valence    tempo  ...  key_6  key_7  key_8  \\\n",
       "0          0.000000    0.2320    0.823  178.032  ...    0.0    0.0    0.0   \n",
       "1          0.000134    0.0574    0.574  101.085  ...    0.0    0.0    0.0   \n",
       "2          0.000115    0.0842    0.444  172.270  ...    0.0    0.0    0.0   \n",
       "3          0.000002    0.1400    0.856  170.037  ...    0.0    0.0    0.0   \n",
       "4          0.000000    0.1300    0.672   92.999  ...    0.0    0.0    0.0   \n",
       "\n",
       "   key_9  time_signature_1  time_signature_3  time_signature_4  \\\n",
       "0    1.0               0.0               0.0               1.0   \n",
       "1    0.0               0.0               0.0               1.0   \n",
       "2    0.0               0.0               0.0               1.0   \n",
       "3    0.0               0.0               0.0               1.0   \n",
       "4    0.0               0.0               0.0               1.0   \n",
       "\n",
       "   time_signature_5  mode_0  mode_1  \n",
       "0               0.0     0.0     1.0  \n",
       "1               0.0     0.0     1.0  \n",
       "2               0.0     0.0     1.0  \n",
       "3               0.0     0.0     1.0  \n",
       "4               0.0     0.0     1.0  \n",
       "\n",
       "[5 rows x 30 columns]"
      ]
     },
     "execution_count": 758,
     "metadata": {},
     "output_type": "execute_result"
    }
   ],
   "source": [
    "# apply one hot encoding:\n",
    "from sklearn.preprocessing import OneHotEncoder\n",
    "subset_df = combined_df[['key', 'time_signature', 'mode']]\n",
    "\n",
    "onehotencoder = OneHotEncoder()\n",
    "onehotencoder.fit(subset_df)\n",
    "onehotencoded_array = onehotencoder.transform(subset_df).toarray()\n",
    "onehotencoded_df = pd.DataFrame(onehotencoded_array, columns=onehotencoder.get_feature_names(['key', 'time_signature', 'mode']))\n",
    "combined_df = pd.concat([combined_df, onehotencoded_df], axis=1)\n",
    "combined_df = combined_df.drop(['key', 'time_signature', 'mode','genre_encoded'] , axis=1)\n",
    "combined_df.head()"
   ]
  },
  {
   "cell_type": "code",
   "execution_count": 759,
   "metadata": {},
   "outputs": [
    {
     "data": {
      "text/plain": [
       "['time_signature_4', 'mode_1']"
      ]
     },
     "execution_count": 759,
     "metadata": {},
     "output_type": "execute_result"
    }
   ],
   "source": [
    "corr_matrix = combined_df.corr().abs()\n",
    "upper = corr_matrix.where(np.triu(np.ones(corr_matrix.shape), k=1).astype(np.bool))\n",
    "\n",
    "# Find features with correlation greater than 0.80\n",
    "to_drop = [column for column in upper.columns if any(upper[column] > 0.80)]\n",
    "to_drop"
   ]
  },
  {
   "cell_type": "code",
   "execution_count": 760,
   "metadata": {},
   "outputs": [],
   "source": [
    "#convert duration_ms to second\n",
    "combined_df = combined_df.rename(columns={'duration_ms': 'duration_minutes'})\n",
    "combined_df['duration_minutes'] = combined_df['duration_minutes'].div(60000)"
   ]
  },
  {
   "cell_type": "code",
   "execution_count": 761,
   "metadata": {},
   "outputs": [
    {
     "name": "stdout",
     "output_type": "stream",
     "text": [
      "Best accuracy for RandomForestClassifier: 0.5288461538461539\n",
      "Best accuracy for LogisticRegression: 0.3942307692307692\n"
     ]
    }
   ],
   "source": [
    "from sklearn.metrics import accuracy_score\n",
    "from sklearn.ensemble import RandomForestClassifier\n",
    "from sklearn.linear_model import LogisticRegression\n",
    "from sklearn.model_selection import train_test_split\n",
    "import warnings\n",
    "warnings.filterwarnings('ignore')\n",
    "# set the number of runs\n",
    "num_runs = 100\n",
    "\n",
    "# initialize the best accuracy and best model for each algorithm\n",
    "rf_best_acc = 0\n",
    "rf_best_model = None\n",
    "lr_best_acc = 0\n",
    "lr_best_model = None\n",
    "\n",
    "#shuffle my dataframe\n",
    "combined_df = combined_df.drop(['time_signature_4', 'mode_1'], axis=1)\n",
    "shuffled_df = combined_df.sample(frac=1, random_state=42)\n",
    "\n",
    "# split the dataframe into X and y\n",
    "X = shuffled_df.drop('genre', axis=1)\n",
    "y = shuffled_df['genre']\n",
    "\n",
    "# repeat the experiment multiple times\n",
    "for i in range(num_runs):\n",
    "    # split the data into training and testing sets\n",
    "    X_train, X_test, y_train, y_test = train_test_split(X, y, test_size=0.2, random_state=i)\n",
    "    \n",
    "    # train the RandomForestClassifier model on the training data\n",
    "    rf = RandomForestClassifier()\n",
    "    rf.fit(X_train, y_train)\n",
    "    \n",
    "    # make predictions on the test set and compute the accuracy\n",
    "    y_pred = rf.predict(X_test)\n",
    "    acc = accuracy_score(y_test, y_pred)\n",
    "    \n",
    "    # check if this is the best RandomForestClassifier model so far\n",
    "    if acc > rf_best_acc:\n",
    "        rf_best_acc = acc\n",
    "        rf_best_model = rf\n",
    "    \n",
    "    # train the LogisticRegression model on the training data\n",
    "    lr = LogisticRegression()\n",
    "    lr.fit(X_train, y_train)\n",
    "    \n",
    "    # make predictions on the test set and compute the accuracy\n",
    "    y_pred = lr.predict(X_test)\n",
    "    acc = accuracy_score(y_test, y_pred)\n",
    "    \n",
    "    # check if this is the best LogisticRegression model so far\n",
    "    if acc > lr_best_acc:\n",
    "        lr_best_acc = acc\n",
    "        lr_best_model = lr\n",
    "        \n",
    "# print the best accuracy and the parameters of the best models for each algorithm\n",
    "print('Best accuracy for RandomForestClassifier:', rf_best_acc)\n",
    "print('Best accuracy for LogisticRegression:', lr_best_acc)\n",
    "\n",
    "        "
   ]
  },
  {
   "cell_type": "code",
   "execution_count": 620,
   "metadata": {},
   "outputs": [
    {
     "data": {
      "image/png": "[encoded data removed]",
      "text/plain": [
       "<Figure size 432x288 with 1 Axes>"
      ]
     },
     "metadata": {
      "needs_background": "light"
     },
     "output_type": "display_data"
    },
    {
     "name": "stdout",
     "output_type": "stream",
     "text": [
      "Maximum Accuracy for Knn: 0.3173076923076923\n",
      "K: 26\n"
     ]
    }
   ],
   "source": [
    "from sklearn.neighbors import KNeighborsClassifier\n",
    "from sklearn.preprocessing import MinMaxScaler,StandardScaler\n",
    "\n",
    "# create a KNN classifier object\n",
    "accs = {}\n",
    "for k in range(50):\n",
    "    k = k+1\n",
    "    knn = KNeighborsClassifier(n_neighbors=k)\n",
    "\n",
    "    # fit the KNN classifier to the training data\n",
    "    knn.fit(X_train, y_train)\n",
    "\n",
    "    # make predictions on the testing data\n",
    "    y_pred = knn.predict(X_test)\n",
    "\n",
    "    # calculate the accuracy of the KNN classifier\n",
    "    acc = accuracy_score(y_test, y_pred)\n",
    "    accs[k] = acc\n",
    "plt.bar(accs.keys(), accs.values())\n",
    "plt.show()\n",
    "max_value = max(accs.values())\n",
    "max_key = max(accs, key=lambda k: accs[k])\n",
    "\n",
    "# print the result\n",
    "print(\"Maximum Accuracy for Knn:\", max_value)\n",
    "print(\"K:\", max_key)\n",
    "\n",
    "\n",
    "\n"
   ]
  }
 ],
 "metadata": {
  "kernelspec": {
   "display_name": "base",
   "language": "python",
   "name": "python3"
  },
  "language_info": {
   "codemirror_mode": {
    "name": "ipython",
    "version": 3
   },
   "file_extension": ".py",
   "mimetype": "text/x-python",
   "name": "python",
   "nbconvert_exporter": "python",
   "pygments_lexer": "ipython3",
   "version": "3.8.8"
  },
  "orig_nbformat": 4
 },
 "nbformat": 4,
 "nbformat_minor": 2
}
