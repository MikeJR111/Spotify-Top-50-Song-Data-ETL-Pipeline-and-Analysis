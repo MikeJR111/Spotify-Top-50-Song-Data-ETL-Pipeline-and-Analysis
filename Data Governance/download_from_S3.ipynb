{
 "cells": [
  {
   "cell_type": "code",
   "execution_count": 1,
   "metadata": {},
   "outputs": [],
   "source": [
    "import sys\n",
    "sys.path.insert(0, 'E:\\\\StuDY\\\\Keys')\n",
    "from db_credentials import *\n",
    "import boto3\n",
    "import json\n",
    "import os\n",
    "import pandas as pd"
   ]
  },
  {
   "cell_type": "code",
   "execution_count": 4,
   "metadata": {},
   "outputs": [],
   "source": [
    "# Set up S3 client\n",
    "s3 = boto3.client('s3', aws_access_key_id = ACCESS_KEY_ID,  aws_secret_access_key = SECRET_ACCESS_KEY)\n",
    "\n",
    "# Specify S3 bucket name and folder prefix\n",
    "bucket_name = Bucket_Name\n",
    "folder_prefix = Folder_Prefix\n",
    "objects = s3.list_objects_v2(Bucket=bucket_name, Prefix=folder_prefix)['Contents']\n",
    "cwd = os.getcwd()\n",
    "# Download each object in the folder\n",
    "skip = 0\n",
    "data_list = os.listdir(os.getcwd() + '\\\\spotify_data')\n",
    "for obj in objects:\n",
    "    s3.download_file(bucket_name, obj['Key'], './spotify_data/'+obj['Key'].split('/')[-1])\n",
    "\n"
   ]
  }
 ],
 "metadata": {
  "kernelspec": {
   "display_name": "base",
   "language": "python",
   "name": "python3"
  },
  "language_info": {
   "codemirror_mode": {
    "name": "ipython",
    "version": 3
   },
   "file_extension": ".py",
   "mimetype": "text/x-python",
   "name": "python",
   "nbconvert_exporter": "python",
   "pygments_lexer": "ipython3",
   "version": "3.8.8"
  },
  "orig_nbformat": 4
 },
 "nbformat": 4,
 "nbformat_minor": 2
}
