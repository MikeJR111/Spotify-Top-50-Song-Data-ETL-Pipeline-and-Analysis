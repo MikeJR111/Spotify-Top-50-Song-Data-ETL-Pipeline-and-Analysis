{
 "cells": [
  {
   "cell_type": "code",
   "execution_count": 1,
   "metadata": {},
   "outputs": [],
   "source": [
    "import sys\n",
    "sys.path.insert(0, 'D:\\\\StuDY\\\\2023 interview prepare')\n",
    "from db_credentials import *\n",
    "import mysql.connector\n",
    "from mysql.connector import Error\n",
    "import boto3\n",
    "import json\n",
    "import os\n",
    "import pandas as pd"
   ]
  },
  {
   "cell_type": "code",
   "execution_count": null,
   "metadata": {},
   "outputs": [],
   "source": [
    "\n",
    "# Set up S3 client\n",
    "s3 = boto3.client('s3', aws_access_key_id = ACCESS_KEY_ID,  aws_secret_access_key = SECRET_ACCESS_KEY)\n",
    "\n",
    "# Specify S3 bucket name and folder prefix\n",
    "bucket_name = Bucket_Name\n",
    "folder_prefix = Folder_Prefix\n",
    "objects = s3.list_objects_v2(Bucket=bucket_name, Prefix=folder_prefix)['Contents']\n",
    "cwd = os.getcwd()\n",
    "# Download each object in the folder\n",
    "skip = 0\n",
    "data_list = os.listdir(os.getcwd() + '\\\\data')\n",
    "for obj in objects:\n",
    "    if skip != 0:\n",
    "        path, filename = os.path.split(obj['Key'])\n",
    "        if filename not in dir_list:\n",
    "            # Set the local file path where the file will be downloaded\n",
    "            # Download the file from S3 to local\n",
    "            s3.download_file(bucket_name, obj['Key'], './data/'+filename)\n",
    "    skip = 1\n",
    "\n"
   ]
  },
  {
   "cell_type": "code",
   "execution_count": null,
   "metadata": {},
   "outputs": [],
   "source": [
    "path = os.getcwd()+ '\\\\Data governance\\\\data'\n",
    "data_list = os.listdir(os.getcwd()+ '\\\\Data governance\\\\data') \n",
    "dfs = []\n",
    "for file in  data_list:\n",
    "    df = pd.read_json(path+'\\\\'+file)\n",
    "    dfs.append(df)\n",
    "    combined_df = pd.concat(dfs, ignore_index=True)\n",
    "combined_df.head()"
   ]
  }
 ],
 "metadata": {
  "kernelspec": {
   "display_name": "base",
   "language": "python",
   "name": "python3"
  },
  "language_info": {
   "codemirror_mode": {
    "name": "ipython",
    "version": 3
   },
   "file_extension": ".py",
   "mimetype": "text/x-python",
   "name": "python",
   "nbconvert_exporter": "python",
   "pygments_lexer": "ipython3",
   "version": "3.8.8"
  },
  "orig_nbformat": 4
 },
 "nbformat": 4,
 "nbformat_minor": 2
}
