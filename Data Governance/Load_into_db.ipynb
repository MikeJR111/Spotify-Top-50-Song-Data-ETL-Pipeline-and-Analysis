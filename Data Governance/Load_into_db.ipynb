{
 "cells": [
  {
   "cell_type": "code",
   "execution_count": 1,
   "metadata": {},
   "outputs": [],
   "source": [
    "import sys\n",
    "sys.path.insert(0, 'D:\\\\StuDY\\\\2023 interview prepare')\n",
    "from db_credentials import *\n",
    "import mysql.connector\n",
    "from mysql.connector import Error\n",
    "import boto3\n",
    "import json\n",
    "import os\n",
    "import pandas as pd"
   ]
  },
  {
   "cell_type": "code",
   "execution_count": null,
   "metadata": {},
   "outputs": [],
   "source": [
    "try:\n",
    "    # Connect to the database\n",
    "    connection = mysql.connector.connect(\n",
    "        host=DB_HOST,\n",
    "        database=DB_NAME,\n",
    "        user=DB_USER,\n",
    "        password=DB_PASSWORD\n",
    "    )\n",
    "    cursor = connection.cursor()\n",
    "except Error as e:\n",
    "    print(f\"Error connecting to MySQL database: {e}\")\n",
    "\n",
    "\n",
    "# Set up S3 client\n",
    "s3 = boto3.client('s3', aws_access_key_id = ACCESS_KEY_ID,  aws_secret_access_key = SECRET_ACCESS_KEY)\n",
    "\n",
    "# Specify S3 bucket name and folder prefix\n",
    "bucket_name = Bucket_Name\n",
    "folder_prefix = Folder_Prefix\n",
    "\n",
    "files = s3.list_objects_v2(Bucket=bucket_name, Prefix=folder_prefix)\n",
    "\n",
    "file_list = []\n",
    "object_list = []\n",
    "for file in files['Contents']:\n",
    "    folder_name = file['Key'].split('/')[-1]\n",
    "    if len(folder_name) !=0:\n",
    "        s3_object = s3.get_object(Bucket=Bucket_Name, Key=file['Key'])\n",
    "        file_content = s3_object['Body'].read().decode('utf-8')\n",
    "        jsonObject = json.loads(file_content)       \n",
    "        df = pd.DataFrame.from_dict(jsonObject) \n",
    "        file_list.append(folder_name)\n",
    "        for index, row in df.iterrows():\n",
    "            sql = \"INSERT ignore INTO Albums (album_id, album_name, album_type, album_tracks, album_url, album_release_date) VALUES (%s, %s, %s, %s, %s, %s)\"\n",
    "            val = (row['album_id'], row['album_name'], row['album_type'], row['album_tracks'], row['album_url'], row['album_release_date'])\n",
    "            cursor.execute(sql, val)\n",
    "            connection.commit()\n",
    "\n",
    "            # SQL query to insert a new record into the Artists table\n",
    "            sql = \"INSERT ignore INTO Artists (artist_id, artist_name, artist_url, artist_genre, artist_followers, artist_popularity, record_date) VALUES (%s, %s, %s, %s, %s, %s)\"\n",
    "            val = (row['artist_id'], row['artist_name'], row['artist_url'], ','.join(row['artist_genre']), row['artist_followers'], row['artist_popularity'], row['record_date'])\n",
    "            cursor.execute(sql, val)\n",
    "            connection.commit()\n",
    "\n",
    "            # SQL query to insert a new record into the Tracks table\n",
    "            sql = \"INSERT INTO Tracks (track_id, album_id, artist_id, record_date, track_url, track_popularity, danceability, energy, key_, loudness, mode_, speechiness, acousticness, instrumentalness, liveness, valence, tempo, duration_ms, time_signature) VALUES (%s, %s, %s, %s, %s, %s, %s, %s, %s, %s, %s, %s, %s, %s, %s, %s, %s, %s, %s)\"\n",
    "            val = (row['track_id'], row['album_id'], row['artist_id'], row['record_date'], row['track_url'], row['track_popularity'], row['danceability'], row['energy'], row['key'], row['loudness'], row['mode'], row['speechiness'], row['acousticness'], row['instrumentalness'], row['liveness'], row['valence'], row['tempo'], row['duration_ms'], row['time_signature'])\n",
    "            cursor.execute(sql, val)\n",
    "            connection.commit()"
   ]
  },
  {
   "cell_type": "code",
   "execution_count": null,
   "metadata": {},
   "outputs": [],
   "source": [
    "# Close the database connection\n",
    "if connection.is_connected():\n",
    "    cursor.close()\n",
    "    connection.close()\n",
    "    print(\"MySQL connection closed\")"
   ]
  },
  {
   "cell_type": "code",
   "execution_count": 35,
   "metadata": {},
   "outputs": [],
   "source": [
    "\n",
    "\n"
   ]
  },
  {
   "cell_type": "code",
   "execution_count": null,
   "metadata": {},
   "outputs": [],
   "source": []
  }
 ],
 "metadata": {
  "kernelspec": {
   "display_name": "base",
   "language": "python",
   "name": "python3"
  },
  "language_info": {
   "codemirror_mode": {
    "name": "ipython",
    "version": 3
   },
   "file_extension": ".py",
   "mimetype": "text/x-python",
   "name": "python",
   "nbconvert_exporter": "python",
   "pygments_lexer": "ipython3",
   "version": "3.8.8"
  },
  "orig_nbformat": 4
 },
 "nbformat": 4,
 "nbformat_minor": 2
}
